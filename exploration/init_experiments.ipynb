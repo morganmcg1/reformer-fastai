{
  "nbformat": 4,
  "nbformat_minor": 0,
  "metadata": {
    "colab": {
      "name": "lm_init_experiments.ipynb",
      "provenance": [],
      "collapsed_sections": [
        "TVdS68Xpzzc0",
        "xkoiu1NwuQGT"
      ],
      "authorship_tag": "ABX9TyPlQ5YRlMKcLl1n0GSk8t5P",
      "include_colab_link": true
    },
    "kernelspec": {
      "name": "python3",
      "display_name": "Python 3"
    },
    "accelerator": "GPU"
  },
  "cells": [
    {
      "cell_type": "markdown",
      "metadata": {
        "id": "view-in-github",
        "colab_type": "text"
      },
      "source": [
        "<a href=\"https://colab.research.google.com/github/morganmcg1/reformer-fastai/blob/main/exploration/init_experiments.ipynb\" target=\"_parent\"><img src=\"https://colab.research.google.com/assets/colab-badge.svg\" alt=\"Open In Colab\"/></a>"
      ]
    },
    {
      "cell_type": "code",
      "metadata": {
        "id": "t3YATJK5ESAm"
      },
      "source": [
        "import sys\n",
        "if 'google.colab' in sys.modules:\n",
        "    !pip install -Uqq fastai einops datasets"
      ],
      "execution_count": 1,
      "outputs": []
    },
    {
      "cell_type": "code",
      "metadata": {
        "id": "OOEbl-UAEvdW"
      },
      "source": [
        "from fastai.text.all import *\n",
        "import datasets\n",
        "from datasets import load_dataset\n",
        "import six"
      ],
      "execution_count": 2,
      "outputs": []
    },
    {
      "cell_type": "code",
      "metadata": {
        "colab": {
          "base_uri": "https://localhost:8080/"
        },
        "id": "B-2BsP8XoqZk",
        "outputId": "aa09629e-e3d7-4d6c-8cbc-6fb014f64056"
      },
      "source": [
        "dataset = load_dataset('tiny_shakespeare')"
      ],
      "execution_count": 3,
      "outputs": [
        {
          "output_type": "stream",
          "text": [
            "Using custom data configuration default\n",
            "Reusing dataset tiny_shakespeare (/root/.cache/huggingface/datasets/tiny_shakespeare/default/1.0.0/da11b9a200ca715af415094b34d5c956170f184cb3a58d7789680cf81bede955)\n"
          ],
          "name": "stderr"
        }
      ]
    },
    {
      "cell_type": "code",
      "metadata": {
        "id": "F-td1YZIO-3D"
      },
      "source": [
        "train_ds = dataset['train']"
      ],
      "execution_count": 4,
      "outputs": []
    },
    {
      "cell_type": "code",
      "metadata": {
        "id": "Gp0CNO4xRC_8"
      },
      "source": [
        "def splitlines(sample):\n",
        "    return {'line':[*sample['text'][0].split('\\n')]}"
      ],
      "execution_count": 5,
      "outputs": []
    },
    {
      "cell_type": "code",
      "metadata": {
        "colab": {
          "base_uri": "https://localhost:8080/"
        },
        "id": "ydUHnex1PI5G",
        "outputId": "7b9b2a9f-b32a-4b5c-a289-ef47f5b85c38"
      },
      "source": [
        "train_ds = train_ds.map(splitlines, batched=True, remove_columns=['text'])"
      ],
      "execution_count": 6,
      "outputs": [
        {
          "output_type": "stream",
          "text": [
            "Loading cached processed dataset at /root/.cache/huggingface/datasets/tiny_shakespeare/default/1.0.0/da11b9a200ca715af415094b34d5c956170f184cb3a58d7789680cf81bede955/cache-a677cb7a72f76126.arrow\n"
          ],
          "name": "stderr"
        }
      ]
    },
    {
      "cell_type": "code",
      "metadata": {
        "colab": {
          "base_uri": "https://localhost:8080/"
        },
        "id": "W-Kc7DP-POTN",
        "outputId": "48a0e5c6-372f-43cd-fb1a-494a0234e6b7"
      },
      "source": [
        "train_ds = train_ds.filter(lambda x: x['line'] != '')"
      ],
      "execution_count": 7,
      "outputs": [
        {
          "output_type": "stream",
          "text": [
            "Loading cached processed dataset at /root/.cache/huggingface/datasets/tiny_shakespeare/default/1.0.0/da11b9a200ca715af415094b34d5c956170f184cb3a58d7789680cf81bede955/cache-5d990099acc0cb8c.arrow\n"
          ],
          "name": "stderr"
        }
      ]
    },
    {
      "cell_type": "code",
      "metadata": {
        "colab": {
          "base_uri": "https://localhost:8080/"
        },
        "id": "mAc_2ZbGT8vc",
        "outputId": "e6f171de-996b-435e-86d3-b4b667be5bb4"
      },
      "source": [
        "train_ds[:10]"
      ],
      "execution_count": 8,
      "outputs": [
        {
          "output_type": "execute_result",
          "data": {
            "text/plain": [
              "OrderedDict([('line',\n",
              "              ['First Citizen:',\n",
              "               'Before we proceed any further, hear me speak.',\n",
              "               'All:',\n",
              "               'Speak, speak.',\n",
              "               'First Citizen:',\n",
              "               'You are all resolved rather to die than to famish?',\n",
              "               'All:',\n",
              "               'Resolved. resolved.',\n",
              "               'First Citizen:',\n",
              "               'First, you know Caius Marcius is chief enemy to the people.'])])"
            ]
          },
          "metadata": {
            "tags": []
          },
          "execution_count": 8
        }
      ]
    },
    {
      "cell_type": "code",
      "metadata": {
        "colab": {
          "base_uri": "https://localhost:8080/",
          "height": 225
        },
        "id": "VhwKUnDQUm15",
        "outputId": "78007bde-a673-49d8-e6af-fa9dc0e3b724"
      },
      "source": [
        "df = train_ds.data.to_pandas()\n",
        "df.head()"
      ],
      "execution_count": 9,
      "outputs": [
        {
          "output_type": "execute_result",
          "data": {
            "text/html": [
              "<div>\n",
              "<style scoped>\n",
              "    .dataframe tbody tr th:only-of-type {\n",
              "        vertical-align: middle;\n",
              "    }\n",
              "\n",
              "    .dataframe tbody tr th {\n",
              "        vertical-align: top;\n",
              "    }\n",
              "\n",
              "    .dataframe thead th {\n",
              "        text-align: right;\n",
              "    }\n",
              "</style>\n",
              "<table border=\"1\" class=\"dataframe\">\n",
              "  <thead>\n",
              "    <tr style=\"text-align: right;\">\n",
              "      <th></th>\n",
              "      <th>line</th>\n",
              "    </tr>\n",
              "  </thead>\n",
              "  <tbody>\n",
              "    <tr>\n",
              "      <th>0</th>\n",
              "      <td>First Citizen:</td>\n",
              "    </tr>\n",
              "    <tr>\n",
              "      <th>1</th>\n",
              "      <td>Before we proceed any further, hear me speak.</td>\n",
              "    </tr>\n",
              "    <tr>\n",
              "      <th>2</th>\n",
              "      <td>All:</td>\n",
              "    </tr>\n",
              "    <tr>\n",
              "      <th>3</th>\n",
              "      <td>Speak, speak.</td>\n",
              "    </tr>\n",
              "    <tr>\n",
              "      <th>4</th>\n",
              "      <td>First Citizen:</td>\n",
              "    </tr>\n",
              "  </tbody>\n",
              "</table>\n",
              "</div>"
            ],
            "text/plain": [
              "                                            line\n",
              "0                                 First Citizen:\n",
              "1  Before we proceed any further, hear me speak.\n",
              "2                                           All:\n",
              "3                                  Speak, speak.\n",
              "4                                 First Citizen:"
            ]
          },
          "metadata": {
            "tags": []
          },
          "execution_count": 9
        }
      ]
    },
    {
      "cell_type": "code",
      "metadata": {
        "id": "QuScE3-eWDKb"
      },
      "source": [
        "class ByteTextTokenizer(Transform):\n",
        "    \"\"\"\n",
        "        Encodes each byte to an id. For 8-bit strings only.\n",
        "        Credit: https://github.com/tensorflow/tensor2tensor/blob/5f9dd2db6d7797162e53adf152310ed13e9fc711/tensor2tensor/data_generators/text_encoder.py#L176\n",
        "    \"\"\"\n",
        "    def __init__(self, is_lm=True, add_bos=False, add_eos=False):\n",
        "        self.ls_lm = is_lm\n",
        "        self.add_bos, self.add_eos = add_bos, add_eos\n",
        "        self.pad_token, self.eos_token, self.bos_token = '<pad>', '<eos>', '<bos>',\n",
        "        self.pad_token_id, self.eos_token_id, self.bos_token_id = 0,1,2\n",
        "        self.reserved_toks = [self.pad_token, self.eos_token, self.bos_token]  ## self.bos_token_id \n",
        "        self.reserved_tokens_bytes = [bytes(rtok, 'ascii') for rtok in self.reserved_toks]\n",
        "        self.numres = len(self.reserved_toks)\n",
        "        self.int2byte = six.int2byte\n",
        "\n",
        "    @typedispatch\n",
        "    def __call__(self, o:list, **kwargs):\n",
        "        out = [c + self.numres for s in o for c in s.encode(\"utf-8\")]\n",
        "        if self.add_bos: out = [self.bos_token_id] + out\n",
        "        if self.add_eos: out =  out + [self.eos_token_id]\n",
        "        if self.ls_lm:return LMTensorText(out)\n",
        "        else: return TensorText(out) \n",
        "        \n",
        "    @typedispatch\n",
        "    def __call__(self, o:str, **kwargs):\n",
        "        out = [c + self.numres for c in o.encode(\"utf-8\")]\n",
        "        if self.add_bos: out = [self.bos_token_id] + out\n",
        "        if self.add_eos: out =  out + [self.eos_token_id]\n",
        "        if self.ls_lm:return LMTensorText(out)\n",
        "        else: return TensorText(out) \n",
        "    \n",
        "    def encodes(self,o):\n",
        "        return self.__call__(o)\n",
        "    \n",
        "    def decodes(self, o:tuple):\n",
        "        decoded_ids = ()\n",
        "        for i in o:\n",
        "            tmp_ls=[]\n",
        "            for id_ in i:\n",
        "                if 0 <= id_ < self.numres: tmp_ls.append(self.reserved_tokens_bytes[int(id_)])\n",
        "                else: tmp_ls.append(self.int2byte(id_ - self.numres))\n",
        "            decoded_ids = decoded_ids + (b\"\".join(tmp_ls).decode(\"utf-8\", \"replace\"),)\n",
        "        return TitledStr(decoded_ids)\n",
        "    \n",
        "    def decodes(self, o:list):\n",
        "        decoded_ids = []\n",
        "        for id_ in o:\n",
        "            if 0 <= id_ < self.numres: decoded_ids.append(self.reserved_tokens_bytes[int(id_)])\n",
        "            else: decoded_ids.append(self.int2byte(id_ - self.numres))\n",
        "        return TitledStr(b\"\".join(decoded_ids).decode(\"utf-8\", \"replace\"))\n",
        "    \n",
        "    def decodes(self, o:TensorText):\n",
        "        return self.decodes(o.tolist())\n",
        "    \n",
        "    def decodes(self, o:LMTensorText):\n",
        "        return self.decodes(o.tolist())\n",
        "    \n",
        "    @property\n",
        "    def vocab_size(self): return 2**8 + self.numres"
      ],
      "execution_count": 10,
      "outputs": []
    },
    {
      "cell_type": "code",
      "metadata": {
        "id": "-P9AcA3nWFzo"
      },
      "source": [
        "bte = ByteTextTokenizer(is_lm=True, add_bos=True, add_eos=True)"
      ],
      "execution_count": 11,
      "outputs": []
    },
    {
      "cell_type": "code",
      "metadata": {
        "id": "mRqcxKTkWFxR"
      },
      "source": [
        "@patch\n",
        "def create_item(self:LMDataLoader, seq):\n",
        "    if seq>=self.n: raise IndexError\n",
        "    sl = self.last_len if seq//self.bs==self.n_batches-1 else self.seq_len\n",
        "    st = (seq%self.bs)*self.bl + (seq//self.bs)*self.seq_len\n",
        "    txt = self.chunks[st : st+sl+1]    \n",
        "    return LMTensorText(txt[:-1]),txt[1:]\n",
        "    # return LMTensorText(txt[:-1].tolist()+[1]), LMTensorText(txt[1:].tolist()+[1])   ## ADD EOS TOKEN"
      ],
      "execution_count": 12,
      "outputs": []
    },
    {
      "cell_type": "code",
      "metadata": {
        "id": "zn8sh1tkBOrD"
      },
      "source": [
        "cut = int(len(df)*0.8)\n",
        "splits = range_of(df)[:cut], range_of(df[cut:])"
      ],
      "execution_count": 13,
      "outputs": []
    },
    {
      "cell_type": "code",
      "metadata": {
        "id": "W31Lg4EcXSd7"
      },
      "source": [
        "tfms = [attrgetter(\"line\"), bte]\n",
        "dsets = Datasets(df, [tfms, tfms], splits=splits, dl_type=LMDataLoader)"
      ],
      "execution_count": 14,
      "outputs": []
    },
    {
      "cell_type": "code",
      "metadata": {
        "colab": {
          "base_uri": "https://localhost:8080/"
        },
        "id": "tisxn2gzDHQ1",
        "outputId": "4e53b6d6-a43c-4c5e-d641-640892c631df"
      },
      "source": [
        "dsets[0]"
      ],
      "execution_count": 15,
      "outputs": [
        {
          "output_type": "execute_result",
          "data": {
            "text/plain": [
              "(LMTensorText([  2,  73, 108, 117, 118, 119,  35,  70, 108, 119, 108, 125, 104, 113,\n",
              "          61,   1]),\n",
              " LMTensorText([  2,  73, 108, 117, 118, 119,  35,  70, 108, 119, 108, 125, 104, 113,\n",
              "          61,   1]))"
            ]
          },
          "metadata": {
            "tags": []
          },
          "execution_count": 15
        }
      ]
    },
    {
      "cell_type": "code",
      "metadata": {
        "colab": {
          "base_uri": "https://localhost:8080/",
          "height": 37
        },
        "id": "eqTttPwdEx3J",
        "outputId": "2414007f-baf8-4ccc-9ed8-a6f59680b539"
      },
      "source": [
        "bte.decode(_[0])"
      ],
      "execution_count": 16,
      "outputs": [
        {
          "output_type": "execute_result",
          "data": {
            "application/vnd.google.colaboratory.intrinsic+json": {
              "type": "string"
            },
            "text/plain": [
              "'<bos>First Citizen:<eos>'"
            ]
          },
          "metadata": {
            "tags": []
          },
          "execution_count": 16
        }
      ]
    },
    {
      "cell_type": "code",
      "metadata": {
        "id": "WzMKdwBNXSU3"
      },
      "source": [
        "bs,sl = 32,128\n",
        "pad_seq2seq = partial(pad_input, pad_idx=bte.pad_token_id, pad_fields=[0,1])\n",
        "\n",
        "dls = dsets.dataloaders(bs=bs, seq_len=sl, before_batch=pad_seq2seq, device=torch.device('cuda'))"
      ],
      "execution_count": 17,
      "outputs": []
    },
    {
      "cell_type": "code",
      "metadata": {
        "id": "XifUB2_pFMZd",
        "colab": {
          "base_uri": "https://localhost:8080/",
          "height": 198
        },
        "outputId": "d390301b-4be8-4070-daa0-ed640c064626"
      },
      "source": [
        "dls.show_batch(max_n=2)"
      ],
      "execution_count": 18,
      "outputs": [
        {
          "output_type": "display_data",
          "data": {
            "text/html": [
              "<table border=\"1\" class=\"dataframe\">\n",
              "  <thead>\n",
              "    <tr style=\"text-align: right;\">\n",
              "      <th></th>\n",
              "      <th>text</th>\n",
              "      <th>text_</th>\n",
              "    </tr>\n",
              "  </thead>\n",
              "  <tbody>\n",
              "    <tr>\n",
              "      <th>0</th>\n",
              "      <td>&lt;bos&gt;Roman:&lt;eos&gt;&lt;bos&gt;CAMILLO:&lt;eos&gt;&lt;bos&gt;For this will out, and here I must not stay.&lt;eos&gt;&lt;bos&gt;Madam, he hath not slept tonight; commanded&lt;eos&gt;&lt;bos&gt;About what?&lt;eos&gt;&lt;bos&gt;man.&lt;eos&gt;</td>\n",
              "      <td>Roman:&lt;eos&gt;&lt;bos&gt;CAMILLO:&lt;eos&gt;&lt;bos&gt;For this will out, and here I must not stay.&lt;eos&gt;&lt;bos&gt;Madam, he hath not slept tonight; commanded&lt;eos&gt;&lt;bos&gt;About what?&lt;eos&gt;&lt;bos&gt;man.&lt;eos&gt;&lt;bos&gt;</td>\n",
              "    </tr>\n",
              "    <tr>\n",
              "      <th>1</th>\n",
              "      <td>s she hangs upon the cheek of night&lt;eos&gt;&lt;bos&gt;TYBALT:&lt;eos&gt;&lt;bos&gt;CORIOLANUS:&lt;eos&gt;&lt;bos&gt;Call for some men of sound direction&lt;eos&gt;&lt;bos&gt;And die, ere men can say, God s</td>\n",
              "      <td>she hangs upon the cheek of night&lt;eos&gt;&lt;bos&gt;TYBALT:&lt;eos&gt;&lt;bos&gt;CORIOLANUS:&lt;eos&gt;&lt;bos&gt;Call for some men of sound direction&lt;eos&gt;&lt;bos&gt;And die, ere men can say, God sa</td>\n",
              "    </tr>\n",
              "  </tbody>\n",
              "</table>"
            ],
            "text/plain": [
              "<IPython.core.display.HTML object>"
            ]
          },
          "metadata": {
            "tags": []
          }
        }
      ]
    },
    {
      "cell_type": "code",
      "metadata": {
        "id": "GLcebrjYF-0b",
        "colab": {
          "base_uri": "https://localhost:8080/"
        },
        "outputId": "9fa295ad-0825-4fb6-e554-4b1118e34cdd"
      },
      "source": [
        "xb, yb = dls.one_batch()\n",
        "xb.shape, yb.shape"
      ],
      "execution_count": 19,
      "outputs": [
        {
          "output_type": "execute_result",
          "data": {
            "text/plain": [
              "(torch.Size([32, 128]), torch.Size([32, 128]))"
            ]
          },
          "metadata": {
            "tags": []
          },
          "execution_count": 19
        }
      ]
    },
    {
      "cell_type": "code",
      "metadata": {
        "colab": {
          "base_uri": "https://localhost:8080/"
        },
        "id": "L5c7XU9MMb3E",
        "outputId": "d70a9b2b-49e2-4ef9-e970-394bf3d55984"
      },
      "source": [
        "!wget https://raw.githubusercontent.com/morganmcg1/reformer-fastai/main/basic_transformer.py"
      ],
      "execution_count": 20,
      "outputs": [
        {
          "output_type": "stream",
          "text": [
            "--2020-11-19 21:17:06--  https://raw.githubusercontent.com/morganmcg1/reformer-fastai/main/basic_transformer.py\n",
            "Resolving raw.githubusercontent.com (raw.githubusercontent.com)... 151.101.0.133, 151.101.64.133, 151.101.128.133, ...\n",
            "Connecting to raw.githubusercontent.com (raw.githubusercontent.com)|151.101.0.133|:443... connected.\n",
            "HTTP request sent, awaiting response... 200 OK\n",
            "Length: 17403 (17K) [text/plain]\n",
            "Saving to: ‘basic_transformer.py’\n",
            "\n",
            "\rbasic_transformer.p   0%[                    ]       0  --.-KB/s               \rbasic_transformer.p 100%[===================>]  17.00K  --.-KB/s    in 0s      \n",
            "\n",
            "2020-11-19 21:17:06 (149 MB/s) - ‘basic_transformer.py’ saved [17403/17403]\n",
            "\n"
          ],
          "name": "stdout"
        }
      ]
    },
    {
      "cell_type": "code",
      "metadata": {
        "id": "rwJgdEjyGLmx"
      },
      "source": [
        "from basic_transformer import TransformerLM"
      ],
      "execution_count": 21,
      "outputs": []
    },
    {
      "cell_type": "code",
      "metadata": {
        "id": "XBbXQvsHT24y"
      },
      "source": [
        "# credits to @lucidrains https://github.com/lucidrains\n",
        "\n",
        "import torch\n",
        "from torch import nn, einsum\n",
        "import torch.nn.functional as F\n",
        "from functools import partial\n",
        "from inspect import isfunction\n",
        "\n",
        "from einops import rearrange, repeat\n",
        "\n",
        "# helpers\n",
        "\n",
        "def exists(val):\n",
        "    return val is not None\n",
        "\n",
        "def default(val, d):\n",
        "    if exists(val):\n",
        "        return val\n",
        "    return d() if isfunction(d) else d\n",
        "\n",
        "def expand_dim1(x):\n",
        "    if len(x.shape) == 1:\n",
        "        return x[None, :]\n",
        "    else: return x\n",
        "\n",
        "# generative helpers\n",
        "# credit https://github.com/huggingface/transformers/blob/a0c62d249303a68f5336e3f9a96ecf9241d7abbe/src/transformers/generation_logits_process.py\n",
        "def top_p_filter(logits, top_p=0.9):\n",
        "    sorted_logits, sorted_indices = torch.sort(logits, descending=True)\n",
        "    cum_probs = torch.cumsum(F.softmax(sorted_logits, dim=-1), dim=-1)\n",
        "\n",
        "    sorted_indices_to_remove = cum_probs > top_p\n",
        "    sorted_indices_to_remove[..., 1:] = sorted_indices_to_remove[..., :-1].clone()\n",
        "    sorted_indices_to_remove[..., 0] = 0\n",
        "    # if min_tokens_to_keep > 1:\n",
        "    #         # Keep at least min_tokens_to_keep (set to min_tokens_to_keep-1 because we add the first one below)\n",
        "    #         sorted_indices_to_remove[..., : min_tokens_to_keep - 1] = 0\n",
        "    indices_to_remove = sorted_indices_to_remove.scatter(1, sorted_indices, sorted_indices_to_remove)\n",
        "    scores[indices_to_remove] = float('-inf')\n",
        "    return scores\n",
        "\n",
        "def top_k_filter(logits, top_k=20):\n",
        "    indices_to_remove = logits < torch.topk(logits, top_k)[0][..., -1, None]\n",
        "    logits[indices_to_remove] = float('-inf')\n",
        "    return logits\n",
        "\n",
        "_sampler = {\n",
        "    'top_k':top_k_filter,\n",
        "    'top_p':top_p_filter,\n",
        "    'gready':lambda x: x.argmax(-1)\n",
        "}\n",
        "\n",
        "\"\"\"## Helpers and FeedForward\"\"\"\n",
        "\n",
        "# helper classes \n",
        "# based on https://github.com/lucidrains/all-normalization-transformer/blob/master/all_normalization_transformer/all_normalization_transformer.py\n",
        "\n",
        "class Residual(nn.Module):\n",
        "    def __init__(self, fn):\n",
        "        super().__init__()\n",
        "        self.fn = fn\n",
        "\n",
        "    def forward(self, x, *args, **kwargs):\n",
        "        return self.fn(x, *args, **kwargs) + x\n",
        "# Added *args, **kwargs here to pass context and masks\n",
        "class PostNorm(nn.Module):\n",
        "    def __init__(self, dim, fn):\n",
        "        super().__init__()\n",
        "        self.fn = fn\n",
        "        self.norm = nn.LayerNorm(dim)\n",
        "\n",
        "    def forward(self, x, *args, **kwargs):\n",
        "        x = self.fn(x)\n",
        "        return self.norm(x, *args, **kwargs)\n",
        "\n",
        "class PreNorm(nn.Module):\n",
        "    def __init__(self, dim, fn):\n",
        "        super().__init__()\n",
        "        self.fn = fn\n",
        "        self.norm = nn.LayerNorm(dim)\n",
        "\n",
        "    def forward(self, x, *args, **kwargs):\n",
        "        x = self.norm(x)\n",
        "        return self.fn(x, *args, **kwargs)\n",
        "\n",
        "class FeedForward(nn.Module):\n",
        "    def __init__(self, dim, mult = 4, dropout=0.):\n",
        "        super().__init__()\n",
        "        self.net = nn.Sequential(\n",
        "            nn.Linear(dim, dim * 4),\n",
        "            nn.GELU(),\n",
        "            nn.Dropout(dropout),\n",
        "            nn.Linear(dim * 4, dim),\n",
        "            nn.Dropout(dropout)\n",
        "        )\n",
        "    def forward(self, x):\n",
        "        return self.net(x)\n",
        "\n",
        "\n",
        "\"\"\"## Attention\"\"\"\n",
        "\n",
        "MASK_VAL = -1e4 # instead of float('-inf') to make fp16 work\n",
        "\n",
        "class Attention(nn.Module):\n",
        "    def __init__(self, \n",
        "                 dim, \n",
        "                 heads = 8, \n",
        "                 causal = False,\n",
        "                 mask = None,\n",
        "                 dropout=0.1):\n",
        "        super().__init__()\n",
        "        self.causal = causal\n",
        "        self.store_attention = False\n",
        "        self.mask = mask #??\n",
        "        self.heads = heads\n",
        "        self.scale = dim ** -0.5\n",
        "        \n",
        "        self.to_q = nn.Linear(dim, dim, bias = False)\n",
        "        self.to_kv = nn.Linear(dim, dim * 2, bias = False)\n",
        "        self.dropout = nn.Dropout(dropout)\n",
        "\n",
        "        self.to_out = nn.Linear(dim, dim)\n",
        "\n",
        "    def forward(self, x, context = None, mask = None, context_mask = None, store_attention=False):\n",
        "        b, n, _, h, device = *x.shape, self.heads, x.device\n",
        "        kv_input = default(context, x)\n",
        "\n",
        "        q = self.to_q(x) # replaced q_ with q (don't need to store it fore basic tfmr)\n",
        "        kv = self.to_kv(kv_input).chunk(2, dim = -1)\n",
        "\n",
        "        q, k, v = map(lambda t: rearrange(t, 'b n (h d) -> b h n d', h = h), (q, *kv))\n",
        "        # boolean input_mask is False at positions not to attend to\n",
        "        input_mask = None\n",
        "        if any(map(exists, (mask, context_mask))):\n",
        "            q_mask = default(mask, lambda: torch.ones((b, n), device = device).bool())\n",
        "            k_mask = q_mask if not exists(context) else context_mask\n",
        "            k_mask = default(k_mask, lambda: torch.ones((b, k.shape[-2]), device = device).bool())\n",
        "            q_mask = rearrange(q_mask, 'b i -> b () i ()')\n",
        "            k_mask = rearrange(k_mask, 'b j -> b () () j')\n",
        "            input_mask = q_mask * k_mask\n",
        "        # classic dot-product attention\n",
        "        dots = torch.einsum('bhid,bhjd->bhij', q, k) * self.scale\n",
        "        # might need to tune MASK_VAL for fp16 to work\n",
        "        if exists(input_mask):\n",
        "            dots.masked_fill_(~input_mask, MASK_VAL)\n",
        "            del input_mask\n",
        "\n",
        "        if self.causal:\n",
        "            i, j = dots.shape[-2:]\n",
        "            mask = torch.ones((i, j), device = device).triu_(j - i + 1).bool()\n",
        "            dots.masked_fill_(mask, MASK_VAL)\n",
        "            del mask\n",
        "\n",
        "        attn = F.softmax(dots, -1)\n",
        "        if self.store_attention: # and not self.training\n",
        "            self.attention = attn.detach().cpu()\n",
        "        attn = self.dropout(attn)\n",
        "\n",
        "        out = torch.einsum('bhij,bhjd->bhid', attn, v)\n",
        "        out = rearrange(out, 'b h n d -> b n (h d)')\n",
        "        out =  self.to_out(out)\n",
        "        #out = self.dropout(out) # option for more dropout here\n",
        "        return out\n",
        "\n",
        "\n",
        "\"\"\"## Transformer blocks\n",
        "\n",
        "### Encoder\n",
        "\"\"\"\n",
        "\n",
        "class TransformerEncoderBlock(nn.Module):\n",
        "    \"\"\"\n",
        "    Bacis transformer encoder block. Consists of multi-head attention and positional feedforward layers\n",
        "    \"\"\"\n",
        "    def __init__(self, dim, heads = 8, causal = False, mask = None, \n",
        "                 attn_dropout=0.1, ff_dropout=0.1):\n",
        "        super().__init__()\n",
        "        self.attn = Residual(PreNorm(dim, Attention(dim, heads=heads, causal=causal, dropout=attn_dropout)))\n",
        "        self.ff = Residual(PreNorm(dim, FeedForward(dim, dropout=ff_dropout)))\n",
        "    def forward(self, x, mask=None): #? more args\n",
        "        out = self.attn(x, mask=mask)\n",
        "        out = self.ff(out)\n",
        "        return out\n",
        "\n",
        "class TransformerEncoder(nn.Module):\n",
        "    def __init__(self, dim, depth=6, heads=8, causal=False, attn_dropout=0.1, ff_dropout=0.1):\n",
        "        super().__init__()\n",
        "        self.dim = dim\n",
        "        self.layers = nn.ModuleList([])\n",
        "        for _ in range(depth):\n",
        "            self.layers.append(TransformerEncoderBlock(dim, heads, causal=causal, attn_dropout=attn_dropout, ff_dropout=ff_dropout))\n",
        "    def forward(self, x, mask=None):\n",
        "        for layer in self.layers:\n",
        "            x = layer(x, mask=mask)\n",
        "        return x\n",
        "\n",
        "\"\"\"Decoder block has attention and cross attention\n",
        "\n",
        "### Decoder\n",
        "\"\"\"\n",
        "\n",
        "class TransformerDecoderBlock(nn.Module):\n",
        "    def __init__(self, dim, heads = 8, mask = None, \n",
        "                 attn_dropout=0.1, ff_dropout=0.1):\n",
        "        super().__init__()\n",
        "        self.attn = Residual(PreNorm(dim, Attention(dim, heads=heads, causal=True, dropout=attn_dropout)))\n",
        "        self.cross = Residual(PreNorm(dim, Attention(dim, heads=heads, causal=False, dropout=attn_dropout)))\n",
        "        self.ff = Residual(PreNorm(dim, FeedForward(dim, dropout=ff_dropout)))\n",
        "\n",
        "    def forward(self, x, context, mask=None, context_mask=None):\n",
        "        out = self.attn(x, mask=mask)\n",
        "        out = self.cross(out, context, mask=mask, context_mask=context_mask)\n",
        "        out = self.ff(out)\n",
        "        return out\n",
        "\n",
        "class TransformerDecoder(nn.Module):\n",
        "    def __init__(self, dim, depth=6, heads=8, attn_dropout=0.1, ff_dropout=0.1):\n",
        "        super().__init__()\n",
        "        self.dim = dim\n",
        "        self.layers = nn.ModuleList([])\n",
        "        for _ in range(depth):\n",
        "            self.layers.append(TransformerDecoderBlock(dim, heads, attn_dropout=attn_dropout, ff_dropout=ff_dropout))\n",
        "    def forward(self, x, context, mask=None, context_mask=None):\n",
        "        for layer in self.layers:\n",
        "            x = layer(x, context, mask, context_mask)\n",
        "        return x\n",
        "\n",
        "\"\"\"### Models\"\"\"\n",
        "# from https://github.com/lucidrains/reformer-pytorch/blob/master/reformer_pytorch/reformer_pytorch.py#L609\n",
        "\n",
        "class AbsolutePositionalEmbedding(nn.Module):\n",
        "    def __init__(self, dim, max_seq_len):\n",
        "        super().__init__()\n",
        "        self.emb = nn.Embedding(max_seq_len, dim)\n",
        "\n",
        "    def forward(self, x):\n",
        "        t = torch.arange(x.shape[1], device=x.device)\n",
        "        return self.emb(t)\n",
        "\n",
        "class FixedPositionalEmbedding(nn.Module):\n",
        "    def __init__(self, dim):\n",
        "        super().__init__()\n",
        "        inv_freq = 1. / (10000 ** (torch.arange(0, dim, 2).float() / dim))\n",
        "        self.register_buffer('inv_freq', inv_freq)\n",
        "\n",
        "    def forward(self, x):\n",
        "        t = torch.arange(x.shape[1], device=x.device).type_as(self.inv_freq)\n",
        "        sinusoid_inp = torch.einsum(\"i,j->ij\", t, self.inv_freq)\n",
        "        emb = torch.cat((sinusoid_inp.sin(), sinusoid_inp.cos()), dim=-1)\n",
        "        return emb[None, :, :]\n",
        "#TODO add axial positional encodings\n",
        "\n",
        "class TransformerEmbedding(nn.Module):\n",
        "    \"\"\"\n",
        "    Combines token embedings with positional encodings\n",
        "    pos_enc: str from {'absolute', 'fixed', 'axial'}\n",
        "    \"\"\"\n",
        "    def __init__(self, emb_sz, dim, max_seq_len=512, dropout=0., pos_enc='absolute'):\n",
        "        super().__init__()\n",
        "        self.scale = dim**0.5\n",
        "        self.emb = nn.Embedding(emb_sz, dim)\n",
        "        if pos_enc == 'absolute':\n",
        "            self.pos_enc = AbsolutePositionalEmbedding(dim, max_seq_len)\n",
        "        elif pos_enc == 'fixed':\n",
        "            self.pos_enc = FixedPositionalEmbedding(dim)\n",
        "        elif pos_enc == 'axial':\n",
        "            raise NotImplementedError\n",
        "        self.dropout = nn.Dropout(dropout)\n",
        "        self._init()\n",
        "    def forward(self, x):\n",
        "        _, n = x.shape\n",
        "        x = self.emb(x)\n",
        "        x *=self.scale\n",
        "        x += self.pos_enc(x)\n",
        "        return self.dropout(x)\n",
        "    def _init(self):\n",
        "        nn.init.normal_(self.emb.weight, std = 0.02)\n",
        "        if hasattr(self.pos_enc, 'weight'):\n",
        "            nn.init.normal_(self.pos_enc.weight, std = 0.02)\n",
        "\n",
        "#TODO test weight tying\n",
        "# Note on weight tying: it's done like here in fastai AWD_LSTM model\n",
        "# Lucidrains does it with custom MatrixMultiply module https://github.com/lucidrains/reformer-pytorch/blob/master/reformer_pytorch/reformer_pytorch.py#L106\n",
        "class TransformerEncDec(nn.Module):\n",
        "    \"\"\"\n",
        "    Basic Transformer Encoder-Decoder model\n",
        "    Parameters:\n",
        "        * enc_vocab_sz: int - source vocab size \n",
        "        * dec_vocab_sz: int - target vocab size\n",
        "        * dim: int - inner dimension of the model\n",
        "        * depth: int (default: 6) \n",
        "        * heads: int (default: 8)\n",
        "        * max_seq_len: int (default: 512)\n",
        "        * pad_idx: int - padding token id, if pad_idx is provided, and no mask/context_mask are passed to \n",
        "                forward method will be used to generate padding masks\n",
        "        * tie_weights: bool - if True target embedding weights are used for computation output projection\n",
        "        * pos_enc: str from {'absolute', 'fixed', 'axial'} - type of positional encoding to use\n",
        "    Inputs:\n",
        "        * src - source input ids, shape [bs, src_sl]\n",
        "        * tgt - target input ids, shape [bs, tgt_sl]\n",
        "        * src_mask - optional boolean source mask, shape [bs, src_sl]\n",
        "        * tgt_mask - optional boolean target mask, shape [bs, tgt_sl]\n",
        "    Returns:\n",
        "        * logits - target token logits, shape [bs, tgt_sl, tgt_vocab_sz]\n",
        "    \"\"\"\n",
        "    def __init__(self, enc_vocab_sz, dec_vocab_sz, dim, depth=6, heads=8, \n",
        "                 max_seq_len=512, pad_idx=None, tie_weights=False, \n",
        "                 attn_dropout=0.1, ff_dropout=0.1, emb_dropout=0.1,\n",
        "                 pos_enc='absolute'):\n",
        "        super().__init__()\n",
        "        self.max_seq_len = max_seq_len\n",
        "        self.pad_idx = pad_idx\n",
        "        self.enc_emb = TransformerEmbedding(enc_vocab_sz, dim, max_seq_len, dropout=emb_dropout)\n",
        "        self.dec_emb = TransformerEmbedding(dec_vocab_sz, dim, max_seq_len, dropout=emb_dropout)\n",
        "        self.encoder = TransformerEncoder(dim, depth, heads, attn_dropout=attn_dropout, ff_dropout=ff_dropout)\n",
        "        self.decoder = TransformerDecoder(dim, depth, heads, attn_dropout=attn_dropout, ff_dropout=ff_dropout)\n",
        "        self.proj = nn.Linear(dim, dec_vocab_sz)\n",
        "        if tie_weights: self.proj.weight = self.emb.emb.weight\n",
        "\n",
        "    def forward(self, src, tgt, src_mask = None, tgt_mask = None):\n",
        "        src_mask = default(src_mask, self.get_padding_mask(src))\n",
        "        tgt_mask = default(tgt_mask, self.get_padding_mask(tgt))\n",
        "        enc = self.encoder(self.enc_emb(src), mask = src_mask)\n",
        "        out = self.decoder(self.dec_emb(tgt), context=enc, mask=tgt_mask, context_mask=src_mask)\n",
        "        return self.proj(out)\n",
        "    def get_padding_mask(self, x):\n",
        "        if self.pad_idx is None: return None\n",
        "        return (x != self.pad_idx)\n",
        "    #TODO add beam search and refactor\n",
        "    #not tested\n",
        "    @torch.no_grad()\n",
        "    def generate(self, inp, \n",
        "                context_inp,\n",
        "                max_len=50,\n",
        "                temperature=1.,\n",
        "                method = 'top_k',\n",
        "                top_k = 20,\n",
        "                top_p = 0.9,\n",
        "                early_stopping=False):\n",
        "        self.to(inp.device) #TODO test for potential problems\n",
        "        self.eval()\n",
        "        thresh = top_k if method=='top_k' else top_p\n",
        "        sampler = _sampler[method]\n",
        "        inp = expand_dim1(inp)\n",
        "        context_inp = expand_dim1(context_inp)\n",
        "        b, t = inp.shape\n",
        "        enc = self.encoder(self.enc_emb(context_inp), mask = src_mask)\n",
        "        out = inp\n",
        "        for _ in range(max_len):\n",
        "            x = out[:, -self.max_seq_len:]\n",
        "            dec = self.decoder(self.dec_emb(tgt), context=enc)\n",
        "            logits = self.proj(dec)[:, -1, :]\n",
        "            if method == 'greedy':\n",
        "                sample = sampler(logits)\n",
        "            else:\n",
        "                filtered_logits = sampler(logits)\n",
        "                probs = F.softmax(filtered_logits / temperature, dim=-1)\n",
        "                sample = torch.multinomial(probs, 1)\n",
        "\n",
        "            out = torch.cat((out, sample), dim=-1)\n",
        "\n",
        "            if early_stopping and (sample == bte.eos_token_id).all():\n",
        "                break\n",
        "        # out = out[:, t:]\n",
        "        return out\n",
        "\n",
        "class TransformerLM(nn.Module):\n",
        "    \"\"\"\n",
        "    Basic Transformer for language modelling\n",
        "    Parameters:\n",
        "        * vocab_sz: int\n",
        "        * dim: int - inner dimension of the model\n",
        "        * depth: int (default: 6) \n",
        "        * heads: int (default: 8)\n",
        "        * causal: bool (default: True) - if True does causal masking automatically\n",
        "        * max_seq_len: int (default: 512)\n",
        "        * tie_weights: bool - if True target embedding weights are used for computation output projection\n",
        "        * pos_enc: str from {'absolute', 'fixed', 'axial'} - type of positional encoding to use\n",
        "    Inputs:\n",
        "        * x - input ids, shape [bs, sl]\n",
        "        * mask - optional boolean mask, shape [bs, sl]\n",
        "    Returns:\n",
        "        * logits - target token logits, shape [bs, sl, vocab_sz]\n",
        "    \"\"\"\n",
        "    def __init__(self, vocab_sz, dim, depth=6, heads=8, causal=True,\n",
        "                 max_seq_len=512, tie_weights=True,\n",
        "                 attn_dropout=0.1, ff_dropout=0.1, emb_dropout=0.1,\n",
        "                 pos_enc='absolute'):\n",
        "        super().__init__()\n",
        "        self.max_seq_len = max_seq_len\n",
        "        self.emb = TransformerEmbedding(vocab_sz, dim, max_seq_len, dropout=emb_dropout, pos_enc=pos_enc)\n",
        "        self.tfmr = TransformerEncoder(dim, depth, heads, causal=causal,\n",
        "                                       attn_dropout=attn_dropout,\n",
        "                                       ff_dropout=ff_dropout)\n",
        "        self.proj = nn.Linear(dim, vocab_sz)\n",
        "        if tie_weights: self.proj.weight = self.emb.emb.weight\n",
        "        \n",
        "    def forward(self, x, mask=None):\n",
        "        x = self.emb(x)\n",
        "        x = self.tfmr(x, mask=mask)\n",
        "        return self.proj(x)\n",
        "    #TODO maybe refactor\n",
        "    @torch.no_grad()\n",
        "    def generate(self, inp,\n",
        "                max_len=50,\n",
        "                temperature=1.,\n",
        "                method = 'top_k',\n",
        "                top_k = 20,\n",
        "                top_p = 0.9,\n",
        "                early_stopping=False):\n",
        "        self.to(inp.device) #TODO test for potential problems\n",
        "        self.eval()\n",
        "        thresh = top_k if method=='top_k' else top_p\n",
        "        sampler = _sampler[method]\n",
        "        inp = expand_dim1(inp)\n",
        "        b, t = inp.shape\n",
        "        out = inp\n",
        "        for _ in range(max_len):\n",
        "            x = out[:, -self.max_seq_len:]\n",
        "\n",
        "            logits = self(x)[:, -1, :]\n",
        "            if method == 'greedy':\n",
        "                sample = sampler(logits)\n",
        "            else:\n",
        "                filtered_logits = sampler(logits)\n",
        "                probs = F.softmax(filtered_logits / temperature, dim=-1)\n",
        "                sample = torch.multinomial(probs, 1)\n",
        "\n",
        "            out = torch.cat((out, sample), dim=-1)\n",
        "\n",
        "            if early_stopping and (sample == bte.eos_token_id).all():\n",
        "                break\n",
        "        # out = out[:, t:]\n",
        "        return out\n",
        "    # wip\n",
        "    def store_attention(self):\n",
        "        for m in self.modules():\n",
        "            if issubclass(type(m), Attention):\n",
        "                m.store_attention = True\n",
        "    def get_attention_matrix(self):\n",
        "        res = []\n",
        "        for m in self.modules():\n",
        "            if issubclass(type(m), Attention):\n",
        "                attention = getattr(m, 'attention', None)\n",
        "                res.append(attention)\n",
        "                # reset stored attention\n",
        "                m.attention = None\n",
        "                m.store_attention = False\n",
        "        return res"
      ],
      "execution_count": 73,
      "outputs": []
    },
    {
      "cell_type": "code",
      "metadata": {
        "id": "d6dUWbJiOLoE"
      },
      "source": [
        "vocab_sz = bte.vocab_size"
      ],
      "execution_count": 22,
      "outputs": []
    },
    {
      "cell_type": "code",
      "metadata": {
        "id": "4ksKtmaVHYt2"
      },
      "source": [
        "learn = Learner(dls, TransformerLM(vocab_sz, 512),\n",
        "                loss_func=CrossEntropyLossFlat(),\n",
        "                metrics=[accuracy, Perplexity()]).to_fp16()"
      ],
      "execution_count": 23,
      "outputs": []
    },
    {
      "cell_type": "code",
      "metadata": {
        "id": "xR6_HKoTIsTi",
        "colab": {
          "base_uri": "https://localhost:8080/",
          "height": 302
        },
        "outputId": "b521d079-ebcc-45f9-8b73-a187208e2b26"
      },
      "source": [
        "learn.lr_find()"
      ],
      "execution_count": 24,
      "outputs": [
        {
          "output_type": "display_data",
          "data": {
            "text/html": [
              ""
            ],
            "text/plain": [
              "<IPython.core.display.HTML object>"
            ]
          },
          "metadata": {
            "tags": []
          }
        },
        {
          "output_type": "execute_result",
          "data": {
            "text/plain": [
              "SuggestedLRs(lr_min=0.0003019951749593019, lr_steep=0.0004786300996784121)"
            ]
          },
          "metadata": {
            "tags": []
          },
          "execution_count": 24
        },
        {
          "output_type": "display_data",
          "data": {
            "image/png": "[encoded data removed]",
            "text/plain": [
              "<Figure size 432x288 with 1 Axes>"
            ]
          },
          "metadata": {
            "tags": [],
            "needs_background": "light"
          }
        }
      ]
    },
    {
      "cell_type": "code",
      "metadata": {
        "id": "KfqQgJvmL6Hv",
        "colab": {
          "base_uri": "https://localhost:8080/",
          "height": 398
        },
        "outputId": "7d7f1d18-6e64-4fb1-b570-3af7daa3cd21"
      },
      "source": [
        "learn.fit_one_cycle(10, 5e-4)"
      ],
      "execution_count": 25,
      "outputs": [
        {
          "output_type": "display_data",
          "data": {
            "text/html": [
              "<table border=\"1\" class=\"dataframe\">\n",
              "  <thead>\n",
              "    <tr style=\"text-align: left;\">\n",
              "      <th>epoch</th>\n",
              "      <th>train_loss</th>\n",
              "      <th>valid_loss</th>\n",
              "      <th>accuracy</th>\n",
              "      <th>perplexity</th>\n",
              "      <th>time</th>\n",
              "    </tr>\n",
              "  </thead>\n",
              "  <tbody>\n",
              "    <tr>\n",
              "      <td>0</td>\n",
              "      <td>2.664050</td>\n",
              "      <td>2.448932</td>\n",
              "      <td>0.291979</td>\n",
              "      <td>11.575982</td>\n",
              "      <td>00:52</td>\n",
              "    </tr>\n",
              "    <tr>\n",
              "      <td>1</td>\n",
              "      <td>2.392892</td>\n",
              "      <td>2.296475</td>\n",
              "      <td>0.323603</td>\n",
              "      <td>9.939082</td>\n",
              "      <td>00:52</td>\n",
              "    </tr>\n",
              "    <tr>\n",
              "      <td>2</td>\n",
              "      <td>2.081407</td>\n",
              "      <td>1.967721</td>\n",
              "      <td>0.413562</td>\n",
              "      <td>7.154351</td>\n",
              "      <td>00:53</td>\n",
              "    </tr>\n",
              "    <tr>\n",
              "      <td>3</td>\n",
              "      <td>1.840996</td>\n",
              "      <td>1.730670</td>\n",
              "      <td>0.479094</td>\n",
              "      <td>5.644434</td>\n",
              "      <td>00:52</td>\n",
              "    </tr>\n",
              "    <tr>\n",
              "      <td>4</td>\n",
              "      <td>1.680720</td>\n",
              "      <td>1.590114</td>\n",
              "      <td>0.517587</td>\n",
              "      <td>4.904309</td>\n",
              "      <td>00:52</td>\n",
              "    </tr>\n",
              "    <tr>\n",
              "      <td>5</td>\n",
              "      <td>1.577062</td>\n",
              "      <td>1.494395</td>\n",
              "      <td>0.542974</td>\n",
              "      <td>4.456641</td>\n",
              "      <td>00:52</td>\n",
              "    </tr>\n",
              "    <tr>\n",
              "      <td>6</td>\n",
              "      <td>1.513004</td>\n",
              "      <td>1.442760</td>\n",
              "      <td>0.555405</td>\n",
              "      <td>4.232361</td>\n",
              "      <td>00:52</td>\n",
              "    </tr>\n",
              "    <tr>\n",
              "      <td>7</td>\n",
              "      <td>1.467104</td>\n",
              "      <td>1.397796</td>\n",
              "      <td>0.567296</td>\n",
              "      <td>4.046273</td>\n",
              "      <td>00:52</td>\n",
              "    </tr>\n",
              "    <tr>\n",
              "      <td>8</td>\n",
              "      <td>1.441014</td>\n",
              "      <td>1.378166</td>\n",
              "      <td>0.573796</td>\n",
              "      <td>3.967617</td>\n",
              "      <td>00:53</td>\n",
              "    </tr>\n",
              "    <tr>\n",
              "      <td>9</td>\n",
              "      <td>1.429312</td>\n",
              "      <td>1.374274</td>\n",
              "      <td>0.574683</td>\n",
              "      <td>3.952205</td>\n",
              "      <td>00:52</td>\n",
              "    </tr>\n",
              "  </tbody>\n",
              "</table>"
            ],
            "text/plain": [
              "<IPython.core.display.HTML object>"
            ]
          },
          "metadata": {
            "tags": []
          }
        }
      ]
    },
    {
      "cell_type": "code",
      "metadata": {
        "colab": {
          "base_uri": "https://localhost:8080/"
        },
        "id": "2rWm6I4_RBIj",
        "outputId": "1b4a679a-5875-4ac2-a1f9-2e1868657a8d"
      },
      "source": [
        "learn.save('shakespeare_e10')"
      ],
      "execution_count": 25,
      "outputs": [
        {
          "output_type": "execute_result",
          "data": {
            "text/plain": [
              "Path('models/shakespeare_e10.pth')"
            ]
          },
          "metadata": {
            "tags": []
          },
          "execution_count": 25
        }
      ]
    },
    {
      "cell_type": "code",
      "metadata": {
        "id": "lrS_2t1tHuKl",
        "colab": {
          "base_uri": "https://localhost:8080/"
        },
        "outputId": "558544b1-30fb-46d3-e4e5-2bffa8854853"
      },
      "source": [
        "# learn.load('shakespeare_e10')"
      ],
      "execution_count": null,
      "outputs": [
        {
          "output_type": "execute_result",
          "data": {
            "text/plain": [
              "<fastai.learner.Learner at 0x7fb31fb27fd0>"
            ]
          },
          "metadata": {
            "tags": []
          },
          "execution_count": 29
        }
      ]
    },
    {
      "cell_type": "markdown",
      "metadata": {
        "id": "ZDJRYKfhmRB4"
      },
      "source": [
        "## Init experiments "
      ]
    },
    {
      "cell_type": "markdown",
      "metadata": {
        "id": "lRB9WvQ7VGbP"
      },
      "source": [
        "[pytorch init docs](https://pytorch.org/docs/stable/nn.init.html?highlight=xavier_unifor#torch.nn.init.xavier_uniform_)\n",
        "\n",
        "TODOs: \n",
        "- [ ] rerun experiments with latest changes for fair comparison\n",
        "- [ ] checkout ativation stats using https://docs.fast.ai/callback.hook.html#ActivationStats\n",
        "- [ ] try combining different init's with different positional encodings"
      ]
    },
    {
      "cell_type": "code",
      "metadata": {
        "id": "Dp0J_xFLma_w"
      },
      "source": [
        "# for n, m in learn.model.named_modules():\n",
        "#     print(n)\n",
        "#     print(m)"
      ],
      "execution_count": null,
      "outputs": []
    },
    {
      "cell_type": "markdown",
      "metadata": {
        "id": "TVdS68Xpzzc0"
      },
      "source": [
        "### default + fixed pos encodings"
      ]
    },
    {
      "cell_type": "code",
      "metadata": {
        "id": "8NX15C9Ez6XV"
      },
      "source": [
        "learn = Learner(dls, TransformerLM(vocab_sz, 512, pos_enc='fixed'),\n",
        "                loss_func=CrossEntropyLossFlat(),\n",
        "                metrics=[accuracy, Perplexity()]).to_fp16()"
      ],
      "execution_count": 74,
      "outputs": []
    },
    {
      "cell_type": "code",
      "metadata": {
        "colab": {
          "base_uri": "https://localhost:8080/",
          "height": 305
        },
        "id": "L3mF35-Mz6Ub",
        "outputId": "4d46b76e-bc20-4cd9-d2ff-2a0b665a71fd"
      },
      "source": [
        "learn.lr_find()"
      ],
      "execution_count": 75,
      "outputs": [
        {
          "output_type": "display_data",
          "data": {
            "text/html": [
              ""
            ],
            "text/plain": [
              "<IPython.core.display.HTML object>"
            ]
          },
          "metadata": {
            "tags": []
          }
        },
        {
          "output_type": "execute_result",
          "data": {
            "text/plain": [
              "SuggestedLRs(lr_min=0.00014454397605732084, lr_steep=0.0003311311302240938)"
            ]
          },
          "metadata": {
            "tags": []
          },
          "execution_count": 75
        },
        {
          "output_type": "display_data",
          "data": {
            "image/png": "[encoded data removed]",
            "text/plain": [
              "<Figure size 432x288 with 1 Axes>"
            ]
          },
          "metadata": {
            "tags": [],
            "needs_background": "light"
          }
        }
      ]
    },
    {
      "cell_type": "code",
      "metadata": {
        "colab": {
          "base_uri": "https://localhost:8080/",
          "height": 398
        },
        "id": "vj_63G_Qz6SP",
        "outputId": "2f794098-85df-40ee-aaee-f1e5b0a9ed8b"
      },
      "source": [
        "learn.fit_one_cycle(10, 4e-4)"
      ],
      "execution_count": 76,
      "outputs": [
        {
          "output_type": "display_data",
          "data": {
            "text/html": [
              "<table border=\"1\" class=\"dataframe\">\n",
              "  <thead>\n",
              "    <tr style=\"text-align: left;\">\n",
              "      <th>epoch</th>\n",
              "      <th>train_loss</th>\n",
              "      <th>valid_loss</th>\n",
              "      <th>accuracy</th>\n",
              "      <th>perplexity</th>\n",
              "      <th>time</th>\n",
              "    </tr>\n",
              "  </thead>\n",
              "  <tbody>\n",
              "    <tr>\n",
              "      <td>0</td>\n",
              "      <td>2.743430</td>\n",
              "      <td>2.444108</td>\n",
              "      <td>0.292617</td>\n",
              "      <td>11.520267</td>\n",
              "      <td>00:53</td>\n",
              "    </tr>\n",
              "    <tr>\n",
              "      <td>1</td>\n",
              "      <td>2.398844</td>\n",
              "      <td>2.335627</td>\n",
              "      <td>0.314304</td>\n",
              "      <td>10.335935</td>\n",
              "      <td>00:53</td>\n",
              "    </tr>\n",
              "    <tr>\n",
              "      <td>2</td>\n",
              "      <td>2.163848</td>\n",
              "      <td>2.066226</td>\n",
              "      <td>0.388265</td>\n",
              "      <td>7.894975</td>\n",
              "      <td>00:53</td>\n",
              "    </tr>\n",
              "    <tr>\n",
              "      <td>3</td>\n",
              "      <td>1.958189</td>\n",
              "      <td>1.846298</td>\n",
              "      <td>0.449932</td>\n",
              "      <td>6.336320</td>\n",
              "      <td>00:53</td>\n",
              "    </tr>\n",
              "    <tr>\n",
              "      <td>4</td>\n",
              "      <td>1.819980</td>\n",
              "      <td>1.719737</td>\n",
              "      <td>0.482581</td>\n",
              "      <td>5.583058</td>\n",
              "      <td>00:53</td>\n",
              "    </tr>\n",
              "    <tr>\n",
              "      <td>5</td>\n",
              "      <td>1.724584</td>\n",
              "      <td>1.633556</td>\n",
              "      <td>0.503539</td>\n",
              "      <td>5.122058</td>\n",
              "      <td>00:52</td>\n",
              "    </tr>\n",
              "    <tr>\n",
              "      <td>6</td>\n",
              "      <td>1.667275</td>\n",
              "      <td>1.580653</td>\n",
              "      <td>0.520047</td>\n",
              "      <td>4.858126</td>\n",
              "      <td>00:53</td>\n",
              "    </tr>\n",
              "    <tr>\n",
              "      <td>7</td>\n",
              "      <td>1.626676</td>\n",
              "      <td>1.550155</td>\n",
              "      <td>0.527804</td>\n",
              "      <td>4.712202</td>\n",
              "      <td>00:52</td>\n",
              "    </tr>\n",
              "    <tr>\n",
              "      <td>8</td>\n",
              "      <td>1.608951</td>\n",
              "      <td>1.534863</td>\n",
              "      <td>0.532722</td>\n",
              "      <td>4.640691</td>\n",
              "      <td>00:52</td>\n",
              "    </tr>\n",
              "    <tr>\n",
              "      <td>9</td>\n",
              "      <td>1.599010</td>\n",
              "      <td>1.531286</td>\n",
              "      <td>0.533108</td>\n",
              "      <td>4.624121</td>\n",
              "      <td>00:52</td>\n",
              "    </tr>\n",
              "  </tbody>\n",
              "</table>"
            ],
            "text/plain": [
              "<IPython.core.display.HTML object>"
            ]
          },
          "metadata": {
            "tags": []
          }
        }
      ]
    },
    {
      "cell_type": "markdown",
      "metadata": {
        "id": "aItLQsDNoOzc"
      },
      "source": [
        "### bert init"
      ]
    },
    {
      "cell_type": "code",
      "metadata": {
        "id": "Xw9p7UQooVyc"
      },
      "source": [
        "learn = Learner(dls, TransformerLM(vocab_sz, 512),\n",
        "                loss_func=CrossEntropyLossFlat(),\n",
        "                metrics=[accuracy, Perplexity()]).to_fp16()"
      ],
      "execution_count": 27,
      "outputs": []
    },
    {
      "cell_type": "code",
      "metadata": {
        "id": "ts6AnUdeokYP"
      },
      "source": [
        "def print_parameter_stats(model):\n",
        "    for n, m in model.named_modules():\n",
        "        if hasattr(m, 'weight'):\n",
        "            print(n)\n",
        "            print(f'    weights mean {m.weight.mean().item():.6f}, std {m.weight.std().item():.6f}')\n",
        "        # else:\n",
        "        #     print(n, ' has no weight')"
      ],
      "execution_count": 51,
      "outputs": []
    },
    {
      "cell_type": "code",
      "metadata": {
        "colab": {
          "base_uri": "https://localhost:8080/"
        },
        "id": "7k3hqjuHrftQ",
        "outputId": "4caddc6f-816a-4f4c-dc91-197b648e4e16"
      },
      "source": [
        "print_parameter_stats(learn.model)"
      ],
      "execution_count": 45,
      "outputs": [
        {
          "output_type": "stream",
          "text": [
            "emb.emb\n",
            "weights mean 0.000032, std 0.019960\n",
            "emb.pos_enc.emb\n",
            "weights mean -0.001253, std 1.003188\n",
            "tfmr.layers.0.attn.fn.fn.to_q\n",
            "weights mean 0.000067, std 0.025527\n",
            "tfmr.layers.0.attn.fn.fn.to_kv\n",
            "weights mean 0.000070, std 0.025502\n",
            "tfmr.layers.0.attn.fn.fn.to_out\n",
            "weights mean 0.000022, std 0.025491\n",
            "tfmr.layers.0.attn.fn.norm\n",
            "weights mean 1.000000, std 0.000000\n",
            "tfmr.layers.0.ff.fn.fn.net.0\n",
            "weights mean -0.000014, std 0.025508\n",
            "tfmr.layers.0.ff.fn.fn.net.3\n",
            "weights mean 0.000002, std 0.012760\n",
            "tfmr.layers.0.ff.fn.norm\n",
            "weights mean 1.000000, std 0.000000\n",
            "tfmr.layers.1.attn.fn.fn.to_q\n",
            "weights mean -0.000007, std 0.025495\n",
            "tfmr.layers.1.attn.fn.fn.to_kv\n",
            "weights mean 0.000008, std 0.025507\n",
            "tfmr.layers.1.attn.fn.fn.to_out\n",
            "weights mean 0.000057, std 0.025494\n",
            "tfmr.layers.1.attn.fn.norm\n",
            "weights mean 1.000000, std 0.000000\n",
            "tfmr.layers.1.ff.fn.fn.net.0\n",
            "weights mean 0.000017, std 0.025520\n",
            "tfmr.layers.1.ff.fn.fn.net.3\n",
            "weights mean 0.000024, std 0.012760\n",
            "tfmr.layers.1.ff.fn.norm\n",
            "weights mean 1.000000, std 0.000000\n",
            "tfmr.layers.2.attn.fn.fn.to_q\n",
            "weights mean -0.000078, std 0.025534\n",
            "tfmr.layers.2.attn.fn.fn.to_kv\n",
            "weights mean -0.000005, std 0.025523\n",
            "tfmr.layers.2.attn.fn.fn.to_out\n",
            "weights mean 0.000067, std 0.025530\n",
            "tfmr.layers.2.attn.fn.norm\n",
            "weights mean 1.000000, std 0.000000\n",
            "tfmr.layers.2.ff.fn.fn.net.0\n",
            "weights mean -0.000001, std 0.025528\n",
            "tfmr.layers.2.ff.fn.fn.net.3\n",
            "weights mean -0.000006, std 0.012763\n",
            "tfmr.layers.2.ff.fn.norm\n",
            "weights mean 1.000000, std 0.000000\n",
            "tfmr.layers.3.attn.fn.fn.to_q\n",
            "weights mean 0.000017, std 0.025511\n",
            "tfmr.layers.3.attn.fn.fn.to_kv\n",
            "weights mean 0.000030, std 0.025499\n",
            "tfmr.layers.3.attn.fn.fn.to_out\n",
            "weights mean -0.000105, std 0.025529\n",
            "tfmr.layers.3.attn.fn.norm\n",
            "weights mean 1.000000, std 0.000000\n",
            "tfmr.layers.3.ff.fn.fn.net.0\n",
            "weights mean -0.000010, std 0.025496\n",
            "tfmr.layers.3.ff.fn.fn.net.3\n",
            "weights mean -0.000009, std 0.012755\n",
            "tfmr.layers.3.ff.fn.norm\n",
            "weights mean 1.000000, std 0.000000\n",
            "tfmr.layers.4.attn.fn.fn.to_q\n",
            "weights mean 0.000018, std 0.025543\n",
            "tfmr.layers.4.attn.fn.fn.to_kv\n",
            "weights mean -0.000002, std 0.025527\n",
            "tfmr.layers.4.attn.fn.fn.to_out\n",
            "weights mean 0.000065, std 0.025499\n",
            "tfmr.layers.4.attn.fn.norm\n",
            "weights mean 1.000000, std 0.000000\n",
            "tfmr.layers.4.ff.fn.fn.net.0\n",
            "weights mean -0.000020, std 0.025525\n",
            "tfmr.layers.4.ff.fn.fn.net.3\n",
            "weights mean -0.000015, std 0.012763\n",
            "tfmr.layers.4.ff.fn.norm\n",
            "weights mean 1.000000, std 0.000000\n",
            "tfmr.layers.5.attn.fn.fn.to_q\n",
            "weights mean 0.000023, std 0.025515\n",
            "tfmr.layers.5.attn.fn.fn.to_kv\n",
            "weights mean 0.000005, std 0.025530\n",
            "tfmr.layers.5.attn.fn.fn.to_out\n",
            "weights mean -0.000096, std 0.025517\n",
            "tfmr.layers.5.attn.fn.norm\n",
            "weights mean 1.000000, std 0.000000\n",
            "tfmr.layers.5.ff.fn.fn.net.0\n",
            "weights mean -0.000002, std 0.025525\n",
            "tfmr.layers.5.ff.fn.fn.net.3\n",
            "weights mean -0.000002, std 0.012748\n",
            "tfmr.layers.5.ff.fn.norm\n",
            "weights mean 1.000000, std 0.000000\n",
            "proj\n",
            "weights mean 0.000075, std 0.025466\n"
          ],
          "name": "stdout"
        }
      ]
    },
    {
      "cell_type": "code",
      "metadata": {
        "id": "6-0uxPjtmVeD"
      },
      "source": [
        "def bert_init(model):\n",
        "    \"\"\" Initialize the weights \"\"\"\n",
        "    for module in model.modules():\n",
        "        if isinstance(module, (nn.Linear, nn.Embedding)):\n",
        "            # Slightly different from the TF version which uses truncated_normal for initialization\n",
        "            # cf https://github.com/pytorch/pytorch/pull/5617\n",
        "            module.weight.data.normal_(mean=0.0, std=0.02)\n",
        "        # default to pytorch, to remove\n",
        "        elif isinstance(module, nn.LayerNorm):\n",
        "            module.bias.data.zero_()\n",
        "            module.weight.data.fill_(1.0)\n",
        "        if isinstance(module, nn.Linear) and module.bias is not None:\n",
        "            module.bias.data.zero_()"
      ],
      "execution_count": 39,
      "outputs": []
    },
    {
      "cell_type": "code",
      "metadata": {
        "colab": {
          "base_uri": "https://localhost:8080/"
        },
        "id": "ysU4Zr09oNvb",
        "outputId": "2de488c4-3ad4-4e54-f826-21a1d3b07f20"
      },
      "source": [
        "bert_init(learn.model)\n",
        "print_parameter_stats(learn.model)"
      ],
      "execution_count": 46,
      "outputs": [
        {
          "output_type": "stream",
          "text": [
            "emb.emb\n",
            "weights mean -0.000016, std 0.020013\n",
            "emb.pos_enc.emb\n",
            "weights mean 0.000007, std 0.019987\n",
            "tfmr.layers.0.attn.fn.fn.to_q\n",
            "weights mean 0.000022, std 0.020013\n",
            "tfmr.layers.0.attn.fn.fn.to_kv\n",
            "weights mean 0.000039, std 0.020014\n",
            "tfmr.layers.0.attn.fn.fn.to_out\n",
            "weights mean -0.000020, std 0.020039\n",
            "tfmr.layers.0.attn.fn.norm\n",
            "weights mean 1.000000, std 0.000000\n",
            "tfmr.layers.0.ff.fn.fn.net.0\n",
            "weights mean 0.000019, std 0.019999\n",
            "tfmr.layers.0.ff.fn.fn.net.3\n",
            "weights mean -0.000015, std 0.019989\n",
            "tfmr.layers.0.ff.fn.norm\n",
            "weights mean 1.000000, std 0.000000\n",
            "tfmr.layers.1.attn.fn.fn.to_q\n",
            "weights mean 0.000069, std 0.020000\n",
            "tfmr.layers.1.attn.fn.fn.to_kv\n",
            "weights mean 0.000057, std 0.019997\n",
            "tfmr.layers.1.attn.fn.fn.to_out\n",
            "weights mean 0.000091, std 0.020047\n",
            "tfmr.layers.1.attn.fn.norm\n",
            "weights mean 1.000000, std 0.000000\n",
            "tfmr.layers.1.ff.fn.fn.net.0\n",
            "weights mean -0.000014, std 0.019979\n",
            "tfmr.layers.1.ff.fn.fn.net.3\n",
            "weights mean -0.000028, std 0.020000\n",
            "tfmr.layers.1.ff.fn.norm\n",
            "weights mean 1.000000, std 0.000000\n",
            "tfmr.layers.2.attn.fn.fn.to_q\n",
            "weights mean 0.000062, std 0.019992\n",
            "tfmr.layers.2.attn.fn.fn.to_kv\n",
            "weights mean 0.000071, std 0.019996\n",
            "tfmr.layers.2.attn.fn.fn.to_out\n",
            "weights mean 0.000016, std 0.020021\n",
            "tfmr.layers.2.attn.fn.norm\n",
            "weights mean 1.000000, std 0.000000\n",
            "tfmr.layers.2.ff.fn.fn.net.0\n",
            "weights mean 0.000013, std 0.019960\n",
            "tfmr.layers.2.ff.fn.fn.net.3\n",
            "weights mean -0.000012, std 0.020026\n",
            "tfmr.layers.2.ff.fn.norm\n",
            "weights mean 1.000000, std 0.000000\n",
            "tfmr.layers.3.attn.fn.fn.to_q\n",
            "weights mean -0.000002, std 0.019998\n",
            "tfmr.layers.3.attn.fn.fn.to_kv\n",
            "weights mean -0.000015, std 0.020012\n",
            "tfmr.layers.3.attn.fn.fn.to_out\n",
            "weights mean 0.000026, std 0.019972\n",
            "tfmr.layers.3.attn.fn.norm\n",
            "weights mean 1.000000, std 0.000000\n",
            "tfmr.layers.3.ff.fn.fn.net.0\n",
            "weights mean 0.000003, std 0.019990\n",
            "tfmr.layers.3.ff.fn.fn.net.3\n",
            "weights mean -0.000005, std 0.019997\n",
            "tfmr.layers.3.ff.fn.norm\n",
            "weights mean 1.000000, std 0.000000\n",
            "tfmr.layers.4.attn.fn.fn.to_q\n",
            "weights mean -0.000066, std 0.019989\n",
            "tfmr.layers.4.attn.fn.fn.to_kv\n",
            "weights mean 0.000026, std 0.019991\n",
            "tfmr.layers.4.attn.fn.fn.to_out\n",
            "weights mean 0.000015, std 0.019995\n",
            "tfmr.layers.4.attn.fn.norm\n",
            "weights mean 1.000000, std 0.000000\n",
            "tfmr.layers.4.ff.fn.fn.net.0\n",
            "weights mean 0.000020, std 0.020013\n",
            "tfmr.layers.4.ff.fn.fn.net.3\n",
            "weights mean -0.000033, std 0.019985\n",
            "tfmr.layers.4.ff.fn.norm\n",
            "weights mean 1.000000, std 0.000000\n",
            "tfmr.layers.5.attn.fn.fn.to_q\n",
            "weights mean -0.000024, std 0.020037\n",
            "tfmr.layers.5.attn.fn.fn.to_kv\n",
            "weights mean 0.000027, std 0.019977\n",
            "tfmr.layers.5.attn.fn.fn.to_out\n",
            "weights mean 0.000030, std 0.020001\n",
            "tfmr.layers.5.attn.fn.norm\n",
            "weights mean 1.000000, std 0.000000\n",
            "tfmr.layers.5.ff.fn.fn.net.0\n",
            "weights mean 0.000031, std 0.019978\n",
            "tfmr.layers.5.ff.fn.fn.net.3\n",
            "weights mean 0.000039, std 0.020010\n",
            "tfmr.layers.5.ff.fn.norm\n",
            "weights mean 1.000000, std 0.000000\n",
            "proj\n",
            "weights mean -0.000004, std 0.019954\n"
          ],
          "name": "stdout"
        }
      ]
    },
    {
      "cell_type": "code",
      "metadata": {
        "colab": {
          "base_uri": "https://localhost:8080/",
          "height": 302
        },
        "id": "vlrjTT8tt66q",
        "outputId": "5636bd48-eae9-4ad7-9fa6-c5c7c641e50d"
      },
      "source": [
        "learn.lr_find()"
      ],
      "execution_count": 47,
      "outputs": [
        {
          "output_type": "display_data",
          "data": {
            "text/html": [
              ""
            ],
            "text/plain": [
              "<IPython.core.display.HTML object>"
            ]
          },
          "metadata": {
            "tags": []
          }
        },
        {
          "output_type": "execute_result",
          "data": {
            "text/plain": [
              "SuggestedLRs(lr_min=0.00010000000474974513, lr_steep=7.585775892948732e-05)"
            ]
          },
          "metadata": {
            "tags": []
          },
          "execution_count": 47
        },
        {
          "output_type": "display_data",
          "data": {
            "image/png": "[encoded data removed]",
            "text/plain": [
              "<Figure size 432x288 with 1 Axes>"
            ]
          },
          "metadata": {
            "tags": [],
            "needs_background": "light"
          }
        }
      ]
    },
    {
      "cell_type": "code",
      "metadata": {
        "colab": {
          "base_uri": "https://localhost:8080/",
          "height": 398
        },
        "id": "1HIdR0_4uB3l",
        "outputId": "cdb01f0c-d5c5-40e2-d1cb-5cb9fe2eaf80"
      },
      "source": [
        "learn.fit_one_cycle(10, 1e-4)"
      ],
      "execution_count": 48,
      "outputs": [
        {
          "output_type": "display_data",
          "data": {
            "text/html": [
              "<table border=\"1\" class=\"dataframe\">\n",
              "  <thead>\n",
              "    <tr style=\"text-align: left;\">\n",
              "      <th>epoch</th>\n",
              "      <th>train_loss</th>\n",
              "      <th>valid_loss</th>\n",
              "      <th>accuracy</th>\n",
              "      <th>perplexity</th>\n",
              "      <th>time</th>\n",
              "    </tr>\n",
              "  </thead>\n",
              "  <tbody>\n",
              "    <tr>\n",
              "      <td>0</td>\n",
              "      <td>3.001231</td>\n",
              "      <td>2.584840</td>\n",
              "      <td>0.282925</td>\n",
              "      <td>13.261165</td>\n",
              "      <td>00:52</td>\n",
              "    </tr>\n",
              "    <tr>\n",
              "      <td>1</td>\n",
              "      <td>2.434564</td>\n",
              "      <td>2.346462</td>\n",
              "      <td>0.314638</td>\n",
              "      <td>10.448535</td>\n",
              "      <td>00:52</td>\n",
              "    </tr>\n",
              "    <tr>\n",
              "      <td>2</td>\n",
              "      <td>2.338681</td>\n",
              "      <td>2.281197</td>\n",
              "      <td>0.332321</td>\n",
              "      <td>9.788386</td>\n",
              "      <td>00:52</td>\n",
              "    </tr>\n",
              "    <tr>\n",
              "      <td>3</td>\n",
              "      <td>2.261158</td>\n",
              "      <td>2.167946</td>\n",
              "      <td>0.359999</td>\n",
              "      <td>8.740310</td>\n",
              "      <td>00:53</td>\n",
              "    </tr>\n",
              "    <tr>\n",
              "      <td>4</td>\n",
              "      <td>2.157986</td>\n",
              "      <td>2.058212</td>\n",
              "      <td>0.389097</td>\n",
              "      <td>7.831952</td>\n",
              "      <td>00:52</td>\n",
              "    </tr>\n",
              "    <tr>\n",
              "      <td>5</td>\n",
              "      <td>2.065553</td>\n",
              "      <td>1.964524</td>\n",
              "      <td>0.412205</td>\n",
              "      <td>7.131520</td>\n",
              "      <td>00:52</td>\n",
              "    </tr>\n",
              "    <tr>\n",
              "      <td>6</td>\n",
              "      <td>1.997321</td>\n",
              "      <td>1.898286</td>\n",
              "      <td>0.430962</td>\n",
              "      <td>6.674441</td>\n",
              "      <td>00:52</td>\n",
              "    </tr>\n",
              "    <tr>\n",
              "      <td>7</td>\n",
              "      <td>1.952435</td>\n",
              "      <td>1.861121</td>\n",
              "      <td>0.443805</td>\n",
              "      <td>6.430941</td>\n",
              "      <td>00:52</td>\n",
              "    </tr>\n",
              "    <tr>\n",
              "      <td>8</td>\n",
              "      <td>1.932240</td>\n",
              "      <td>1.838866</td>\n",
              "      <td>0.449773</td>\n",
              "      <td>6.289404</td>\n",
              "      <td>00:52</td>\n",
              "    </tr>\n",
              "    <tr>\n",
              "      <td>9</td>\n",
              "      <td>1.923388</td>\n",
              "      <td>1.834828</td>\n",
              "      <td>0.451060</td>\n",
              "      <td>6.264058</td>\n",
              "      <td>00:53</td>\n",
              "    </tr>\n",
              "  </tbody>\n",
              "</table>"
            ],
            "text/plain": [
              "<IPython.core.display.HTML object>"
            ]
          },
          "metadata": {
            "tags": []
          }
        }
      ]
    },
    {
      "cell_type": "code",
      "metadata": {
        "colab": {
          "base_uri": "https://localhost:8080/"
        },
        "id": "TQQAsQWFw4T0",
        "outputId": "b44b6150-8916-4908-c8ba-e461e3bd4e36"
      },
      "source": [
        "learn.save('bert_init_10e')"
      ],
      "execution_count": 49,
      "outputs": [
        {
          "output_type": "execute_result",
          "data": {
            "text/plain": [
              "Path('models/bert_init_10e.pth')"
            ]
          },
          "metadata": {
            "tags": []
          },
          "execution_count": 49
        }
      ]
    },
    {
      "cell_type": "markdown",
      "metadata": {
        "id": "xkoiu1NwuQGT"
      },
      "source": [
        "### xavier init everywhere"
      ]
    },
    {
      "cell_type": "code",
      "metadata": {
        "id": "QgFcqCo6uVQC"
      },
      "source": [
        "learn = Learner(dls, TransformerLM(vocab_sz, 512),\n",
        "                loss_func=CrossEntropyLossFlat(),\n",
        "                metrics=[accuracy, Perplexity()]).to_fp16()"
      ],
      "execution_count": 52,
      "outputs": []
    },
    {
      "cell_type": "code",
      "metadata": {
        "id": "MEO44w83uVyB"
      },
      "source": [
        "def xavier_init(model):\n",
        "    \"\"\" Initialize the weights \"\"\"\n",
        "    for module in model.modules():\n",
        "        if isinstance(module, (nn.Linear, nn.Embedding)):\n",
        "            \n",
        "            nn.init.xavier_uniform_(module.weight)\n",
        "        elif isinstance(module, nn.LayerNorm):\n",
        "            module.bias.data.zero_()\n",
        "            module.weight.data.fill_(1.0)\n",
        "        if isinstance(module, nn.Linear) and module.bias is not None:\n",
        "            module.bias.data.zero_()"
      ],
      "execution_count": 54,
      "outputs": []
    },
    {
      "cell_type": "code",
      "metadata": {
        "colab": {
          "base_uri": "https://localhost:8080/"
        },
        "id": "O6S5LB3FuVvS",
        "outputId": "af324673-a5fa-4c12-ff94-fb74e2092957"
      },
      "source": [
        "xavier_init(learn.model)\n",
        "print_parameter_stats(learn.model)"
      ],
      "execution_count": 55,
      "outputs": [
        {
          "output_type": "stream",
          "text": [
            "emb.emb\n",
            "    weights mean 0.000264, std 0.051040\n",
            "emb.pos_enc.emb\n",
            "    weights mean 0.000104, std 0.044180\n",
            "tfmr.layers.0.attn.fn.fn.to_q\n",
            "    weights mean -0.000026, std 0.044152\n",
            "tfmr.layers.0.attn.fn.fn.to_kv\n",
            "    weights mean -0.000055, std 0.036080\n",
            "tfmr.layers.0.attn.fn.fn.to_out\n",
            "    weights mean 0.000034, std 0.044259\n",
            "tfmr.layers.0.attn.fn.norm\n",
            "    weights mean 1.000000, std 0.000000\n",
            "tfmr.layers.0.ff.fn.fn.net.0\n",
            "    weights mean -0.000035, std 0.027973\n",
            "tfmr.layers.0.ff.fn.fn.net.3\n",
            "    weights mean -0.000028, std 0.027958\n",
            "tfmr.layers.0.ff.fn.norm\n",
            "    weights mean 1.000000, std 0.000000\n",
            "tfmr.layers.1.attn.fn.fn.to_q\n",
            "    weights mean -0.000024, std 0.044245\n",
            "tfmr.layers.1.attn.fn.fn.to_kv\n",
            "    weights mean 0.000044, std 0.036081\n",
            "tfmr.layers.1.attn.fn.fn.to_out\n",
            "    weights mean 0.000047, std 0.044232\n",
            "tfmr.layers.1.attn.fn.norm\n",
            "    weights mean 1.000000, std 0.000000\n",
            "tfmr.layers.1.ff.fn.fn.net.0\n",
            "    weights mean 0.000016, std 0.027952\n",
            "tfmr.layers.1.ff.fn.fn.net.3\n",
            "    weights mean 0.000030, std 0.027963\n",
            "tfmr.layers.1.ff.fn.norm\n",
            "    weights mean 1.000000, std 0.000000\n",
            "tfmr.layers.2.attn.fn.fn.to_q\n",
            "    weights mean -0.000083, std 0.044150\n",
            "tfmr.layers.2.attn.fn.fn.to_kv\n",
            "    weights mean -0.000001, std 0.036070\n",
            "tfmr.layers.2.attn.fn.fn.to_out\n",
            "    weights mean 0.000009, std 0.044233\n",
            "tfmr.layers.2.attn.fn.norm\n",
            "    weights mean 1.000000, std 0.000000\n",
            "tfmr.layers.2.ff.fn.fn.net.0\n",
            "    weights mean 0.000012, std 0.027959\n",
            "tfmr.layers.2.ff.fn.fn.net.3\n",
            "    weights mean 0.000007, std 0.027948\n",
            "tfmr.layers.2.ff.fn.norm\n",
            "    weights mean 1.000000, std 0.000000\n",
            "tfmr.layers.3.attn.fn.fn.to_q\n",
            "    weights mean -0.000078, std 0.044223\n",
            "tfmr.layers.3.attn.fn.fn.to_kv\n",
            "    weights mean 0.000049, std 0.036099\n",
            "tfmr.layers.3.attn.fn.fn.to_out\n",
            "    weights mean -0.000024, std 0.044234\n",
            "tfmr.layers.3.attn.fn.norm\n",
            "    weights mean 1.000000, std 0.000000\n",
            "tfmr.layers.3.ff.fn.fn.net.0\n",
            "    weights mean 0.000013, std 0.027969\n",
            "tfmr.layers.3.ff.fn.fn.net.3\n",
            "    weights mean -0.000018, std 0.027959\n",
            "tfmr.layers.3.ff.fn.norm\n",
            "    weights mean 1.000000, std 0.000000\n",
            "tfmr.layers.4.attn.fn.fn.to_q\n",
            "    weights mean -0.000063, std 0.044235\n",
            "tfmr.layers.4.attn.fn.fn.to_kv\n",
            "    weights mean -0.000011, std 0.036039\n",
            "tfmr.layers.4.attn.fn.fn.to_out\n",
            "    weights mean -0.000126, std 0.044147\n",
            "tfmr.layers.4.attn.fn.norm\n",
            "    weights mean 1.000000, std 0.000000\n",
            "tfmr.layers.4.ff.fn.fn.net.0\n",
            "    weights mean 0.000016, std 0.027950\n",
            "tfmr.layers.4.ff.fn.fn.net.3\n",
            "    weights mean -0.000028, std 0.027943\n",
            "tfmr.layers.4.ff.fn.norm\n",
            "    weights mean 1.000000, std 0.000000\n",
            "tfmr.layers.5.attn.fn.fn.to_q\n",
            "    weights mean 0.000097, std 0.044232\n",
            "tfmr.layers.5.attn.fn.fn.to_kv\n",
            "    weights mean 0.000023, std 0.036093\n",
            "tfmr.layers.5.attn.fn.fn.to_out\n",
            "    weights mean -0.000024, std 0.044123\n",
            "tfmr.layers.5.attn.fn.norm\n",
            "    weights mean 1.000000, std 0.000000\n",
            "tfmr.layers.5.ff.fn.fn.net.0\n",
            "    weights mean -0.000032, std 0.027977\n",
            "tfmr.layers.5.ff.fn.fn.net.3\n",
            "    weights mean 0.000009, std 0.027960\n",
            "tfmr.layers.5.ff.fn.norm\n",
            "    weights mean 1.000000, std 0.000000\n",
            "proj\n",
            "    weights mean 0.000277, std 0.050801\n"
          ],
          "name": "stdout"
        }
      ]
    },
    {
      "cell_type": "code",
      "metadata": {
        "colab": {
          "base_uri": "https://localhost:8080/",
          "height": 302
        },
        "id": "CTtZjbc-uVsp",
        "outputId": "b6a7770f-7562-4b2b-e0b3-fb6f05da37cf"
      },
      "source": [
        "learn.lr_find()"
      ],
      "execution_count": 56,
      "outputs": [
        {
          "output_type": "display_data",
          "data": {
            "text/html": [
              ""
            ],
            "text/plain": [
              "<IPython.core.display.HTML object>"
            ]
          },
          "metadata": {
            "tags": []
          }
        },
        {
          "output_type": "execute_result",
          "data": {
            "text/plain": [
              "SuggestedLRs(lr_min=3.981071640737355e-05, lr_steep=8.31763736641733e-06)"
            ]
          },
          "metadata": {
            "tags": []
          },
          "execution_count": 56
        },
        {
          "output_type": "display_data",
          "data": {
            "image/png": "[encoded data removed]",
            "text/plain": [
              "<Figure size 432x288 with 1 Axes>"
            ]
          },
          "metadata": {
            "tags": [],
            "needs_background": "light"
          }
        }
      ]
    },
    {
      "cell_type": "code",
      "metadata": {
        "colab": {
          "base_uri": "https://localhost:8080/",
          "height": 398
        },
        "id": "YNW5hbDEx6tL",
        "outputId": "a2ed931d-d92b-4fda-a26b-7edb2a82b563"
      },
      "source": [
        "learn.fit_one_cycle(10, 1e-4)"
      ],
      "execution_count": 57,
      "outputs": [
        {
          "output_type": "display_data",
          "data": {
            "text/html": [
              "<table border=\"1\" class=\"dataframe\">\n",
              "  <thead>\n",
              "    <tr style=\"text-align: left;\">\n",
              "      <th>epoch</th>\n",
              "      <th>train_loss</th>\n",
              "      <th>valid_loss</th>\n",
              "      <th>accuracy</th>\n",
              "      <th>perplexity</th>\n",
              "      <th>time</th>\n",
              "    </tr>\n",
              "  </thead>\n",
              "  <tbody>\n",
              "    <tr>\n",
              "      <td>0</td>\n",
              "      <td>3.382634</td>\n",
              "      <td>2.833284</td>\n",
              "      <td>0.256758</td>\n",
              "      <td>17.001196</td>\n",
              "      <td>00:52</td>\n",
              "    </tr>\n",
              "    <tr>\n",
              "      <td>1</td>\n",
              "      <td>2.657138</td>\n",
              "      <td>2.470089</td>\n",
              "      <td>0.282285</td>\n",
              "      <td>11.823496</td>\n",
              "      <td>00:52</td>\n",
              "    </tr>\n",
              "    <tr>\n",
              "      <td>2</td>\n",
              "      <td>2.488379</td>\n",
              "      <td>2.387735</td>\n",
              "      <td>0.290666</td>\n",
              "      <td>10.888807</td>\n",
              "      <td>00:53</td>\n",
              "    </tr>\n",
              "    <tr>\n",
              "      <td>3</td>\n",
              "      <td>2.401469</td>\n",
              "      <td>2.329479</td>\n",
              "      <td>0.318252</td>\n",
              "      <td>10.272586</td>\n",
              "      <td>00:52</td>\n",
              "    </tr>\n",
              "    <tr>\n",
              "      <td>4</td>\n",
              "      <td>2.323820</td>\n",
              "      <td>2.230975</td>\n",
              "      <td>0.342784</td>\n",
              "      <td>9.308942</td>\n",
              "      <td>00:52</td>\n",
              "    </tr>\n",
              "    <tr>\n",
              "      <td>5</td>\n",
              "      <td>2.238005</td>\n",
              "      <td>2.145386</td>\n",
              "      <td>0.367885</td>\n",
              "      <td>8.545335</td>\n",
              "      <td>00:52</td>\n",
              "    </tr>\n",
              "    <tr>\n",
              "      <td>6</td>\n",
              "      <td>2.171559</td>\n",
              "      <td>2.066600</td>\n",
              "      <td>0.390477</td>\n",
              "      <td>7.897922</td>\n",
              "      <td>00:52</td>\n",
              "    </tr>\n",
              "    <tr>\n",
              "      <td>7</td>\n",
              "      <td>2.126211</td>\n",
              "      <td>2.025503</td>\n",
              "      <td>0.400875</td>\n",
              "      <td>7.579920</td>\n",
              "      <td>00:52</td>\n",
              "    </tr>\n",
              "    <tr>\n",
              "      <td>8</td>\n",
              "      <td>2.099094</td>\n",
              "      <td>2.004403</td>\n",
              "      <td>0.405491</td>\n",
              "      <td>7.421661</td>\n",
              "      <td>00:53</td>\n",
              "    </tr>\n",
              "    <tr>\n",
              "      <td>9</td>\n",
              "      <td>2.092339</td>\n",
              "      <td>1.998510</td>\n",
              "      <td>0.407279</td>\n",
              "      <td>7.378053</td>\n",
              "      <td>00:52</td>\n",
              "    </tr>\n",
              "  </tbody>\n",
              "</table>"
            ],
            "text/plain": [
              "<IPython.core.display.HTML object>"
            ]
          },
          "metadata": {
            "tags": []
          }
        }
      ]
    }
  ]
}