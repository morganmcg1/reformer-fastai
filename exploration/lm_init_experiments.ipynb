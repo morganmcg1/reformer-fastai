{
  "nbformat": 4,
  "nbformat_minor": 0,
  "metadata": {
    "colab": {
      "name": "lm_init_experiments.ipynb",
      "provenance": [],
      "collapsed_sections": [
        "5BYubcEoTOeE",
        "xkoiu1NwuQGT"
      ],
      "authorship_tag": "ABX9TyOrkiMo5nZY+VBY2/2Q2bq7",
      "include_colab_link": true
    },
    "kernelspec": {
      "name": "python3",
      "display_name": "Python 3"
    },
    "accelerator": "GPU",
    "widgets": {
      "application/vnd.jupyter.widget-state+json": {
        "f0e90a33e40a43fbb3786ed8662431c2": {
          "model_module": "@jupyter-widgets/controls",
          "model_name": "HBoxModel",
          "state": {
            "_view_name": "HBoxView",
            "_dom_classes": [],
            "_model_name": "HBoxModel",
            "_view_module": "@jupyter-widgets/controls",
            "_model_module_version": "1.5.0",
            "_view_count": null,
            "_view_module_version": "1.5.0",
            "box_style": "",
            "layout": "IPY_MODEL_f5ecd65bd2bf4c178617ab18cb0fa0d6",
            "_model_module": "@jupyter-widgets/controls",
            "children": [
              "IPY_MODEL_40e4dfeb35cc471eabd6eed96325539c",
              "IPY_MODEL_61fcfb1a24d44a16b96eaec4d9d4b69b"
            ]
          }
        },
        "f5ecd65bd2bf4c178617ab18cb0fa0d6": {
          "model_module": "@jupyter-widgets/base",
          "model_name": "LayoutModel",
          "state": {
            "_view_name": "LayoutView",
            "grid_template_rows": null,
            "right": null,
            "justify_content": null,
            "_view_module": "@jupyter-widgets/base",
            "overflow": null,
            "_model_module_version": "1.2.0",
            "_view_count": null,
            "flex_flow": null,
            "width": null,
            "min_width": null,
            "border": null,
            "align_items": null,
            "bottom": null,
            "_model_module": "@jupyter-widgets/base",
            "top": null,
            "grid_column": null,
            "overflow_y": null,
            "overflow_x": null,
            "grid_auto_flow": null,
            "grid_area": null,
            "grid_template_columns": null,
            "flex": null,
            "_model_name": "LayoutModel",
            "justify_items": null,
            "grid_row": null,
            "max_height": null,
            "align_content": null,
            "visibility": null,
            "align_self": null,
            "height": null,
            "min_height": null,
            "padding": null,
            "grid_auto_rows": null,
            "grid_gap": null,
            "max_width": null,
            "order": null,
            "_view_module_version": "1.2.0",
            "grid_template_areas": null,
            "object_position": null,
            "object_fit": null,
            "grid_auto_columns": null,
            "margin": null,
            "display": null,
            "left": null
          }
        },
        "40e4dfeb35cc471eabd6eed96325539c": {
          "model_module": "@jupyter-widgets/controls",
          "model_name": "FloatProgressModel",
          "state": {
            "_view_name": "ProgressView",
            "style": "IPY_MODEL_c3cac8bf23e04ee2bdf94164460eb6c4",
            "_dom_classes": [],
            "description": "Downloading: ",
            "_model_name": "FloatProgressModel",
            "bar_style": "success",
            "max": 1657,
            "_view_module": "@jupyter-widgets/controls",
            "_model_module_version": "1.5.0",
            "value": 1657,
            "_view_count": null,
            "_view_module_version": "1.5.0",
            "orientation": "horizontal",
            "min": 0,
            "description_tooltip": null,
            "_model_module": "@jupyter-widgets/controls",
            "layout": "IPY_MODEL_0150dc51648741318ffdd7a908681569"
          }
        },
        "61fcfb1a24d44a16b96eaec4d9d4b69b": {
          "model_module": "@jupyter-widgets/controls",
          "model_name": "HTMLModel",
          "state": {
            "_view_name": "HTMLView",
            "style": "IPY_MODEL_4f5bd872e625495f9d455ae5270dfa47",
            "_dom_classes": [],
            "description": "",
            "_model_name": "HTMLModel",
            "placeholder": "​",
            "_view_module": "@jupyter-widgets/controls",
            "_model_module_version": "1.5.0",
            "value": " 3.80k/? [00:00&lt;00:00, 19.1kB/s]",
            "_view_count": null,
            "_view_module_version": "1.5.0",
            "description_tooltip": null,
            "_model_module": "@jupyter-widgets/controls",
            "layout": "IPY_MODEL_57c8cfb7558a4a8f915ec0fb4107eba5"
          }
        },
        "c3cac8bf23e04ee2bdf94164460eb6c4": {
          "model_module": "@jupyter-widgets/controls",
          "model_name": "ProgressStyleModel",
          "state": {
            "_view_name": "StyleView",
            "_model_name": "ProgressStyleModel",
            "description_width": "initial",
            "_view_module": "@jupyter-widgets/base",
            "_model_module_version": "1.5.0",
            "_view_count": null,
            "_view_module_version": "1.2.0",
            "bar_color": null,
            "_model_module": "@jupyter-widgets/controls"
          }
        },
        "0150dc51648741318ffdd7a908681569": {
          "model_module": "@jupyter-widgets/base",
          "model_name": "LayoutModel",
          "state": {
            "_view_name": "LayoutView",
            "grid_template_rows": null,
            "right": null,
            "justify_content": null,
            "_view_module": "@jupyter-widgets/base",
            "overflow": null,
            "_model_module_version": "1.2.0",
            "_view_count": null,
            "flex_flow": null,
            "width": null,
            "min_width": null,
            "border": null,
            "align_items": null,
            "bottom": null,
            "_model_module": "@jupyter-widgets/base",
            "top": null,
            "grid_column": null,
            "overflow_y": null,
            "overflow_x": null,
            "grid_auto_flow": null,
            "grid_area": null,
            "grid_template_columns": null,
            "flex": null,
            "_model_name": "LayoutModel",
            "justify_items": null,
            "grid_row": null,
            "max_height": null,
            "align_content": null,
            "visibility": null,
            "align_self": null,
            "height": null,
            "min_height": null,
            "padding": null,
            "grid_auto_rows": null,
            "grid_gap": null,
            "max_width": null,
            "order": null,
            "_view_module_version": "1.2.0",
            "grid_template_areas": null,
            "object_position": null,
            "object_fit": null,
            "grid_auto_columns": null,
            "margin": null,
            "display": null,
            "left": null
          }
        },
        "4f5bd872e625495f9d455ae5270dfa47": {
          "model_module": "@jupyter-widgets/controls",
          "model_name": "DescriptionStyleModel",
          "state": {
            "_view_name": "StyleView",
            "_model_name": "DescriptionStyleModel",
            "description_width": "",
            "_view_module": "@jupyter-widgets/base",
            "_model_module_version": "1.5.0",
            "_view_count": null,
            "_view_module_version": "1.2.0",
            "_model_module": "@jupyter-widgets/controls"
          }
        },
        "57c8cfb7558a4a8f915ec0fb4107eba5": {
          "model_module": "@jupyter-widgets/base",
          "model_name": "LayoutModel",
          "state": {
            "_view_name": "LayoutView",
            "grid_template_rows": null,
            "right": null,
            "justify_content": null,
            "_view_module": "@jupyter-widgets/base",
            "overflow": null,
            "_model_module_version": "1.2.0",
            "_view_count": null,
            "flex_flow": null,
            "width": null,
            "min_width": null,
            "border": null,
            "align_items": null,
            "bottom": null,
            "_model_module": "@jupyter-widgets/base",
            "top": null,
            "grid_column": null,
            "overflow_y": null,
            "overflow_x": null,
            "grid_auto_flow": null,
            "grid_area": null,
            "grid_template_columns": null,
            "flex": null,
            "_model_name": "LayoutModel",
            "justify_items": null,
            "grid_row": null,
            "max_height": null,
            "align_content": null,
            "visibility": null,
            "align_self": null,
            "height": null,
            "min_height": null,
            "padding": null,
            "grid_auto_rows": null,
            "grid_gap": null,
            "max_width": null,
            "order": null,
            "_view_module_version": "1.2.0",
            "grid_template_areas": null,
            "object_position": null,
            "object_fit": null,
            "grid_auto_columns": null,
            "margin": null,
            "display": null,
            "left": null
          }
        },
        "d37e63799b2c4bc98de7cfacace1fcae": {
          "model_module": "@jupyter-widgets/controls",
          "model_name": "HBoxModel",
          "state": {
            "_view_name": "HBoxView",
            "_dom_classes": [],
            "_model_name": "HBoxModel",
            "_view_module": "@jupyter-widgets/controls",
            "_model_module_version": "1.5.0",
            "_view_count": null,
            "_view_module_version": "1.5.0",
            "box_style": "",
            "layout": "IPY_MODEL_62b116b338c04b88b54afe9cf4bb23f4",
            "_model_module": "@jupyter-widgets/controls",
            "children": [
              "IPY_MODEL_629534e082f14bd3917d7bd037890d4d",
              "IPY_MODEL_2ff34b7ddd0c4466aef8b4f7817f3140"
            ]
          }
        },
        "62b116b338c04b88b54afe9cf4bb23f4": {
          "model_module": "@jupyter-widgets/base",
          "model_name": "LayoutModel",
          "state": {
            "_view_name": "LayoutView",
            "grid_template_rows": null,
            "right": null,
            "justify_content": null,
            "_view_module": "@jupyter-widgets/base",
            "overflow": null,
            "_model_module_version": "1.2.0",
            "_view_count": null,
            "flex_flow": null,
            "width": null,
            "min_width": null,
            "border": null,
            "align_items": null,
            "bottom": null,
            "_model_module": "@jupyter-widgets/base",
            "top": null,
            "grid_column": null,
            "overflow_y": null,
            "overflow_x": null,
            "grid_auto_flow": null,
            "grid_area": null,
            "grid_template_columns": null,
            "flex": null,
            "_model_name": "LayoutModel",
            "justify_items": null,
            "grid_row": null,
            "max_height": null,
            "align_content": null,
            "visibility": null,
            "align_self": null,
            "height": null,
            "min_height": null,
            "padding": null,
            "grid_auto_rows": null,
            "grid_gap": null,
            "max_width": null,
            "order": null,
            "_view_module_version": "1.2.0",
            "grid_template_areas": null,
            "object_position": null,
            "object_fit": null,
            "grid_auto_columns": null,
            "margin": null,
            "display": null,
            "left": null
          }
        },
        "629534e082f14bd3917d7bd037890d4d": {
          "model_module": "@jupyter-widgets/controls",
          "model_name": "FloatProgressModel",
          "state": {
            "_view_name": "ProgressView",
            "style": "IPY_MODEL_4fdd89a34037456683c49f8e51da4487",
            "_dom_classes": [],
            "description": "Downloading: ",
            "_model_name": "FloatProgressModel",
            "bar_style": "success",
            "max": 908,
            "_view_module": "@jupyter-widgets/controls",
            "_model_module_version": "1.5.0",
            "value": 908,
            "_view_count": null,
            "_view_module_version": "1.5.0",
            "orientation": "horizontal",
            "min": 0,
            "description_tooltip": null,
            "_model_module": "@jupyter-widgets/controls",
            "layout": "IPY_MODEL_d542a56c47134577bb560208b4969494"
          }
        },
        "2ff34b7ddd0c4466aef8b4f7817f3140": {
          "model_module": "@jupyter-widgets/controls",
          "model_name": "HTMLModel",
          "state": {
            "_view_name": "HTMLView",
            "style": "IPY_MODEL_424842a81c694b888abd68dacdf04968",
            "_dom_classes": [],
            "description": "",
            "_model_name": "HTMLModel",
            "placeholder": "​",
            "_view_module": "@jupyter-widgets/controls",
            "_model_module_version": "1.5.0",
            "value": " 1.90k/? [00:00&lt;00:00, 5.10kB/s]",
            "_view_count": null,
            "_view_module_version": "1.5.0",
            "description_tooltip": null,
            "_model_module": "@jupyter-widgets/controls",
            "layout": "IPY_MODEL_7b64085f635c4fec9323cfa7c1f41d0f"
          }
        },
        "4fdd89a34037456683c49f8e51da4487": {
          "model_module": "@jupyter-widgets/controls",
          "model_name": "ProgressStyleModel",
          "state": {
            "_view_name": "StyleView",
            "_model_name": "ProgressStyleModel",
            "description_width": "initial",
            "_view_module": "@jupyter-widgets/base",
            "_model_module_version": "1.5.0",
            "_view_count": null,
            "_view_module_version": "1.2.0",
            "bar_color": null,
            "_model_module": "@jupyter-widgets/controls"
          }
        },
        "d542a56c47134577bb560208b4969494": {
          "model_module": "@jupyter-widgets/base",
          "model_name": "LayoutModel",
          "state": {
            "_view_name": "LayoutView",
            "grid_template_rows": null,
            "right": null,
            "justify_content": null,
            "_view_module": "@jupyter-widgets/base",
            "overflow": null,
            "_model_module_version": "1.2.0",
            "_view_count": null,
            "flex_flow": null,
            "width": null,
            "min_width": null,
            "border": null,
            "align_items": null,
            "bottom": null,
            "_model_module": "@jupyter-widgets/base",
            "top": null,
            "grid_column": null,
            "overflow_y": null,
            "overflow_x": null,
            "grid_auto_flow": null,
            "grid_area": null,
            "grid_template_columns": null,
            "flex": null,
            "_model_name": "LayoutModel",
            "justify_items": null,
            "grid_row": null,
            "max_height": null,
            "align_content": null,
            "visibility": null,
            "align_self": null,
            "height": null,
            "min_height": null,
            "padding": null,
            "grid_auto_rows": null,
            "grid_gap": null,
            "max_width": null,
            "order": null,
            "_view_module_version": "1.2.0",
            "grid_template_areas": null,
            "object_position": null,
            "object_fit": null,
            "grid_auto_columns": null,
            "margin": null,
            "display": null,
            "left": null
          }
        },
        "424842a81c694b888abd68dacdf04968": {
          "model_module": "@jupyter-widgets/controls",
          "model_name": "DescriptionStyleModel",
          "state": {
            "_view_name": "StyleView",
            "_model_name": "DescriptionStyleModel",
            "description_width": "",
            "_view_module": "@jupyter-widgets/base",
            "_model_module_version": "1.5.0",
            "_view_count": null,
            "_view_module_version": "1.2.0",
            "_model_module": "@jupyter-widgets/controls"
          }
        },
        "7b64085f635c4fec9323cfa7c1f41d0f": {
          "model_module": "@jupyter-widgets/base",
          "model_name": "LayoutModel",
          "state": {
            "_view_name": "LayoutView",
            "grid_template_rows": null,
            "right": null,
            "justify_content": null,
            "_view_module": "@jupyter-widgets/base",
            "overflow": null,
            "_model_module_version": "1.2.0",
            "_view_count": null,
            "flex_flow": null,
            "width": null,
            "min_width": null,
            "border": null,
            "align_items": null,
            "bottom": null,
            "_model_module": "@jupyter-widgets/base",
            "top": null,
            "grid_column": null,
            "overflow_y": null,
            "overflow_x": null,
            "grid_auto_flow": null,
            "grid_area": null,
            "grid_template_columns": null,
            "flex": null,
            "_model_name": "LayoutModel",
            "justify_items": null,
            "grid_row": null,
            "max_height": null,
            "align_content": null,
            "visibility": null,
            "align_self": null,
            "height": null,
            "min_height": null,
            "padding": null,
            "grid_auto_rows": null,
            "grid_gap": null,
            "max_width": null,
            "order": null,
            "_view_module_version": "1.2.0",
            "grid_template_areas": null,
            "object_position": null,
            "object_fit": null,
            "grid_auto_columns": null,
            "margin": null,
            "display": null,
            "left": null
          }
        },
        "16f5c70c013f4350ad215c4528290ed9": {
          "model_module": "@jupyter-widgets/controls",
          "model_name": "HBoxModel",
          "state": {
            "_view_name": "HBoxView",
            "_dom_classes": [],
            "_model_name": "HBoxModel",
            "_view_module": "@jupyter-widgets/controls",
            "_model_module_version": "1.5.0",
            "_view_count": null,
            "_view_module_version": "1.5.0",
            "box_style": "",
            "layout": "IPY_MODEL_281b3eb081a74cb49c8ca2417c3de0e0",
            "_model_module": "@jupyter-widgets/controls",
            "children": [
              "IPY_MODEL_37185aa95eb847feb095ee38d06970c8",
              "IPY_MODEL_a9c0898c2ed2490591581bd120abc53b"
            ]
          }
        },
        "281b3eb081a74cb49c8ca2417c3de0e0": {
          "model_module": "@jupyter-widgets/base",
          "model_name": "LayoutModel",
          "state": {
            "_view_name": "LayoutView",
            "grid_template_rows": null,
            "right": null,
            "justify_content": null,
            "_view_module": "@jupyter-widgets/base",
            "overflow": null,
            "_model_module_version": "1.2.0",
            "_view_count": null,
            "flex_flow": null,
            "width": null,
            "min_width": null,
            "border": null,
            "align_items": null,
            "bottom": null,
            "_model_module": "@jupyter-widgets/base",
            "top": null,
            "grid_column": null,
            "overflow_y": null,
            "overflow_x": null,
            "grid_auto_flow": null,
            "grid_area": null,
            "grid_template_columns": null,
            "flex": null,
            "_model_name": "LayoutModel",
            "justify_items": null,
            "grid_row": null,
            "max_height": null,
            "align_content": null,
            "visibility": null,
            "align_self": null,
            "height": null,
            "min_height": null,
            "padding": null,
            "grid_auto_rows": null,
            "grid_gap": null,
            "max_width": null,
            "order": null,
            "_view_module_version": "1.2.0",
            "grid_template_areas": null,
            "object_position": null,
            "object_fit": null,
            "grid_auto_columns": null,
            "margin": null,
            "display": null,
            "left": null
          }
        },
        "37185aa95eb847feb095ee38d06970c8": {
          "model_module": "@jupyter-widgets/controls",
          "model_name": "FloatProgressModel",
          "state": {
            "_view_name": "ProgressView",
            "style": "IPY_MODEL_6324410be65f415e9ff145ebec38f2da",
            "_dom_classes": [],
            "description": "Downloading: ",
            "_model_name": "FloatProgressModel",
            "bar_style": "success",
            "max": 435071,
            "_view_module": "@jupyter-widgets/controls",
            "_model_module_version": "1.5.0",
            "value": 435071,
            "_view_count": null,
            "_view_module_version": "1.5.0",
            "orientation": "horizontal",
            "min": 0,
            "description_tooltip": null,
            "_model_module": "@jupyter-widgets/controls",
            "layout": "IPY_MODEL_5fcaa0ff88e2482db5576f40cd189f40"
          }
        },
        "a9c0898c2ed2490591581bd120abc53b": {
          "model_module": "@jupyter-widgets/controls",
          "model_name": "HTMLModel",
          "state": {
            "_view_name": "HTMLView",
            "style": "IPY_MODEL_8911f2f8967f4d868407f740afa69472",
            "_dom_classes": [],
            "description": "",
            "_model_name": "HTMLModel",
            "placeholder": "​",
            "_view_module": "@jupyter-widgets/controls",
            "_model_module_version": "1.5.0",
            "value": " 1.12M/? [00:00&lt;00:00, 3.06MB/s]",
            "_view_count": null,
            "_view_module_version": "1.5.0",
            "description_tooltip": null,
            "_model_module": "@jupyter-widgets/controls",
            "layout": "IPY_MODEL_51dedb66616545c2be749a16ac167ebf"
          }
        },
        "6324410be65f415e9ff145ebec38f2da": {
          "model_module": "@jupyter-widgets/controls",
          "model_name": "ProgressStyleModel",
          "state": {
            "_view_name": "StyleView",
            "_model_name": "ProgressStyleModel",
            "description_width": "initial",
            "_view_module": "@jupyter-widgets/base",
            "_model_module_version": "1.5.0",
            "_view_count": null,
            "_view_module_version": "1.2.0",
            "bar_color": null,
            "_model_module": "@jupyter-widgets/controls"
          }
        },
        "5fcaa0ff88e2482db5576f40cd189f40": {
          "model_module": "@jupyter-widgets/base",
          "model_name": "LayoutModel",
          "state": {
            "_view_name": "LayoutView",
            "grid_template_rows": null,
            "right": null,
            "justify_content": null,
            "_view_module": "@jupyter-widgets/base",
            "overflow": null,
            "_model_module_version": "1.2.0",
            "_view_count": null,
            "flex_flow": null,
            "width": null,
            "min_width": null,
            "border": null,
            "align_items": null,
            "bottom": null,
            "_model_module": "@jupyter-widgets/base",
            "top": null,
            "grid_column": null,
            "overflow_y": null,
            "overflow_x": null,
            "grid_auto_flow": null,
            "grid_area": null,
            "grid_template_columns": null,
            "flex": null,
            "_model_name": "LayoutModel",
            "justify_items": null,
            "grid_row": null,
            "max_height": null,
            "align_content": null,
            "visibility": null,
            "align_self": null,
            "height": null,
            "min_height": null,
            "padding": null,
            "grid_auto_rows": null,
            "grid_gap": null,
            "max_width": null,
            "order": null,
            "_view_module_version": "1.2.0",
            "grid_template_areas": null,
            "object_position": null,
            "object_fit": null,
            "grid_auto_columns": null,
            "margin": null,
            "display": null,
            "left": null
          }
        },
        "8911f2f8967f4d868407f740afa69472": {
          "model_module": "@jupyter-widgets/controls",
          "model_name": "DescriptionStyleModel",
          "state": {
            "_view_name": "StyleView",
            "_model_name": "DescriptionStyleModel",
            "description_width": "",
            "_view_module": "@jupyter-widgets/base",
            "_model_module_version": "1.5.0",
            "_view_count": null,
            "_view_module_version": "1.2.0",
            "_model_module": "@jupyter-widgets/controls"
          }
        },
        "51dedb66616545c2be749a16ac167ebf": {
          "model_module": "@jupyter-widgets/base",
          "model_name": "LayoutModel",
          "state": {
            "_view_name": "LayoutView",
            "grid_template_rows": null,
            "right": null,
            "justify_content": null,
            "_view_module": "@jupyter-widgets/base",
            "overflow": null,
            "_model_module_version": "1.2.0",
            "_view_count": null,
            "flex_flow": null,
            "width": null,
            "min_width": null,
            "border": null,
            "align_items": null,
            "bottom": null,
            "_model_module": "@jupyter-widgets/base",
            "top": null,
            "grid_column": null,
            "overflow_y": null,
            "overflow_x": null,
            "grid_auto_flow": null,
            "grid_area": null,
            "grid_template_columns": null,
            "flex": null,
            "_model_name": "LayoutModel",
            "justify_items": null,
            "grid_row": null,
            "max_height": null,
            "align_content": null,
            "visibility": null,
            "align_self": null,
            "height": null,
            "min_height": null,
            "padding": null,
            "grid_auto_rows": null,
            "grid_gap": null,
            "max_width": null,
            "order": null,
            "_view_module_version": "1.2.0",
            "grid_template_areas": null,
            "object_position": null,
            "object_fit": null,
            "grid_auto_columns": null,
            "margin": null,
            "display": null,
            "left": null
          }
        },
        "549b56f123814290b6c2f701d7ed8ab9": {
          "model_module": "@jupyter-widgets/controls",
          "model_name": "HBoxModel",
          "state": {
            "_view_name": "HBoxView",
            "_dom_classes": [],
            "_model_name": "HBoxModel",
            "_view_module": "@jupyter-widgets/controls",
            "_model_module_version": "1.5.0",
            "_view_count": null,
            "_view_module_version": "1.5.0",
            "box_style": "",
            "layout": "IPY_MODEL_40ab049d3b984bc8b12dcb9d821495da",
            "_model_module": "@jupyter-widgets/controls",
            "children": [
              "IPY_MODEL_c3c8a08196dc4ff1b799472b796a75e5",
              "IPY_MODEL_8876f806488740fdad85069886c4d622"
            ]
          }
        },
        "40ab049d3b984bc8b12dcb9d821495da": {
          "model_module": "@jupyter-widgets/base",
          "model_name": "LayoutModel",
          "state": {
            "_view_name": "LayoutView",
            "grid_template_rows": null,
            "right": null,
            "justify_content": null,
            "_view_module": "@jupyter-widgets/base",
            "overflow": null,
            "_model_module_version": "1.2.0",
            "_view_count": null,
            "flex_flow": null,
            "width": null,
            "min_width": null,
            "border": null,
            "align_items": null,
            "bottom": null,
            "_model_module": "@jupyter-widgets/base",
            "top": null,
            "grid_column": null,
            "overflow_y": null,
            "overflow_x": null,
            "grid_auto_flow": null,
            "grid_area": null,
            "grid_template_columns": null,
            "flex": null,
            "_model_name": "LayoutModel",
            "justify_items": null,
            "grid_row": null,
            "max_height": null,
            "align_content": null,
            "visibility": null,
            "align_self": null,
            "height": null,
            "min_height": null,
            "padding": null,
            "grid_auto_rows": null,
            "grid_gap": null,
            "max_width": null,
            "order": null,
            "_view_module_version": "1.2.0",
            "grid_template_areas": null,
            "object_position": null,
            "object_fit": null,
            "grid_auto_columns": null,
            "margin": null,
            "display": null,
            "left": null
          }
        },
        "c3c8a08196dc4ff1b799472b796a75e5": {
          "model_module": "@jupyter-widgets/controls",
          "model_name": "FloatProgressModel",
          "state": {
            "_view_name": "ProgressView",
            "style": "IPY_MODEL_9b4f8079c34e42c59c948633f2c4c159",
            "_dom_classes": [],
            "description": "",
            "_model_name": "FloatProgressModel",
            "bar_style": "info",
            "max": 1,
            "_view_module": "@jupyter-widgets/controls",
            "_model_module_version": "1.5.0",
            "value": 1,
            "_view_count": null,
            "_view_module_version": "1.5.0",
            "orientation": "horizontal",
            "min": 0,
            "description_tooltip": null,
            "_model_module": "@jupyter-widgets/controls",
            "layout": "IPY_MODEL_82fc997538f34b92b2b00331b8ebdab1"
          }
        },
        "8876f806488740fdad85069886c4d622": {
          "model_module": "@jupyter-widgets/controls",
          "model_name": "HTMLModel",
          "state": {
            "_view_name": "HTMLView",
            "style": "IPY_MODEL_033f8a12be94464c983efba7d75b571a",
            "_dom_classes": [],
            "description": "",
            "_model_name": "HTMLModel",
            "placeholder": "​",
            "_view_module": "@jupyter-widgets/controls",
            "_model_module_version": "1.5.0",
            "value": " 1/0 [00:00&lt;00:00, 44.00 examples/s]",
            "_view_count": null,
            "_view_module_version": "1.5.0",
            "description_tooltip": null,
            "_model_module": "@jupyter-widgets/controls",
            "layout": "IPY_MODEL_92828219d8cf4dab920e8fdd90734dbe"
          }
        },
        "9b4f8079c34e42c59c948633f2c4c159": {
          "model_module": "@jupyter-widgets/controls",
          "model_name": "ProgressStyleModel",
          "state": {
            "_view_name": "StyleView",
            "_model_name": "ProgressStyleModel",
            "description_width": "initial",
            "_view_module": "@jupyter-widgets/base",
            "_model_module_version": "1.5.0",
            "_view_count": null,
            "_view_module_version": "1.2.0",
            "bar_color": null,
            "_model_module": "@jupyter-widgets/controls"
          }
        },
        "82fc997538f34b92b2b00331b8ebdab1": {
          "model_module": "@jupyter-widgets/base",
          "model_name": "LayoutModel",
          "state": {
            "_view_name": "LayoutView",
            "grid_template_rows": null,
            "right": null,
            "justify_content": null,
            "_view_module": "@jupyter-widgets/base",
            "overflow": null,
            "_model_module_version": "1.2.0",
            "_view_count": null,
            "flex_flow": null,
            "width": null,
            "min_width": null,
            "border": null,
            "align_items": null,
            "bottom": null,
            "_model_module": "@jupyter-widgets/base",
            "top": null,
            "grid_column": null,
            "overflow_y": null,
            "overflow_x": null,
            "grid_auto_flow": null,
            "grid_area": null,
            "grid_template_columns": null,
            "flex": null,
            "_model_name": "LayoutModel",
            "justify_items": null,
            "grid_row": null,
            "max_height": null,
            "align_content": null,
            "visibility": null,
            "align_self": null,
            "height": null,
            "min_height": null,
            "padding": null,
            "grid_auto_rows": null,
            "grid_gap": null,
            "max_width": null,
            "order": null,
            "_view_module_version": "1.2.0",
            "grid_template_areas": null,
            "object_position": null,
            "object_fit": null,
            "grid_auto_columns": null,
            "margin": null,
            "display": null,
            "left": null
          }
        },
        "033f8a12be94464c983efba7d75b571a": {
          "model_module": "@jupyter-widgets/controls",
          "model_name": "DescriptionStyleModel",
          "state": {
            "_view_name": "StyleView",
            "_model_name": "DescriptionStyleModel",
            "description_width": "",
            "_view_module": "@jupyter-widgets/base",
            "_model_module_version": "1.5.0",
            "_view_count": null,
            "_view_module_version": "1.2.0",
            "_model_module": "@jupyter-widgets/controls"
          }
        },
        "92828219d8cf4dab920e8fdd90734dbe": {
          "model_module": "@jupyter-widgets/base",
          "model_name": "LayoutModel",
          "state": {
            "_view_name": "LayoutView",
            "grid_template_rows": null,
            "right": null,
            "justify_content": null,
            "_view_module": "@jupyter-widgets/base",
            "overflow": null,
            "_model_module_version": "1.2.0",
            "_view_count": null,
            "flex_flow": null,
            "width": null,
            "min_width": null,
            "border": null,
            "align_items": null,
            "bottom": null,
            "_model_module": "@jupyter-widgets/base",
            "top": null,
            "grid_column": null,
            "overflow_y": null,
            "overflow_x": null,
            "grid_auto_flow": null,
            "grid_area": null,
            "grid_template_columns": null,
            "flex": null,
            "_model_name": "LayoutModel",
            "justify_items": null,
            "grid_row": null,
            "max_height": null,
            "align_content": null,
            "visibility": null,
            "align_self": null,
            "height": null,
            "min_height": null,
            "padding": null,
            "grid_auto_rows": null,
            "grid_gap": null,
            "max_width": null,
            "order": null,
            "_view_module_version": "1.2.0",
            "grid_template_areas": null,
            "object_position": null,
            "object_fit": null,
            "grid_auto_columns": null,
            "margin": null,
            "display": null,
            "left": null
          }
        },
        "8fe02f01e44e4bd5874d2bb7e1088d17": {
          "model_module": "@jupyter-widgets/controls",
          "model_name": "HBoxModel",
          "state": {
            "_view_name": "HBoxView",
            "_dom_classes": [],
            "_model_name": "HBoxModel",
            "_view_module": "@jupyter-widgets/controls",
            "_model_module_version": "1.5.0",
            "_view_count": null,
            "_view_module_version": "1.5.0",
            "box_style": "",
            "layout": "IPY_MODEL_b330ddd7e56840fdaf74764d29692fc2",
            "_model_module": "@jupyter-widgets/controls",
            "children": [
              "IPY_MODEL_868f8c0b13894abfa26bb99e031b13df",
              "IPY_MODEL_71382e07055641f48250c6f3c924ce11"
            ]
          }
        },
        "b330ddd7e56840fdaf74764d29692fc2": {
          "model_module": "@jupyter-widgets/base",
          "model_name": "LayoutModel",
          "state": {
            "_view_name": "LayoutView",
            "grid_template_rows": null,
            "right": null,
            "justify_content": null,
            "_view_module": "@jupyter-widgets/base",
            "overflow": null,
            "_model_module_version": "1.2.0",
            "_view_count": null,
            "flex_flow": null,
            "width": null,
            "min_width": null,
            "border": null,
            "align_items": null,
            "bottom": null,
            "_model_module": "@jupyter-widgets/base",
            "top": null,
            "grid_column": null,
            "overflow_y": null,
            "overflow_x": null,
            "grid_auto_flow": null,
            "grid_area": null,
            "grid_template_columns": null,
            "flex": null,
            "_model_name": "LayoutModel",
            "justify_items": null,
            "grid_row": null,
            "max_height": null,
            "align_content": null,
            "visibility": null,
            "align_self": null,
            "height": null,
            "min_height": null,
            "padding": null,
            "grid_auto_rows": null,
            "grid_gap": null,
            "max_width": null,
            "order": null,
            "_view_module_version": "1.2.0",
            "grid_template_areas": null,
            "object_position": null,
            "object_fit": null,
            "grid_auto_columns": null,
            "margin": null,
            "display": null,
            "left": null
          }
        },
        "868f8c0b13894abfa26bb99e031b13df": {
          "model_module": "@jupyter-widgets/controls",
          "model_name": "FloatProgressModel",
          "state": {
            "_view_name": "ProgressView",
            "style": "IPY_MODEL_27a4d82e074d49ecbb086013c8d39dae",
            "_dom_classes": [],
            "description": "",
            "_model_name": "FloatProgressModel",
            "bar_style": "info",
            "max": 1,
            "_view_module": "@jupyter-widgets/controls",
            "_model_module_version": "1.5.0",
            "value": 1,
            "_view_count": null,
            "_view_module_version": "1.5.0",
            "orientation": "horizontal",
            "min": 0,
            "description_tooltip": null,
            "_model_module": "@jupyter-widgets/controls",
            "layout": "IPY_MODEL_508beaf078804121aea4328359de3394"
          }
        },
        "71382e07055641f48250c6f3c924ce11": {
          "model_module": "@jupyter-widgets/controls",
          "model_name": "HTMLModel",
          "state": {
            "_view_name": "HTMLView",
            "style": "IPY_MODEL_6d18e6cee0f64a3897aacaceefebce68",
            "_dom_classes": [],
            "description": "",
            "_model_name": "HTMLModel",
            "placeholder": "​",
            "_view_module": "@jupyter-widgets/controls",
            "_model_module_version": "1.5.0",
            "value": " 1/0 [00:00&lt;00:00, 28.17 examples/s]",
            "_view_count": null,
            "_view_module_version": "1.5.0",
            "description_tooltip": null,
            "_model_module": "@jupyter-widgets/controls",
            "layout": "IPY_MODEL_ecfbce3d7a6446e1ba4a077b21d1f1cf"
          }
        },
        "27a4d82e074d49ecbb086013c8d39dae": {
          "model_module": "@jupyter-widgets/controls",
          "model_name": "ProgressStyleModel",
          "state": {
            "_view_name": "StyleView",
            "_model_name": "ProgressStyleModel",
            "description_width": "initial",
            "_view_module": "@jupyter-widgets/base",
            "_model_module_version": "1.5.0",
            "_view_count": null,
            "_view_module_version": "1.2.0",
            "bar_color": null,
            "_model_module": "@jupyter-widgets/controls"
          }
        },
        "508beaf078804121aea4328359de3394": {
          "model_module": "@jupyter-widgets/base",
          "model_name": "LayoutModel",
          "state": {
            "_view_name": "LayoutView",
            "grid_template_rows": null,
            "right": null,
            "justify_content": null,
            "_view_module": "@jupyter-widgets/base",
            "overflow": null,
            "_model_module_version": "1.2.0",
            "_view_count": null,
            "flex_flow": null,
            "width": null,
            "min_width": null,
            "border": null,
            "align_items": null,
            "bottom": null,
            "_model_module": "@jupyter-widgets/base",
            "top": null,
            "grid_column": null,
            "overflow_y": null,
            "overflow_x": null,
            "grid_auto_flow": null,
            "grid_area": null,
            "grid_template_columns": null,
            "flex": null,
            "_model_name": "LayoutModel",
            "justify_items": null,
            "grid_row": null,
            "max_height": null,
            "align_content": null,
            "visibility": null,
            "align_self": null,
            "height": null,
            "min_height": null,
            "padding": null,
            "grid_auto_rows": null,
            "grid_gap": null,
            "max_width": null,
            "order": null,
            "_view_module_version": "1.2.0",
            "grid_template_areas": null,
            "object_position": null,
            "object_fit": null,
            "grid_auto_columns": null,
            "margin": null,
            "display": null,
            "left": null
          }
        },
        "6d18e6cee0f64a3897aacaceefebce68": {
          "model_module": "@jupyter-widgets/controls",
          "model_name": "DescriptionStyleModel",
          "state": {
            "_view_name": "StyleView",
            "_model_name": "DescriptionStyleModel",
            "description_width": "",
            "_view_module": "@jupyter-widgets/base",
            "_model_module_version": "1.5.0",
            "_view_count": null,
            "_view_module_version": "1.2.0",
            "_model_module": "@jupyter-widgets/controls"
          }
        },
        "ecfbce3d7a6446e1ba4a077b21d1f1cf": {
          "model_module": "@jupyter-widgets/base",
          "model_name": "LayoutModel",
          "state": {
            "_view_name": "LayoutView",
            "grid_template_rows": null,
            "right": null,
            "justify_content": null,
            "_view_module": "@jupyter-widgets/base",
            "overflow": null,
            "_model_module_version": "1.2.0",
            "_view_count": null,
            "flex_flow": null,
            "width": null,
            "min_width": null,
            "border": null,
            "align_items": null,
            "bottom": null,
            "_model_module": "@jupyter-widgets/base",
            "top": null,
            "grid_column": null,
            "overflow_y": null,
            "overflow_x": null,
            "grid_auto_flow": null,
            "grid_area": null,
            "grid_template_columns": null,
            "flex": null,
            "_model_name": "LayoutModel",
            "justify_items": null,
            "grid_row": null,
            "max_height": null,
            "align_content": null,
            "visibility": null,
            "align_self": null,
            "height": null,
            "min_height": null,
            "padding": null,
            "grid_auto_rows": null,
            "grid_gap": null,
            "max_width": null,
            "order": null,
            "_view_module_version": "1.2.0",
            "grid_template_areas": null,
            "object_position": null,
            "object_fit": null,
            "grid_auto_columns": null,
            "margin": null,
            "display": null,
            "left": null
          }
        },
        "94cb73b8b2cb4b3985b0df4f0d8c67d9": {
          "model_module": "@jupyter-widgets/controls",
          "model_name": "HBoxModel",
          "state": {
            "_view_name": "HBoxView",
            "_dom_classes": [],
            "_model_name": "HBoxModel",
            "_view_module": "@jupyter-widgets/controls",
            "_model_module_version": "1.5.0",
            "_view_count": null,
            "_view_module_version": "1.5.0",
            "box_style": "",
            "layout": "IPY_MODEL_0fabcf7ffc20464090d177d26a5eac1c",
            "_model_module": "@jupyter-widgets/controls",
            "children": [
              "IPY_MODEL_ff3966fc35d544048ed650db1b5e4d43",
              "IPY_MODEL_41d56207dded4ca8844401aebce69617"
            ]
          }
        },
        "0fabcf7ffc20464090d177d26a5eac1c": {
          "model_module": "@jupyter-widgets/base",
          "model_name": "LayoutModel",
          "state": {
            "_view_name": "LayoutView",
            "grid_template_rows": null,
            "right": null,
            "justify_content": null,
            "_view_module": "@jupyter-widgets/base",
            "overflow": null,
            "_model_module_version": "1.2.0",
            "_view_count": null,
            "flex_flow": null,
            "width": null,
            "min_width": null,
            "border": null,
            "align_items": null,
            "bottom": null,
            "_model_module": "@jupyter-widgets/base",
            "top": null,
            "grid_column": null,
            "overflow_y": null,
            "overflow_x": null,
            "grid_auto_flow": null,
            "grid_area": null,
            "grid_template_columns": null,
            "flex": null,
            "_model_name": "LayoutModel",
            "justify_items": null,
            "grid_row": null,
            "max_height": null,
            "align_content": null,
            "visibility": null,
            "align_self": null,
            "height": null,
            "min_height": null,
            "padding": null,
            "grid_auto_rows": null,
            "grid_gap": null,
            "max_width": null,
            "order": null,
            "_view_module_version": "1.2.0",
            "grid_template_areas": null,
            "object_position": null,
            "object_fit": null,
            "grid_auto_columns": null,
            "margin": null,
            "display": null,
            "left": null
          }
        },
        "ff3966fc35d544048ed650db1b5e4d43": {
          "model_module": "@jupyter-widgets/controls",
          "model_name": "FloatProgressModel",
          "state": {
            "_view_name": "ProgressView",
            "style": "IPY_MODEL_eafab213320746ff93c7fb8eac41d478",
            "_dom_classes": [],
            "description": "",
            "_model_name": "FloatProgressModel",
            "bar_style": "info",
            "max": 1,
            "_view_module": "@jupyter-widgets/controls",
            "_model_module_version": "1.5.0",
            "value": 1,
            "_view_count": null,
            "_view_module_version": "1.5.0",
            "orientation": "horizontal",
            "min": 0,
            "description_tooltip": null,
            "_model_module": "@jupyter-widgets/controls",
            "layout": "IPY_MODEL_25de49cc71614cf3aefbe51846c92b71"
          }
        },
        "41d56207dded4ca8844401aebce69617": {
          "model_module": "@jupyter-widgets/controls",
          "model_name": "HTMLModel",
          "state": {
            "_view_name": "HTMLView",
            "style": "IPY_MODEL_ada843b8b0824d8daf1a1255328d7887",
            "_dom_classes": [],
            "description": "",
            "_model_name": "HTMLModel",
            "placeholder": "​",
            "_view_module": "@jupyter-widgets/controls",
            "_model_module_version": "1.5.0",
            "value": " 1/0 [00:00&lt;00:00, 28.27 examples/s]",
            "_view_count": null,
            "_view_module_version": "1.5.0",
            "description_tooltip": null,
            "_model_module": "@jupyter-widgets/controls",
            "layout": "IPY_MODEL_d592f1b46f0a4f3daea6f911311b7de3"
          }
        },
        "eafab213320746ff93c7fb8eac41d478": {
          "model_module": "@jupyter-widgets/controls",
          "model_name": "ProgressStyleModel",
          "state": {
            "_view_name": "StyleView",
            "_model_name": "ProgressStyleModel",
            "description_width": "initial",
            "_view_module": "@jupyter-widgets/base",
            "_model_module_version": "1.5.0",
            "_view_count": null,
            "_view_module_version": "1.2.0",
            "bar_color": null,
            "_model_module": "@jupyter-widgets/controls"
          }
        },
        "25de49cc71614cf3aefbe51846c92b71": {
          "model_module": "@jupyter-widgets/base",
          "model_name": "LayoutModel",
          "state": {
            "_view_name": "LayoutView",
            "grid_template_rows": null,
            "right": null,
            "justify_content": null,
            "_view_module": "@jupyter-widgets/base",
            "overflow": null,
            "_model_module_version": "1.2.0",
            "_view_count": null,
            "flex_flow": null,
            "width": null,
            "min_width": null,
            "border": null,
            "align_items": null,
            "bottom": null,
            "_model_module": "@jupyter-widgets/base",
            "top": null,
            "grid_column": null,
            "overflow_y": null,
            "overflow_x": null,
            "grid_auto_flow": null,
            "grid_area": null,
            "grid_template_columns": null,
            "flex": null,
            "_model_name": "LayoutModel",
            "justify_items": null,
            "grid_row": null,
            "max_height": null,
            "align_content": null,
            "visibility": null,
            "align_self": null,
            "height": null,
            "min_height": null,
            "padding": null,
            "grid_auto_rows": null,
            "grid_gap": null,
            "max_width": null,
            "order": null,
            "_view_module_version": "1.2.0",
            "grid_template_areas": null,
            "object_position": null,
            "object_fit": null,
            "grid_auto_columns": null,
            "margin": null,
            "display": null,
            "left": null
          }
        },
        "ada843b8b0824d8daf1a1255328d7887": {
          "model_module": "@jupyter-widgets/controls",
          "model_name": "DescriptionStyleModel",
          "state": {
            "_view_name": "StyleView",
            "_model_name": "DescriptionStyleModel",
            "description_width": "",
            "_view_module": "@jupyter-widgets/base",
            "_model_module_version": "1.5.0",
            "_view_count": null,
            "_view_module_version": "1.2.0",
            "_model_module": "@jupyter-widgets/controls"
          }
        },
        "d592f1b46f0a4f3daea6f911311b7de3": {
          "model_module": "@jupyter-widgets/base",
          "model_name": "LayoutModel",
          "state": {
            "_view_name": "LayoutView",
            "grid_template_rows": null,
            "right": null,
            "justify_content": null,
            "_view_module": "@jupyter-widgets/base",
            "overflow": null,
            "_model_module_version": "1.2.0",
            "_view_count": null,
            "flex_flow": null,
            "width": null,
            "min_width": null,
            "border": null,
            "align_items": null,
            "bottom": null,
            "_model_module": "@jupyter-widgets/base",
            "top": null,
            "grid_column": null,
            "overflow_y": null,
            "overflow_x": null,
            "grid_auto_flow": null,
            "grid_area": null,
            "grid_template_columns": null,
            "flex": null,
            "_model_name": "LayoutModel",
            "justify_items": null,
            "grid_row": null,
            "max_height": null,
            "align_content": null,
            "visibility": null,
            "align_self": null,
            "height": null,
            "min_height": null,
            "padding": null,
            "grid_auto_rows": null,
            "grid_gap": null,
            "max_width": null,
            "order": null,
            "_view_module_version": "1.2.0",
            "grid_template_areas": null,
            "object_position": null,
            "object_fit": null,
            "grid_auto_columns": null,
            "margin": null,
            "display": null,
            "left": null
          }
        },
        "4c1c6e04c4094f89ad66bb563f353390": {
          "model_module": "@jupyter-widgets/controls",
          "model_name": "HBoxModel",
          "state": {
            "_view_name": "HBoxView",
            "_dom_classes": [],
            "_model_name": "HBoxModel",
            "_view_module": "@jupyter-widgets/controls",
            "_model_module_version": "1.5.0",
            "_view_count": null,
            "_view_module_version": "1.5.0",
            "box_style": "",
            "layout": "IPY_MODEL_63dfc6390f82432b9a84fc014e56277a",
            "_model_module": "@jupyter-widgets/controls",
            "children": [
              "IPY_MODEL_77e90bda23354a67a52a6062f5be152c",
              "IPY_MODEL_7eddf86a53e34473a5c8d1669621e4fd"
            ]
          }
        },
        "63dfc6390f82432b9a84fc014e56277a": {
          "model_module": "@jupyter-widgets/base",
          "model_name": "LayoutModel",
          "state": {
            "_view_name": "LayoutView",
            "grid_template_rows": null,
            "right": null,
            "justify_content": null,
            "_view_module": "@jupyter-widgets/base",
            "overflow": null,
            "_model_module_version": "1.2.0",
            "_view_count": null,
            "flex_flow": null,
            "width": null,
            "min_width": null,
            "border": null,
            "align_items": null,
            "bottom": null,
            "_model_module": "@jupyter-widgets/base",
            "top": null,
            "grid_column": null,
            "overflow_y": null,
            "overflow_x": null,
            "grid_auto_flow": null,
            "grid_area": null,
            "grid_template_columns": null,
            "flex": null,
            "_model_name": "LayoutModel",
            "justify_items": null,
            "grid_row": null,
            "max_height": null,
            "align_content": null,
            "visibility": null,
            "align_self": null,
            "height": null,
            "min_height": null,
            "padding": null,
            "grid_auto_rows": null,
            "grid_gap": null,
            "max_width": null,
            "order": null,
            "_view_module_version": "1.2.0",
            "grid_template_areas": null,
            "object_position": null,
            "object_fit": null,
            "grid_auto_columns": null,
            "margin": null,
            "display": null,
            "left": null
          }
        },
        "77e90bda23354a67a52a6062f5be152c": {
          "model_module": "@jupyter-widgets/controls",
          "model_name": "FloatProgressModel",
          "state": {
            "_view_name": "ProgressView",
            "style": "IPY_MODEL_ca32000c25284730ada026f19b24c06a",
            "_dom_classes": [],
            "description": "100%",
            "_model_name": "FloatProgressModel",
            "bar_style": "success",
            "max": 1,
            "_view_module": "@jupyter-widgets/controls",
            "_model_module_version": "1.5.0",
            "value": 1,
            "_view_count": null,
            "_view_module_version": "1.5.0",
            "orientation": "horizontal",
            "min": 0,
            "description_tooltip": null,
            "_model_module": "@jupyter-widgets/controls",
            "layout": "IPY_MODEL_d9fa857b865d40eab6a77139b21201a7"
          }
        },
        "7eddf86a53e34473a5c8d1669621e4fd": {
          "model_module": "@jupyter-widgets/controls",
          "model_name": "HTMLModel",
          "state": {
            "_view_name": "HTMLView",
            "style": "IPY_MODEL_50e72bd28f9d4415830d17fed31f73ad",
            "_dom_classes": [],
            "description": "",
            "_model_name": "HTMLModel",
            "placeholder": "​",
            "_view_module": "@jupyter-widgets/controls",
            "_model_module_version": "1.5.0",
            "value": " 1/1 [00:00&lt;00:00, 14.27ba/s]",
            "_view_count": null,
            "_view_module_version": "1.5.0",
            "description_tooltip": null,
            "_model_module": "@jupyter-widgets/controls",
            "layout": "IPY_MODEL_2eaf2480aeda4d70b361591358e3b57a"
          }
        },
        "ca32000c25284730ada026f19b24c06a": {
          "model_module": "@jupyter-widgets/controls",
          "model_name": "ProgressStyleModel",
          "state": {
            "_view_name": "StyleView",
            "_model_name": "ProgressStyleModel",
            "description_width": "initial",
            "_view_module": "@jupyter-widgets/base",
            "_model_module_version": "1.5.0",
            "_view_count": null,
            "_view_module_version": "1.2.0",
            "bar_color": null,
            "_model_module": "@jupyter-widgets/controls"
          }
        },
        "d9fa857b865d40eab6a77139b21201a7": {
          "model_module": "@jupyter-widgets/base",
          "model_name": "LayoutModel",
          "state": {
            "_view_name": "LayoutView",
            "grid_template_rows": null,
            "right": null,
            "justify_content": null,
            "_view_module": "@jupyter-widgets/base",
            "overflow": null,
            "_model_module_version": "1.2.0",
            "_view_count": null,
            "flex_flow": null,
            "width": null,
            "min_width": null,
            "border": null,
            "align_items": null,
            "bottom": null,
            "_model_module": "@jupyter-widgets/base",
            "top": null,
            "grid_column": null,
            "overflow_y": null,
            "overflow_x": null,
            "grid_auto_flow": null,
            "grid_area": null,
            "grid_template_columns": null,
            "flex": null,
            "_model_name": "LayoutModel",
            "justify_items": null,
            "grid_row": null,
            "max_height": null,
            "align_content": null,
            "visibility": null,
            "align_self": null,
            "height": null,
            "min_height": null,
            "padding": null,
            "grid_auto_rows": null,
            "grid_gap": null,
            "max_width": null,
            "order": null,
            "_view_module_version": "1.2.0",
            "grid_template_areas": null,
            "object_position": null,
            "object_fit": null,
            "grid_auto_columns": null,
            "margin": null,
            "display": null,
            "left": null
          }
        },
        "50e72bd28f9d4415830d17fed31f73ad": {
          "model_module": "@jupyter-widgets/controls",
          "model_name": "DescriptionStyleModel",
          "state": {
            "_view_name": "StyleView",
            "_model_name": "DescriptionStyleModel",
            "description_width": "",
            "_view_module": "@jupyter-widgets/base",
            "_model_module_version": "1.5.0",
            "_view_count": null,
            "_view_module_version": "1.2.0",
            "_model_module": "@jupyter-widgets/controls"
          }
        },
        "2eaf2480aeda4d70b361591358e3b57a": {
          "model_module": "@jupyter-widgets/base",
          "model_name": "LayoutModel",
          "state": {
            "_view_name": "LayoutView",
            "grid_template_rows": null,
            "right": null,
            "justify_content": null,
            "_view_module": "@jupyter-widgets/base",
            "overflow": null,
            "_model_module_version": "1.2.0",
            "_view_count": null,
            "flex_flow": null,
            "width": null,
            "min_width": null,
            "border": null,
            "align_items": null,
            "bottom": null,
            "_model_module": "@jupyter-widgets/base",
            "top": null,
            "grid_column": null,
            "overflow_y": null,
            "overflow_x": null,
            "grid_auto_flow": null,
            "grid_area": null,
            "grid_template_columns": null,
            "flex": null,
            "_model_name": "LayoutModel",
            "justify_items": null,
            "grid_row": null,
            "max_height": null,
            "align_content": null,
            "visibility": null,
            "align_self": null,
            "height": null,
            "min_height": null,
            "padding": null,
            "grid_auto_rows": null,
            "grid_gap": null,
            "max_width": null,
            "order": null,
            "_view_module_version": "1.2.0",
            "grid_template_areas": null,
            "object_position": null,
            "object_fit": null,
            "grid_auto_columns": null,
            "margin": null,
            "display": null,
            "left": null
          }
        },
        "baeba82ee2a6442d86105d92a6cd1ae6": {
          "model_module": "@jupyter-widgets/controls",
          "model_name": "HBoxModel",
          "state": {
            "_view_name": "HBoxView",
            "_dom_classes": [],
            "_model_name": "HBoxModel",
            "_view_module": "@jupyter-widgets/controls",
            "_model_module_version": "1.5.0",
            "_view_count": null,
            "_view_module_version": "1.5.0",
            "box_style": "",
            "layout": "IPY_MODEL_0107b900081f409c97d143e67c7b13c0",
            "_model_module": "@jupyter-widgets/controls",
            "children": [
              "IPY_MODEL_22fc52bd687046f8ad7351ba47c45373",
              "IPY_MODEL_2b0210e73a27428ba4c44d9d617e412a"
            ]
          }
        },
        "0107b900081f409c97d143e67c7b13c0": {
          "model_module": "@jupyter-widgets/base",
          "model_name": "LayoutModel",
          "state": {
            "_view_name": "LayoutView",
            "grid_template_rows": null,
            "right": null,
            "justify_content": null,
            "_view_module": "@jupyter-widgets/base",
            "overflow": null,
            "_model_module_version": "1.2.0",
            "_view_count": null,
            "flex_flow": null,
            "width": null,
            "min_width": null,
            "border": null,
            "align_items": null,
            "bottom": null,
            "_model_module": "@jupyter-widgets/base",
            "top": null,
            "grid_column": null,
            "overflow_y": null,
            "overflow_x": null,
            "grid_auto_flow": null,
            "grid_area": null,
            "grid_template_columns": null,
            "flex": null,
            "_model_name": "LayoutModel",
            "justify_items": null,
            "grid_row": null,
            "max_height": null,
            "align_content": null,
            "visibility": null,
            "align_self": null,
            "height": null,
            "min_height": null,
            "padding": null,
            "grid_auto_rows": null,
            "grid_gap": null,
            "max_width": null,
            "order": null,
            "_view_module_version": "1.2.0",
            "grid_template_areas": null,
            "object_position": null,
            "object_fit": null,
            "grid_auto_columns": null,
            "margin": null,
            "display": null,
            "left": null
          }
        },
        "22fc52bd687046f8ad7351ba47c45373": {
          "model_module": "@jupyter-widgets/controls",
          "model_name": "FloatProgressModel",
          "state": {
            "_view_name": "ProgressView",
            "style": "IPY_MODEL_c7012dd4dd484ec5854ce3c53350eb04",
            "_dom_classes": [],
            "description": "100%",
            "_model_name": "FloatProgressModel",
            "bar_style": "success",
            "max": 36,
            "_view_module": "@jupyter-widgets/controls",
            "_model_module_version": "1.5.0",
            "value": 36,
            "_view_count": null,
            "_view_module_version": "1.5.0",
            "orientation": "horizontal",
            "min": 0,
            "description_tooltip": null,
            "_model_module": "@jupyter-widgets/controls",
            "layout": "IPY_MODEL_ffe576906d724dadae37648df0acc770"
          }
        },
        "2b0210e73a27428ba4c44d9d617e412a": {
          "model_module": "@jupyter-widgets/controls",
          "model_name": "HTMLModel",
          "state": {
            "_view_name": "HTMLView",
            "style": "IPY_MODEL_452815c0c276407aacbadb8fd7faf251",
            "_dom_classes": [],
            "description": "",
            "_model_name": "HTMLModel",
            "placeholder": "​",
            "_view_module": "@jupyter-widgets/controls",
            "_model_module_version": "1.5.0",
            "value": " 36/36 [00:00&lt;00:00, 40.28ba/s]",
            "_view_count": null,
            "_view_module_version": "1.5.0",
            "description_tooltip": null,
            "_model_module": "@jupyter-widgets/controls",
            "layout": "IPY_MODEL_47f42ee0f55f4093a6383af8e95e92d4"
          }
        },
        "c7012dd4dd484ec5854ce3c53350eb04": {
          "model_module": "@jupyter-widgets/controls",
          "model_name": "ProgressStyleModel",
          "state": {
            "_view_name": "StyleView",
            "_model_name": "ProgressStyleModel",
            "description_width": "initial",
            "_view_module": "@jupyter-widgets/base",
            "_model_module_version": "1.5.0",
            "_view_count": null,
            "_view_module_version": "1.2.0",
            "bar_color": null,
            "_model_module": "@jupyter-widgets/controls"
          }
        },
        "ffe576906d724dadae37648df0acc770": {
          "model_module": "@jupyter-widgets/base",
          "model_name": "LayoutModel",
          "state": {
            "_view_name": "LayoutView",
            "grid_template_rows": null,
            "right": null,
            "justify_content": null,
            "_view_module": "@jupyter-widgets/base",
            "overflow": null,
            "_model_module_version": "1.2.0",
            "_view_count": null,
            "flex_flow": null,
            "width": null,
            "min_width": null,
            "border": null,
            "align_items": null,
            "bottom": null,
            "_model_module": "@jupyter-widgets/base",
            "top": null,
            "grid_column": null,
            "overflow_y": null,
            "overflow_x": null,
            "grid_auto_flow": null,
            "grid_area": null,
            "grid_template_columns": null,
            "flex": null,
            "_model_name": "LayoutModel",
            "justify_items": null,
            "grid_row": null,
            "max_height": null,
            "align_content": null,
            "visibility": null,
            "align_self": null,
            "height": null,
            "min_height": null,
            "padding": null,
            "grid_auto_rows": null,
            "grid_gap": null,
            "max_width": null,
            "order": null,
            "_view_module_version": "1.2.0",
            "grid_template_areas": null,
            "object_position": null,
            "object_fit": null,
            "grid_auto_columns": null,
            "margin": null,
            "display": null,
            "left": null
          }
        },
        "452815c0c276407aacbadb8fd7faf251": {
          "model_module": "@jupyter-widgets/controls",
          "model_name": "DescriptionStyleModel",
          "state": {
            "_view_name": "StyleView",
            "_model_name": "DescriptionStyleModel",
            "description_width": "",
            "_view_module": "@jupyter-widgets/base",
            "_model_module_version": "1.5.0",
            "_view_count": null,
            "_view_module_version": "1.2.0",
            "_model_module": "@jupyter-widgets/controls"
          }
        },
        "47f42ee0f55f4093a6383af8e95e92d4": {
          "model_module": "@jupyter-widgets/base",
          "model_name": "LayoutModel",
          "state": {
            "_view_name": "LayoutView",
            "grid_template_rows": null,
            "right": null,
            "justify_content": null,
            "_view_module": "@jupyter-widgets/base",
            "overflow": null,
            "_model_module_version": "1.2.0",
            "_view_count": null,
            "flex_flow": null,
            "width": null,
            "min_width": null,
            "border": null,
            "align_items": null,
            "bottom": null,
            "_model_module": "@jupyter-widgets/base",
            "top": null,
            "grid_column": null,
            "overflow_y": null,
            "overflow_x": null,
            "grid_auto_flow": null,
            "grid_area": null,
            "grid_template_columns": null,
            "flex": null,
            "_model_name": "LayoutModel",
            "justify_items": null,
            "grid_row": null,
            "max_height": null,
            "align_content": null,
            "visibility": null,
            "align_self": null,
            "height": null,
            "min_height": null,
            "padding": null,
            "grid_auto_rows": null,
            "grid_gap": null,
            "max_width": null,
            "order": null,
            "_view_module_version": "1.2.0",
            "grid_template_areas": null,
            "object_position": null,
            "object_fit": null,
            "grid_auto_columns": null,
            "margin": null,
            "display": null,
            "left": null
          }
        }
      }
    }
  },
  "cells": [
    {
      "cell_type": "markdown",
      "metadata": {
        "id": "view-in-github",
        "colab_type": "text"
      },
      "source": [
        "<a href=\"https://colab.research.google.com/github/morganmcg1/reformer-fastai/blob/main/exploration/lm_init_experiments.ipynb\" target=\"_parent\"><img src=\"https://colab.research.google.com/assets/colab-badge.svg\" alt=\"Open In Colab\"/></a>"
      ]
    },
    {
      "cell_type": "code",
      "metadata": {
        "id": "t3YATJK5ESAm",
        "colab": {
          "base_uri": "https://localhost:8080/"
        },
        "outputId": "0c828aca-a22a-4f4a-bf3b-ceadcc0c1b8f"
      },
      "source": [
        "import sys\n",
        "if 'google.colab' in sys.modules:\n",
        "    !pip install -Uqq fastai einops datasets"
      ],
      "execution_count": 1,
      "outputs": [
        {
          "output_type": "stream",
          "text": [
            "\u001b[K     |████████████████████████████████| 194kB 19.9MB/s \n",
            "\u001b[K     |████████████████████████████████| 163kB 42.2MB/s \n",
            "\u001b[K     |████████████████████████████████| 51kB 8.6MB/s \n",
            "\u001b[K     |████████████████████████████████| 17.7MB 208kB/s \n",
            "\u001b[K     |████████████████████████████████| 245kB 58.7MB/s \n",
            "\u001b[?25h"
          ],
          "name": "stdout"
        }
      ]
    },
    {
      "cell_type": "code",
      "metadata": {
        "id": "OOEbl-UAEvdW"
      },
      "source": [
        "from fastai.text.all import *\n",
        "import datasets\n",
        "from datasets import load_dataset\n",
        "import six"
      ],
      "execution_count": 2,
      "outputs": []
    },
    {
      "cell_type": "code",
      "metadata": {
        "colab": {
          "base_uri": "https://localhost:8080/",
          "height": 256,
          "referenced_widgets": [
            "f0e90a33e40a43fbb3786ed8662431c2",
            "f5ecd65bd2bf4c178617ab18cb0fa0d6",
            "40e4dfeb35cc471eabd6eed96325539c",
            "61fcfb1a24d44a16b96eaec4d9d4b69b",
            "c3cac8bf23e04ee2bdf94164460eb6c4",
            "0150dc51648741318ffdd7a908681569",
            "4f5bd872e625495f9d455ae5270dfa47",
            "57c8cfb7558a4a8f915ec0fb4107eba5",
            "d37e63799b2c4bc98de7cfacace1fcae",
            "62b116b338c04b88b54afe9cf4bb23f4",
            "629534e082f14bd3917d7bd037890d4d",
            "2ff34b7ddd0c4466aef8b4f7817f3140",
            "4fdd89a34037456683c49f8e51da4487",
            "d542a56c47134577bb560208b4969494",
            "424842a81c694b888abd68dacdf04968",
            "7b64085f635c4fec9323cfa7c1f41d0f",
            "16f5c70c013f4350ad215c4528290ed9",
            "281b3eb081a74cb49c8ca2417c3de0e0",
            "37185aa95eb847feb095ee38d06970c8",
            "a9c0898c2ed2490591581bd120abc53b",
            "6324410be65f415e9ff145ebec38f2da",
            "5fcaa0ff88e2482db5576f40cd189f40",
            "8911f2f8967f4d868407f740afa69472",
            "51dedb66616545c2be749a16ac167ebf",
            "549b56f123814290b6c2f701d7ed8ab9",
            "40ab049d3b984bc8b12dcb9d821495da",
            "c3c8a08196dc4ff1b799472b796a75e5",
            "8876f806488740fdad85069886c4d622",
            "9b4f8079c34e42c59c948633f2c4c159",
            "82fc997538f34b92b2b00331b8ebdab1",
            "033f8a12be94464c983efba7d75b571a",
            "92828219d8cf4dab920e8fdd90734dbe",
            "8fe02f01e44e4bd5874d2bb7e1088d17",
            "b330ddd7e56840fdaf74764d29692fc2",
            "868f8c0b13894abfa26bb99e031b13df",
            "71382e07055641f48250c6f3c924ce11",
            "27a4d82e074d49ecbb086013c8d39dae",
            "508beaf078804121aea4328359de3394",
            "6d18e6cee0f64a3897aacaceefebce68",
            "ecfbce3d7a6446e1ba4a077b21d1f1cf",
            "94cb73b8b2cb4b3985b0df4f0d8c67d9",
            "0fabcf7ffc20464090d177d26a5eac1c",
            "ff3966fc35d544048ed650db1b5e4d43",
            "41d56207dded4ca8844401aebce69617",
            "eafab213320746ff93c7fb8eac41d478",
            "25de49cc71614cf3aefbe51846c92b71",
            "ada843b8b0824d8daf1a1255328d7887",
            "d592f1b46f0a4f3daea6f911311b7de3"
          ]
        },
        "id": "B-2BsP8XoqZk",
        "outputId": "c3659173-0731-444d-eff1-d74c95167ac8"
      },
      "source": [
        "dataset = load_dataset('tiny_shakespeare')"
      ],
      "execution_count": 3,
      "outputs": [
        {
          "output_type": "display_data",
          "data": {
            "application/vnd.jupyter.widget-view+json": {
              "model_id": "f0e90a33e40a43fbb3786ed8662431c2",
              "version_minor": 0,
              "version_major": 2
            },
            "text/plain": [
              "HBox(children=(FloatProgress(value=0.0, description='Downloading', max=1657.0, style=ProgressStyle(description…"
            ]
          },
          "metadata": {
            "tags": []
          }
        },
        {
          "output_type": "stream",
          "text": [
            "\n"
          ],
          "name": "stdout"
        },
        {
          "output_type": "display_data",
          "data": {
            "application/vnd.jupyter.widget-view+json": {
              "model_id": "d37e63799b2c4bc98de7cfacace1fcae",
              "version_minor": 0,
              "version_major": 2
            },
            "text/plain": [
              "HBox(children=(FloatProgress(value=0.0, description='Downloading', max=908.0, style=ProgressStyle(description_…"
            ]
          },
          "metadata": {
            "tags": []
          }
        },
        {
          "output_type": "stream",
          "text": [
            "Using custom data configuration default\n"
          ],
          "name": "stderr"
        },
        {
          "output_type": "stream",
          "text": [
            "\n",
            "Downloading and preparing dataset tiny_shakespeare/default (download: 1.06 MiB, generated: 1.06 MiB, post-processed: Unknown size, total: 2.13 MiB) to /root/.cache/huggingface/datasets/tiny_shakespeare/default/1.0.0/da11b9a200ca715af415094b34d5c956170f184cb3a58d7789680cf81bede955...\n"
          ],
          "name": "stdout"
        },
        {
          "output_type": "display_data",
          "data": {
            "application/vnd.jupyter.widget-view+json": {
              "model_id": "16f5c70c013f4350ad215c4528290ed9",
              "version_minor": 0,
              "version_major": 2
            },
            "text/plain": [
              "HBox(children=(FloatProgress(value=0.0, description='Downloading', max=435071.0, style=ProgressStyle(descripti…"
            ]
          },
          "metadata": {
            "tags": []
          }
        },
        {
          "output_type": "stream",
          "text": [
            "\n"
          ],
          "name": "stdout"
        },
        {
          "output_type": "display_data",
          "data": {
            "application/vnd.jupyter.widget-view+json": {
              "model_id": "549b56f123814290b6c2f701d7ed8ab9",
              "version_minor": 0,
              "version_major": 2
            },
            "text/plain": [
              "HBox(children=(FloatProgress(value=1.0, bar_style='info', max=1.0), HTML(value='')))"
            ]
          },
          "metadata": {
            "tags": []
          }
        },
        {
          "output_type": "stream",
          "text": [
            "\r"
          ],
          "name": "stdout"
        },
        {
          "output_type": "display_data",
          "data": {
            "application/vnd.jupyter.widget-view+json": {
              "model_id": "8fe02f01e44e4bd5874d2bb7e1088d17",
              "version_minor": 0,
              "version_major": 2
            },
            "text/plain": [
              "HBox(children=(FloatProgress(value=1.0, bar_style='info', max=1.0), HTML(value='')))"
            ]
          },
          "metadata": {
            "tags": []
          }
        },
        {
          "output_type": "stream",
          "text": [
            "\r"
          ],
          "name": "stdout"
        },
        {
          "output_type": "display_data",
          "data": {
            "application/vnd.jupyter.widget-view+json": {
              "model_id": "94cb73b8b2cb4b3985b0df4f0d8c67d9",
              "version_minor": 0,
              "version_major": 2
            },
            "text/plain": [
              "HBox(children=(FloatProgress(value=1.0, bar_style='info', max=1.0), HTML(value='')))"
            ]
          },
          "metadata": {
            "tags": []
          }
        },
        {
          "output_type": "stream",
          "text": [
            "\rDataset tiny_shakespeare downloaded and prepared to /root/.cache/huggingface/datasets/tiny_shakespeare/default/1.0.0/da11b9a200ca715af415094b34d5c956170f184cb3a58d7789680cf81bede955. Subsequent calls will reuse this data.\n"
          ],
          "name": "stdout"
        }
      ]
    },
    {
      "cell_type": "code",
      "metadata": {
        "id": "F-td1YZIO-3D"
      },
      "source": [
        "train_ds = dataset['train']"
      ],
      "execution_count": 4,
      "outputs": []
    },
    {
      "cell_type": "code",
      "metadata": {
        "id": "Gp0CNO4xRC_8"
      },
      "source": [
        "def splitlines(sample):\n",
        "    return {'line':[*sample['text'][0].split('\\n')]}"
      ],
      "execution_count": 5,
      "outputs": []
    },
    {
      "cell_type": "code",
      "metadata": {
        "colab": {
          "base_uri": "https://localhost:8080/",
          "height": 71,
          "referenced_widgets": [
            "4c1c6e04c4094f89ad66bb563f353390",
            "63dfc6390f82432b9a84fc014e56277a",
            "77e90bda23354a67a52a6062f5be152c",
            "7eddf86a53e34473a5c8d1669621e4fd",
            "ca32000c25284730ada026f19b24c06a",
            "d9fa857b865d40eab6a77139b21201a7",
            "50e72bd28f9d4415830d17fed31f73ad",
            "2eaf2480aeda4d70b361591358e3b57a"
          ]
        },
        "id": "ydUHnex1PI5G",
        "outputId": "8d854a61-b9c8-4089-fbfe-078196d88037"
      },
      "source": [
        "train_ds = train_ds.map(splitlines, batched=True, remove_columns=['text'])"
      ],
      "execution_count": 6,
      "outputs": [
        {
          "output_type": "display_data",
          "data": {
            "application/vnd.jupyter.widget-view+json": {
              "model_id": "4c1c6e04c4094f89ad66bb563f353390",
              "version_minor": 0,
              "version_major": 2
            },
            "text/plain": [
              "HBox(children=(FloatProgress(value=0.0, max=1.0), HTML(value='')))"
            ]
          },
          "metadata": {
            "tags": []
          }
        },
        {
          "output_type": "stream",
          "text": [
            "\n"
          ],
          "name": "stdout"
        }
      ]
    },
    {
      "cell_type": "code",
      "metadata": {
        "colab": {
          "base_uri": "https://localhost:8080/",
          "height": 71,
          "referenced_widgets": [
            "baeba82ee2a6442d86105d92a6cd1ae6",
            "0107b900081f409c97d143e67c7b13c0",
            "22fc52bd687046f8ad7351ba47c45373",
            "2b0210e73a27428ba4c44d9d617e412a",
            "c7012dd4dd484ec5854ce3c53350eb04",
            "ffe576906d724dadae37648df0acc770",
            "452815c0c276407aacbadb8fd7faf251",
            "47f42ee0f55f4093a6383af8e95e92d4"
          ]
        },
        "id": "W-Kc7DP-POTN",
        "outputId": "967316c8-80c8-44b6-d9ac-b63e03253036"
      },
      "source": [
        "train_ds = train_ds.filter(lambda x: x['line'] != '')"
      ],
      "execution_count": 7,
      "outputs": [
        {
          "output_type": "display_data",
          "data": {
            "application/vnd.jupyter.widget-view+json": {
              "model_id": "baeba82ee2a6442d86105d92a6cd1ae6",
              "version_minor": 0,
              "version_major": 2
            },
            "text/plain": [
              "HBox(children=(FloatProgress(value=0.0, max=36.0), HTML(value='')))"
            ]
          },
          "metadata": {
            "tags": []
          }
        },
        {
          "output_type": "stream",
          "text": [
            "\n"
          ],
          "name": "stdout"
        }
      ]
    },
    {
      "cell_type": "code",
      "metadata": {
        "colab": {
          "base_uri": "https://localhost:8080/"
        },
        "id": "mAc_2ZbGT8vc",
        "outputId": "439fdcc2-2aa3-46b5-ec2a-3bfbca9669b5"
      },
      "source": [
        "train_ds[:10]"
      ],
      "execution_count": 8,
      "outputs": [
        {
          "output_type": "execute_result",
          "data": {
            "text/plain": [
              "OrderedDict([('line',\n",
              "              ['First Citizen:',\n",
              "               'Before we proceed any further, hear me speak.',\n",
              "               'All:',\n",
              "               'Speak, speak.',\n",
              "               'First Citizen:',\n",
              "               'You are all resolved rather to die than to famish?',\n",
              "               'All:',\n",
              "               'Resolved. resolved.',\n",
              "               'First Citizen:',\n",
              "               'First, you know Caius Marcius is chief enemy to the people.'])])"
            ]
          },
          "metadata": {
            "tags": []
          },
          "execution_count": 8
        }
      ]
    },
    {
      "cell_type": "code",
      "metadata": {
        "colab": {
          "base_uri": "https://localhost:8080/",
          "height": 225
        },
        "id": "VhwKUnDQUm15",
        "outputId": "921938a0-9c3f-4e69-efe9-69054249c758"
      },
      "source": [
        "df = train_ds.data.to_pandas()\n",
        "df.head()"
      ],
      "execution_count": 9,
      "outputs": [
        {
          "output_type": "execute_result",
          "data": {
            "text/html": [
              "<div>\n",
              "<style scoped>\n",
              "    .dataframe tbody tr th:only-of-type {\n",
              "        vertical-align: middle;\n",
              "    }\n",
              "\n",
              "    .dataframe tbody tr th {\n",
              "        vertical-align: top;\n",
              "    }\n",
              "\n",
              "    .dataframe thead th {\n",
              "        text-align: right;\n",
              "    }\n",
              "</style>\n",
              "<table border=\"1\" class=\"dataframe\">\n",
              "  <thead>\n",
              "    <tr style=\"text-align: right;\">\n",
              "      <th></th>\n",
              "      <th>line</th>\n",
              "    </tr>\n",
              "  </thead>\n",
              "  <tbody>\n",
              "    <tr>\n",
              "      <th>0</th>\n",
              "      <td>First Citizen:</td>\n",
              "    </tr>\n",
              "    <tr>\n",
              "      <th>1</th>\n",
              "      <td>Before we proceed any further, hear me speak.</td>\n",
              "    </tr>\n",
              "    <tr>\n",
              "      <th>2</th>\n",
              "      <td>All:</td>\n",
              "    </tr>\n",
              "    <tr>\n",
              "      <th>3</th>\n",
              "      <td>Speak, speak.</td>\n",
              "    </tr>\n",
              "    <tr>\n",
              "      <th>4</th>\n",
              "      <td>First Citizen:</td>\n",
              "    </tr>\n",
              "  </tbody>\n",
              "</table>\n",
              "</div>"
            ],
            "text/plain": [
              "                                            line\n",
              "0                                 First Citizen:\n",
              "1  Before we proceed any further, hear me speak.\n",
              "2                                           All:\n",
              "3                                  Speak, speak.\n",
              "4                                 First Citizen:"
            ]
          },
          "metadata": {
            "tags": []
          },
          "execution_count": 9
        }
      ]
    },
    {
      "cell_type": "markdown",
      "metadata": {
        "id": "OqfXc_ssSa4G"
      },
      "source": [
        "TODO: update to import"
      ]
    },
    {
      "cell_type": "code",
      "metadata": {
        "id": "QuScE3-eWDKb"
      },
      "source": [
        "class ByteTextTokenizer(Transform):\n",
        "    \"\"\"\n",
        "        Encodes each byte to an id. For 8-bit strings only.\n",
        "        Credit: https://github.com/tensorflow/tensor2tensor/blob/5f9dd2db6d7797162e53adf152310ed13e9fc711/tensor2tensor/data_generators/text_encoder.py#L176\n",
        "    \"\"\"\n",
        "    def __init__(self, is_lm=True, add_bos=False, add_eos=False):\n",
        "        self.ls_lm = is_lm\n",
        "        self.add_bos, self.add_eos = add_bos, add_eos\n",
        "        self.pad_token, self.eos_token, self.bos_token = '<pad>', '<eos>', '<bos>',\n",
        "        self.pad_token_id, self.eos_token_id, self.bos_token_id = 0,1,2\n",
        "        self.reserved_toks = [self.pad_token, self.eos_token, self.bos_token]  ## self.bos_token_id \n",
        "        self.reserved_tokens_bytes = [bytes(rtok, 'ascii') for rtok in self.reserved_toks]\n",
        "        self.numres = len(self.reserved_toks)\n",
        "        self.int2byte = six.int2byte\n",
        "\n",
        "    @typedispatch\n",
        "    def __call__(self, o:list, **kwargs):\n",
        "        out = [c + self.numres for s in o for c in s.encode(\"utf-8\")]\n",
        "        if self.add_bos: out = [self.bos_token_id] + out\n",
        "        if self.add_eos: out =  out + [self.eos_token_id]\n",
        "        if self.ls_lm:return LMTensorText(out)\n",
        "        else: return TensorText(out) \n",
        "        \n",
        "    @typedispatch\n",
        "    def __call__(self, o:str, **kwargs):\n",
        "        out = [c + self.numres for c in o.encode(\"utf-8\")]\n",
        "        if self.add_bos: out = [self.bos_token_id] + out\n",
        "        if self.add_eos: out =  out + [self.eos_token_id]\n",
        "        if self.ls_lm:return LMTensorText(out)\n",
        "        else: return TensorText(out) \n",
        "    \n",
        "    def encodes(self,o):\n",
        "        return self.__call__(o)\n",
        "    \n",
        "    def decodes(self, o:tuple):\n",
        "        decoded_ids = ()\n",
        "        for i in o:\n",
        "            tmp_ls=[]\n",
        "            for id_ in i:\n",
        "                if 0 <= id_ < self.numres: tmp_ls.append(self.reserved_tokens_bytes[int(id_)])\n",
        "                else: tmp_ls.append(self.int2byte(id_ - self.numres))\n",
        "            decoded_ids = decoded_ids + (b\"\".join(tmp_ls).decode(\"utf-8\", \"replace\"),)\n",
        "        return TitledStr(decoded_ids)\n",
        "    \n",
        "    def decodes(self, o:list):\n",
        "        decoded_ids = []\n",
        "        for id_ in o:\n",
        "            if 0 <= id_ < self.numres: decoded_ids.append(self.reserved_tokens_bytes[int(id_)])\n",
        "            else: decoded_ids.append(self.int2byte(id_ - self.numres))\n",
        "        return TitledStr(b\"\".join(decoded_ids).decode(\"utf-8\", \"replace\"))\n",
        "    \n",
        "    def decodes(self, o:TensorText):\n",
        "        return self.decodes(o.tolist())\n",
        "    \n",
        "    def decodes(self, o:LMTensorText):\n",
        "        return self.decodes(o.tolist())\n",
        "    \n",
        "    @property\n",
        "    def vocab_size(self): return 2**8 + self.numres"
      ],
      "execution_count": 10,
      "outputs": []
    },
    {
      "cell_type": "code",
      "metadata": {
        "id": "-P9AcA3nWFzo"
      },
      "source": [
        "bte = ByteTextTokenizer(is_lm=True, add_bos=True, add_eos=True)"
      ],
      "execution_count": 11,
      "outputs": []
    },
    {
      "cell_type": "code",
      "metadata": {
        "id": "mRqcxKTkWFxR"
      },
      "source": [
        "@patch\n",
        "def create_item(self:LMDataLoader, seq):\n",
        "    if seq>=self.n: raise IndexError\n",
        "    sl = self.last_len if seq//self.bs==self.n_batches-1 else self.seq_len\n",
        "    st = (seq%self.bs)*self.bl + (seq//self.bs)*self.seq_len\n",
        "    txt = self.chunks[st : st+sl+1]    \n",
        "    return LMTensorText(txt[:-1]),txt[1:]\n",
        "    # return LMTensorText(txt[:-1].tolist()+[1]), LMTensorText(txt[1:].tolist()+[1])   ## ADD EOS TOKEN"
      ],
      "execution_count": 12,
      "outputs": []
    },
    {
      "cell_type": "code",
      "metadata": {
        "id": "zn8sh1tkBOrD"
      },
      "source": [
        "cut = int(len(df)*0.8)\n",
        "splits = range_of(df)[:cut], range_of(df[cut:])"
      ],
      "execution_count": 13,
      "outputs": []
    },
    {
      "cell_type": "code",
      "metadata": {
        "id": "W31Lg4EcXSd7"
      },
      "source": [
        "tfms = [attrgetter(\"line\"), bte]\n",
        "dsets = Datasets(df, [tfms, tfms], splits=splits, dl_type=LMDataLoader)"
      ],
      "execution_count": 14,
      "outputs": []
    },
    {
      "cell_type": "code",
      "metadata": {
        "colab": {
          "base_uri": "https://localhost:8080/"
        },
        "id": "tisxn2gzDHQ1",
        "outputId": "b9b2bc64-2176-49a8-e070-840bc4e5c347"
      },
      "source": [
        "dsets[0]"
      ],
      "execution_count": 15,
      "outputs": [
        {
          "output_type": "execute_result",
          "data": {
            "text/plain": [
              "(LMTensorText([  2,  73, 108, 117, 118, 119,  35,  70, 108, 119, 108, 125, 104, 113,\n",
              "          61,   1]),\n",
              " LMTensorText([  2,  73, 108, 117, 118, 119,  35,  70, 108, 119, 108, 125, 104, 113,\n",
              "          61,   1]))"
            ]
          },
          "metadata": {
            "tags": []
          },
          "execution_count": 15
        }
      ]
    },
    {
      "cell_type": "code",
      "metadata": {
        "colab": {
          "base_uri": "https://localhost:8080/",
          "height": 37
        },
        "id": "eqTttPwdEx3J",
        "outputId": "6ea46894-602b-48ef-99dd-93475ef27897"
      },
      "source": [
        "bte.decode(_[0])"
      ],
      "execution_count": 16,
      "outputs": [
        {
          "output_type": "execute_result",
          "data": {
            "application/vnd.google.colaboratory.intrinsic+json": {
              "type": "string"
            },
            "text/plain": [
              "'<bos>First Citizen:<eos>'"
            ]
          },
          "metadata": {
            "tags": []
          },
          "execution_count": 16
        }
      ]
    },
    {
      "cell_type": "code",
      "metadata": {
        "id": "WzMKdwBNXSU3"
      },
      "source": [
        "vocab_sz = bte.vocab_size\n",
        "bs,sl = 64,128\n",
        "pad_seq2seq = partial(pad_input, pad_idx=bte.pad_token_id, pad_fields=[0,1])\n",
        "\n",
        "dls = dsets.dataloaders(bs=bs, seq_len=sl, before_batch=pad_seq2seq, device=torch.device('cuda'))"
      ],
      "execution_count": 17,
      "outputs": []
    },
    {
      "cell_type": "code",
      "metadata": {
        "id": "XifUB2_pFMZd",
        "colab": {
          "base_uri": "https://localhost:8080/",
          "height": 160
        },
        "outputId": "fdc6789e-cbe2-4f39-e4ee-2194aa51df08"
      },
      "source": [
        "dls.show_batch(max_n=2)"
      ],
      "execution_count": 18,
      "outputs": [
        {
          "output_type": "display_data",
          "data": {
            "text/html": [
              "<table border=\"1\" class=\"dataframe\">\n",
              "  <thead>\n",
              "    <tr style=\"text-align: right;\">\n",
              "      <th></th>\n",
              "      <th>text</th>\n",
              "      <th>text_</th>\n",
              "    </tr>\n",
              "  </thead>\n",
              "  <tbody>\n",
              "    <tr>\n",
              "      <th>0</th>\n",
              "      <td>&lt;bos&gt;LEONTES:&lt;eos&gt;&lt;bos&gt;By playing it to me with so sour a face.&lt;eos&gt;&lt;bos&gt;With wine and feeding, we have suppler souls&lt;eos&gt;&lt;bos&gt;CORIOLANUS:&lt;eos&gt;&lt;bos&gt;Within me grief</td>\n",
              "      <td>LEONTES:&lt;eos&gt;&lt;bos&gt;By playing it to me with so sour a face.&lt;eos&gt;&lt;bos&gt;With wine and feeding, we have suppler souls&lt;eos&gt;&lt;bos&gt;CORIOLANUS:&lt;eos&gt;&lt;bos&gt;Within me grief h</td>\n",
              "    </tr>\n",
              "    <tr>\n",
              "      <th>1</th>\n",
              "      <td>be the issue!&lt;eos&gt;&lt;bos&gt;To stop devoted charitable deeds?&lt;eos&gt;&lt;bos&gt;Kill, kill, kill, kill, kill him!&lt;eos&gt;&lt;bos&gt;Say no more:&lt;eos&gt;&lt;bos&gt;This but done,&lt;eos&gt;&lt;bos&gt;Before I pos</td>\n",
              "      <td>be the issue!&lt;eos&gt;&lt;bos&gt;To stop devoted charitable deeds?&lt;eos&gt;&lt;bos&gt;Kill, kill, kill, kill, kill him!&lt;eos&gt;&lt;bos&gt;Say no more:&lt;eos&gt;&lt;bos&gt;This but done,&lt;eos&gt;&lt;bos&gt;Before I posi</td>\n",
              "    </tr>\n",
              "  </tbody>\n",
              "</table>"
            ],
            "text/plain": [
              "<IPython.core.display.HTML object>"
            ]
          },
          "metadata": {
            "tags": []
          }
        }
      ]
    },
    {
      "cell_type": "code",
      "metadata": {
        "id": "GLcebrjYF-0b",
        "colab": {
          "base_uri": "https://localhost:8080/"
        },
        "outputId": "a462dfd4-1e64-4ade-d609-7ec144622179"
      },
      "source": [
        "xb, yb = dls.one_batch()\n",
        "xb.shape, yb.shape"
      ],
      "execution_count": 19,
      "outputs": [
        {
          "output_type": "execute_result",
          "data": {
            "text/plain": [
              "(torch.Size([64, 128]), torch.Size([64, 128]))"
            ]
          },
          "metadata": {
            "tags": []
          },
          "execution_count": 19
        }
      ]
    },
    {
      "cell_type": "code",
      "metadata": {
        "colab": {
          "base_uri": "https://localhost:8080/"
        },
        "id": "L5c7XU9MMb3E",
        "outputId": "fccafd12-0b40-47bc-9066-77cd7327419c"
      },
      "source": [
        "!wget https://raw.githubusercontent.com/morganmcg1/reformer-fastai/main/basic_transformer.py"
      ],
      "execution_count": 20,
      "outputs": [
        {
          "output_type": "stream",
          "text": [
            "--2020-11-21 21:53:15--  https://raw.githubusercontent.com/morganmcg1/reformer-fastai/main/basic_transformer.py\n",
            "Resolving raw.githubusercontent.com (raw.githubusercontent.com)... 151.101.0.133, 151.101.64.133, 151.101.128.133, ...\n",
            "Connecting to raw.githubusercontent.com (raw.githubusercontent.com)|151.101.0.133|:443... connected.\n",
            "HTTP request sent, awaiting response... 200 OK\n",
            "Length: 21210 (21K) [text/plain]\n",
            "Saving to: ‘basic_transformer.py’\n",
            "\n",
            "\rbasic_transformer.p   0%[                    ]       0  --.-KB/s               \rbasic_transformer.p 100%[===================>]  20.71K  --.-KB/s    in 0s      \n",
            "\n",
            "2020-11-21 21:53:15 (67.5 MB/s) - ‘basic_transformer.py’ saved [21210/21210]\n",
            "\n"
          ],
          "name": "stdout"
        }
      ]
    },
    {
      "cell_type": "code",
      "metadata": {
        "id": "rwJgdEjyGLmx"
      },
      "source": [
        "from basic_transformer import TransformerLM"
      ],
      "execution_count": 21,
      "outputs": []
    },
    {
      "cell_type": "markdown",
      "metadata": {
        "id": "XmhSFZq-H_NN"
      },
      "source": [
        "## Training"
      ]
    },
    {
      "cell_type": "code",
      "metadata": {
        "id": "4ksKtmaVHYt2"
      },
      "source": [
        "learn = Learner(dls, TransformerLM(vocab_sz, 512),\n",
        "                loss_func=CrossEntropyLossFlat(),\n",
        "                metrics=[accuracy, Perplexity()]).to_native_fp16()"
      ],
      "execution_count": 22,
      "outputs": []
    },
    {
      "cell_type": "code",
      "metadata": {
        "id": "xR6_HKoTIsTi",
        "colab": {
          "base_uri": "https://localhost:8080/",
          "height": 302
        },
        "outputId": "10b8b659-fea1-477e-e431-a221c4651a1d"
      },
      "source": [
        "learn.lr_find()"
      ],
      "execution_count": 23,
      "outputs": [
        {
          "output_type": "display_data",
          "data": {
            "text/html": [
              ""
            ],
            "text/plain": [
              "<IPython.core.display.HTML object>"
            ]
          },
          "metadata": {
            "tags": []
          }
        },
        {
          "output_type": "execute_result",
          "data": {
            "text/plain": [
              "SuggestedLRs(lr_min=0.005754399299621582, lr_steep=0.04786301031708717)"
            ]
          },
          "metadata": {
            "tags": []
          },
          "execution_count": 23
        },
        {
          "output_type": "display_data",
          "data": {
            "image/png": "[encoded data removed]",
            "text/plain": [
              "<Figure size 432x288 with 1 Axes>"
            ]
          },
          "metadata": {
            "tags": [],
            "needs_background": "light"
          }
        }
      ]
    },
    {
      "cell_type": "code",
      "metadata": {
        "id": "KfqQgJvmL6Hv",
        "colab": {
          "base_uri": "https://localhost:8080/",
          "height": 398
        },
        "outputId": "fec25653-03a9-454a-cb88-e17b7e59aae5"
      },
      "source": [
        "learn.fit_one_cycle(10, 5e-4)"
      ],
      "execution_count": 24,
      "outputs": [
        {
          "output_type": "display_data",
          "data": {
            "text/html": [
              "<table border=\"1\" class=\"dataframe\">\n",
              "  <thead>\n",
              "    <tr style=\"text-align: left;\">\n",
              "      <th>epoch</th>\n",
              "      <th>train_loss</th>\n",
              "      <th>valid_loss</th>\n",
              "      <th>accuracy</th>\n",
              "      <th>perplexity</th>\n",
              "      <th>time</th>\n",
              "    </tr>\n",
              "  </thead>\n",
              "  <tbody>\n",
              "    <tr>\n",
              "      <td>0</td>\n",
              "      <td>3.434133</td>\n",
              "      <td>2.711103</td>\n",
              "      <td>0.246508</td>\n",
              "      <td>15.045869</td>\n",
              "      <td>00:51</td>\n",
              "    </tr>\n",
              "    <tr>\n",
              "      <td>1</td>\n",
              "      <td>2.698276</td>\n",
              "      <td>2.491962</td>\n",
              "      <td>0.286407</td>\n",
              "      <td>12.084966</td>\n",
              "      <td>00:52</td>\n",
              "    </tr>\n",
              "    <tr>\n",
              "      <td>2</td>\n",
              "      <td>2.434373</td>\n",
              "      <td>2.257761</td>\n",
              "      <td>0.339897</td>\n",
              "      <td>9.561657</td>\n",
              "      <td>00:52</td>\n",
              "    </tr>\n",
              "    <tr>\n",
              "      <td>3</td>\n",
              "      <td>2.210517</td>\n",
              "      <td>2.087826</td>\n",
              "      <td>0.385237</td>\n",
              "      <td>8.067358</td>\n",
              "      <td>00:52</td>\n",
              "    </tr>\n",
              "    <tr>\n",
              "      <td>4</td>\n",
              "      <td>2.051760</td>\n",
              "      <td>1.923386</td>\n",
              "      <td>0.429779</td>\n",
              "      <td>6.844097</td>\n",
              "      <td>00:53</td>\n",
              "    </tr>\n",
              "    <tr>\n",
              "      <td>5</td>\n",
              "      <td>1.924850</td>\n",
              "      <td>1.799508</td>\n",
              "      <td>0.461241</td>\n",
              "      <td>6.046672</td>\n",
              "      <td>00:52</td>\n",
              "    </tr>\n",
              "    <tr>\n",
              "      <td>6</td>\n",
              "      <td>1.830511</td>\n",
              "      <td>1.724915</td>\n",
              "      <td>0.482219</td>\n",
              "      <td>5.612043</td>\n",
              "      <td>00:52</td>\n",
              "    </tr>\n",
              "    <tr>\n",
              "      <td>7</td>\n",
              "      <td>1.766610</td>\n",
              "      <td>1.679162</td>\n",
              "      <td>0.493519</td>\n",
              "      <td>5.361061</td>\n",
              "      <td>00:52</td>\n",
              "    </tr>\n",
              "    <tr>\n",
              "      <td>8</td>\n",
              "      <td>1.729855</td>\n",
              "      <td>1.653258</td>\n",
              "      <td>0.499979</td>\n",
              "      <td>5.223973</td>\n",
              "      <td>00:52</td>\n",
              "    </tr>\n",
              "    <tr>\n",
              "      <td>9</td>\n",
              "      <td>1.713640</td>\n",
              "      <td>1.647914</td>\n",
              "      <td>0.500384</td>\n",
              "      <td>5.196131</td>\n",
              "      <td>00:52</td>\n",
              "    </tr>\n",
              "  </tbody>\n",
              "</table>"
            ],
            "text/plain": [
              "<IPython.core.display.HTML object>"
            ]
          },
          "metadata": {
            "tags": []
          }
        }
      ]
    },
    {
      "cell_type": "code",
      "metadata": {
        "colab": {
          "base_uri": "https://localhost:8080/"
        },
        "id": "2rWm6I4_RBIj",
        "outputId": "1b4a679a-5875-4ac2-a1f9-2e1868657a8d"
      },
      "source": [
        "learn.save('shakespeare_e10')"
      ],
      "execution_count": null,
      "outputs": [
        {
          "output_type": "execute_result",
          "data": {
            "text/plain": [
              "Path('models/shakespeare_e10.pth')"
            ]
          },
          "metadata": {
            "tags": []
          },
          "execution_count": 25
        }
      ]
    },
    {
      "cell_type": "code",
      "metadata": {
        "id": "lrS_2t1tHuKl",
        "colab": {
          "base_uri": "https://localhost:8080/"
        },
        "outputId": "558544b1-30fb-46d3-e4e5-2bffa8854853"
      },
      "source": [
        "# learn.load('shakespeare_e10')"
      ],
      "execution_count": null,
      "outputs": [
        {
          "output_type": "execute_result",
          "data": {
            "text/plain": [
              "<fastai.learner.Learner at 0x7fb31fb27fd0>"
            ]
          },
          "metadata": {
            "tags": []
          },
          "execution_count": 29
        }
      ]
    },
    {
      "cell_type": "markdown",
      "metadata": {
        "id": "ZDJRYKfhmRB4"
      },
      "source": [
        "## Init experiments "
      ]
    },
    {
      "cell_type": "markdown",
      "metadata": {
        "id": "lRB9WvQ7VGbP"
      },
      "source": [
        "[pytorch init docs](https://pytorch.org/docs/stable/nn.init.html?highlight=xavier_unifor#torch.nn.init.xavier_uniform_)\n",
        "\n",
        "TODOs: \n",
        "- [ ] rerun experiments with latest changes for fair comparison\n",
        "- [ ] checkout ativation stats using https://docs.fast.ai/callback.hook.html#ActivationStats\n",
        "- [ ] try combining different init's with different positional encodings\n",
        "- [ ] run experiments untill overfitting\n",
        "- [ ] try fixup init https://arxiv.org/pdf/1901.09321v1.pdf\n",
        "- [ ] explore weight decay effect"
      ]
    },
    {
      "cell_type": "code",
      "metadata": {
        "id": "Dp0J_xFLma_w"
      },
      "source": [
        "# for n, m in learn.model.named_modules():\n",
        "#     print(n)\n",
        "#     print(m)"
      ],
      "execution_count": null,
      "outputs": []
    },
    {
      "cell_type": "markdown",
      "metadata": {
        "id": "5BYubcEoTOeE"
      },
      "source": [
        "### Prenorm"
      ]
    },
    {
      "cell_type": "code",
      "metadata": {
        "id": "1FaU3qBz1gT2"
      },
      "source": [
        "del learn\n",
        "torch.cuda.empty_cache()"
      ],
      "execution_count": 25,
      "outputs": []
    },
    {
      "cell_type": "code",
      "metadata": {
        "id": "N8u-Dz9PTNAV"
      },
      "source": [
        "learn = Learner(dls, TransformerLM(vocab_sz, 512, prenorm=True),\n",
        "                loss_func=CrossEntropyLossFlat(),\n",
        "                metrics=[accuracy, Perplexity()]).to_native_fp16()"
      ],
      "execution_count": 26,
      "outputs": []
    },
    {
      "cell_type": "code",
      "metadata": {
        "colab": {
          "base_uri": "https://localhost:8080/",
          "height": 302
        },
        "id": "bjIjivAbTV-c",
        "outputId": "260920f4-6c6b-44af-ad52-656d38eb5976"
      },
      "source": [
        "learn.lr_find()"
      ],
      "execution_count": 27,
      "outputs": [
        {
          "output_type": "display_data",
          "data": {
            "text/html": [
              ""
            ],
            "text/plain": [
              "<IPython.core.display.HTML object>"
            ]
          },
          "metadata": {
            "tags": []
          }
        },
        {
          "output_type": "execute_result",
          "data": {
            "text/plain": [
              "SuggestedLRs(lr_min=0.0003019951749593019, lr_steep=0.0006918309954926372)"
            ]
          },
          "metadata": {
            "tags": []
          },
          "execution_count": 27
        },
        {
          "output_type": "display_data",
          "data": {
            "image/png": "[encoded data removed]",
            "text/plain": [
              "<Figure size 432x288 with 1 Axes>"
            ]
          },
          "metadata": {
            "tags": [],
            "needs_background": "light"
          }
        }
      ]
    },
    {
      "cell_type": "code",
      "metadata": {
        "colab": {
          "base_uri": "https://localhost:8080/",
          "height": 398
        },
        "id": "aXD4O8-3TYuU",
        "outputId": "096f9e61-6f36-4a91-9ad9-665512d9d8d7"
      },
      "source": [
        "learn.fit_one_cycle(10, 1e-3)"
      ],
      "execution_count": 28,
      "outputs": [
        {
          "output_type": "display_data",
          "data": {
            "text/html": [
              "<table border=\"1\" class=\"dataframe\">\n",
              "  <thead>\n",
              "    <tr style=\"text-align: left;\">\n",
              "      <th>epoch</th>\n",
              "      <th>train_loss</th>\n",
              "      <th>valid_loss</th>\n",
              "      <th>accuracy</th>\n",
              "      <th>perplexity</th>\n",
              "      <th>time</th>\n",
              "    </tr>\n",
              "  </thead>\n",
              "  <tbody>\n",
              "    <tr>\n",
              "      <td>0</td>\n",
              "      <td>3.064536</td>\n",
              "      <td>2.563962</td>\n",
              "      <td>0.262811</td>\n",
              "      <td>12.987170</td>\n",
              "      <td>00:52</td>\n",
              "    </tr>\n",
              "    <tr>\n",
              "      <td>1</td>\n",
              "      <td>2.548618</td>\n",
              "      <td>2.393521</td>\n",
              "      <td>0.304189</td>\n",
              "      <td>10.951983</td>\n",
              "      <td>00:52</td>\n",
              "    </tr>\n",
              "    <tr>\n",
              "      <td>2</td>\n",
              "      <td>2.241713</td>\n",
              "      <td>2.071814</td>\n",
              "      <td>0.386870</td>\n",
              "      <td>7.939212</td>\n",
              "      <td>00:52</td>\n",
              "    </tr>\n",
              "    <tr>\n",
              "      <td>3</td>\n",
              "      <td>2.015799</td>\n",
              "      <td>1.874189</td>\n",
              "      <td>0.439860</td>\n",
              "      <td>6.515533</td>\n",
              "      <td>00:53</td>\n",
              "    </tr>\n",
              "    <tr>\n",
              "      <td>4</td>\n",
              "      <td>1.860401</td>\n",
              "      <td>1.740188</td>\n",
              "      <td>0.474998</td>\n",
              "      <td>5.698415</td>\n",
              "      <td>00:52</td>\n",
              "    </tr>\n",
              "    <tr>\n",
              "      <td>5</td>\n",
              "      <td>1.756969</td>\n",
              "      <td>1.658816</td>\n",
              "      <td>0.498171</td>\n",
              "      <td>5.253089</td>\n",
              "      <td>00:52</td>\n",
              "    </tr>\n",
              "    <tr>\n",
              "      <td>6</td>\n",
              "      <td>1.688443</td>\n",
              "      <td>1.597034</td>\n",
              "      <td>0.512001</td>\n",
              "      <td>4.938366</td>\n",
              "      <td>00:52</td>\n",
              "    </tr>\n",
              "    <tr>\n",
              "      <td>7</td>\n",
              "      <td>1.637916</td>\n",
              "      <td>1.563455</td>\n",
              "      <td>0.521040</td>\n",
              "      <td>4.775290</td>\n",
              "      <td>00:52</td>\n",
              "    </tr>\n",
              "    <tr>\n",
              "      <td>8</td>\n",
              "      <td>1.609045</td>\n",
              "      <td>1.544818</td>\n",
              "      <td>0.526250</td>\n",
              "      <td>4.687118</td>\n",
              "      <td>00:52</td>\n",
              "    </tr>\n",
              "    <tr>\n",
              "      <td>9</td>\n",
              "      <td>1.593604</td>\n",
              "      <td>1.540156</td>\n",
              "      <td>0.527135</td>\n",
              "      <td>4.665317</td>\n",
              "      <td>00:52</td>\n",
              "    </tr>\n",
              "  </tbody>\n",
              "</table>"
            ],
            "text/plain": [
              "<IPython.core.display.HTML object>"
            ]
          },
          "metadata": {
            "tags": []
          }
        }
      ]
    },
    {
      "cell_type": "code",
      "metadata": {
        "id": "n0ANpxW4VOrw"
      },
      "source": [
        "del learn\n",
        "torch.cuda.empty_cache()"
      ],
      "execution_count": 26,
      "outputs": []
    },
    {
      "cell_type": "code",
      "metadata": {
        "colab": {
          "base_uri": "https://localhost:8080/",
          "height": 398
        },
        "id": "wcLz2nD8VIjI",
        "outputId": "182feabe-05a4-49c0-99b9-2ca85e8b591d"
      },
      "source": [
        "learn = Learner(dls, TransformerLM(vocab_sz, 512, prenorm=True),\n",
        "                loss_func=CrossEntropyLossFlat(),\n",
        "                metrics=[accuracy, Perplexity()]).to_native_fp16()\n",
        "learn.fit_one_cycle(10, 5e-4)"
      ],
      "execution_count": 28,
      "outputs": [
        {
          "output_type": "display_data",
          "data": {
            "text/html": [
              "<table border=\"1\" class=\"dataframe\">\n",
              "  <thead>\n",
              "    <tr style=\"text-align: left;\">\n",
              "      <th>epoch</th>\n",
              "      <th>train_loss</th>\n",
              "      <th>valid_loss</th>\n",
              "      <th>accuracy</th>\n",
              "      <th>perplexity</th>\n",
              "      <th>time</th>\n",
              "    </tr>\n",
              "  </thead>\n",
              "  <tbody>\n",
              "    <tr>\n",
              "      <td>0</td>\n",
              "      <td>3.183944</td>\n",
              "      <td>2.542723</td>\n",
              "      <td>0.271228</td>\n",
              "      <td>12.714250</td>\n",
              "      <td>00:48</td>\n",
              "    </tr>\n",
              "    <tr>\n",
              "      <td>1</td>\n",
              "      <td>2.548309</td>\n",
              "      <td>2.396510</td>\n",
              "      <td>0.300907</td>\n",
              "      <td>10.984772</td>\n",
              "      <td>00:48</td>\n",
              "    </tr>\n",
              "    <tr>\n",
              "      <td>2</td>\n",
              "      <td>2.339589</td>\n",
              "      <td>2.225435</td>\n",
              "      <td>0.346853</td>\n",
              "      <td>9.257513</td>\n",
              "      <td>00:48</td>\n",
              "    </tr>\n",
              "    <tr>\n",
              "      <td>3</td>\n",
              "      <td>2.136496</td>\n",
              "      <td>2.018245</td>\n",
              "      <td>0.399328</td>\n",
              "      <td>7.525110</td>\n",
              "      <td>00:48</td>\n",
              "    </tr>\n",
              "    <tr>\n",
              "      <td>4</td>\n",
              "      <td>1.988222</td>\n",
              "      <td>1.863818</td>\n",
              "      <td>0.442517</td>\n",
              "      <td>6.448308</td>\n",
              "      <td>00:48</td>\n",
              "    </tr>\n",
              "    <tr>\n",
              "      <td>5</td>\n",
              "      <td>1.866449</td>\n",
              "      <td>1.752337</td>\n",
              "      <td>0.473180</td>\n",
              "      <td>5.768069</td>\n",
              "      <td>00:48</td>\n",
              "    </tr>\n",
              "    <tr>\n",
              "      <td>6</td>\n",
              "      <td>1.775126</td>\n",
              "      <td>1.674249</td>\n",
              "      <td>0.493405</td>\n",
              "      <td>5.334788</td>\n",
              "      <td>00:48</td>\n",
              "    </tr>\n",
              "    <tr>\n",
              "      <td>7</td>\n",
              "      <td>1.715463</td>\n",
              "      <td>1.629757</td>\n",
              "      <td>0.504601</td>\n",
              "      <td>5.102635</td>\n",
              "      <td>00:48</td>\n",
              "    </tr>\n",
              "    <tr>\n",
              "      <td>8</td>\n",
              "      <td>1.678048</td>\n",
              "      <td>1.610129</td>\n",
              "      <td>0.509914</td>\n",
              "      <td>5.003458</td>\n",
              "      <td>00:48</td>\n",
              "    </tr>\n",
              "    <tr>\n",
              "      <td>9</td>\n",
              "      <td>1.665579</td>\n",
              "      <td>1.606045</td>\n",
              "      <td>0.510820</td>\n",
              "      <td>4.983064</td>\n",
              "      <td>00:49</td>\n",
              "    </tr>\n",
              "  </tbody>\n",
              "</table>"
            ],
            "text/plain": [
              "<IPython.core.display.HTML object>"
            ]
          },
          "metadata": {
            "tags": []
          }
        }
      ]
    },
    {
      "cell_type": "code",
      "metadata": {
        "id": "PhhAD8m4XuJA"
      },
      "source": [
        "del learn\n",
        "torch.cuda.empty_cache()"
      ],
      "execution_count": 29,
      "outputs": []
    },
    {
      "cell_type": "code",
      "metadata": {
        "colab": {
          "base_uri": "https://localhost:8080/",
          "height": 398
        },
        "id": "Ky7AmYtdXrkM",
        "outputId": "a41e93a2-292f-4c1f-c209-bb4f5fdb4001"
      },
      "source": [
        "learn = Learner(dls, TransformerLM(vocab_sz, 512, prenorm=True),\n",
        "                loss_func=CrossEntropyLossFlat(),\n",
        "                metrics=[accuracy, Perplexity()]).to_fp16()\n",
        "learn.fit_one_cycle(10, 5e-4)"
      ],
      "execution_count": 30,
      "outputs": [
        {
          "output_type": "display_data",
          "data": {
            "text/html": [
              "<table border=\"1\" class=\"dataframe\">\n",
              "  <thead>\n",
              "    <tr style=\"text-align: left;\">\n",
              "      <th>epoch</th>\n",
              "      <th>train_loss</th>\n",
              "      <th>valid_loss</th>\n",
              "      <th>accuracy</th>\n",
              "      <th>perplexity</th>\n",
              "      <th>time</th>\n",
              "    </tr>\n",
              "  </thead>\n",
              "  <tbody>\n",
              "    <tr>\n",
              "      <td>0</td>\n",
              "      <td>3.259197</td>\n",
              "      <td>2.552690</td>\n",
              "      <td>0.270886</td>\n",
              "      <td>12.841596</td>\n",
              "      <td>00:45</td>\n",
              "    </tr>\n",
              "    <tr>\n",
              "      <td>1</td>\n",
              "      <td>2.558815</td>\n",
              "      <td>2.394013</td>\n",
              "      <td>0.296910</td>\n",
              "      <td>10.957379</td>\n",
              "      <td>00:44</td>\n",
              "    </tr>\n",
              "    <tr>\n",
              "      <td>2</td>\n",
              "      <td>2.346196</td>\n",
              "      <td>2.220614</td>\n",
              "      <td>0.347189</td>\n",
              "      <td>9.212988</td>\n",
              "      <td>00:45</td>\n",
              "    </tr>\n",
              "    <tr>\n",
              "      <td>3</td>\n",
              "      <td>2.136448</td>\n",
              "      <td>2.014906</td>\n",
              "      <td>0.400715</td>\n",
              "      <td>7.500023</td>\n",
              "      <td>00:44</td>\n",
              "    </tr>\n",
              "    <tr>\n",
              "      <td>4</td>\n",
              "      <td>1.983526</td>\n",
              "      <td>1.864766</td>\n",
              "      <td>0.441793</td>\n",
              "      <td>6.454423</td>\n",
              "      <td>00:45</td>\n",
              "    </tr>\n",
              "    <tr>\n",
              "      <td>5</td>\n",
              "      <td>1.862125</td>\n",
              "      <td>1.750739</td>\n",
              "      <td>0.473341</td>\n",
              "      <td>5.758857</td>\n",
              "      <td>00:45</td>\n",
              "    </tr>\n",
              "    <tr>\n",
              "      <td>6</td>\n",
              "      <td>1.773427</td>\n",
              "      <td>1.672687</td>\n",
              "      <td>0.493862</td>\n",
              "      <td>5.326459</td>\n",
              "      <td>00:45</td>\n",
              "    </tr>\n",
              "    <tr>\n",
              "      <td>7</td>\n",
              "      <td>1.716216</td>\n",
              "      <td>1.631203</td>\n",
              "      <td>0.503833</td>\n",
              "      <td>5.110016</td>\n",
              "      <td>00:44</td>\n",
              "    </tr>\n",
              "    <tr>\n",
              "      <td>8</td>\n",
              "      <td>1.680556</td>\n",
              "      <td>1.608295</td>\n",
              "      <td>0.510621</td>\n",
              "      <td>4.994287</td>\n",
              "      <td>00:44</td>\n",
              "    </tr>\n",
              "    <tr>\n",
              "      <td>9</td>\n",
              "      <td>1.667235</td>\n",
              "      <td>1.604834</td>\n",
              "      <td>0.511647</td>\n",
              "      <td>4.977035</td>\n",
              "      <td>00:44</td>\n",
              "    </tr>\n",
              "  </tbody>\n",
              "</table>"
            ],
            "text/plain": [
              "<IPython.core.display.HTML object>"
            ]
          },
          "metadata": {
            "tags": []
          }
        }
      ]
    },
    {
      "cell_type": "code",
      "metadata": {
        "id": "-dmv-lq-YMsN"
      },
      "source": [
        "del learn\n",
        "torch.cuda.empty_cache()"
      ],
      "execution_count": null,
      "outputs": []
    },
    {
      "cell_type": "code",
      "metadata": {
        "id": "lpk8Loi1YOkC"
      },
      "source": [
        "learn = Learner(dls, TransformerLM(vocab_sz, 512, prenorm=True),\n",
        "                loss_func=CrossEntropyLossFlat(),\n",
        "                metrics=[accuracy, Perplexity()])\n",
        "learn.fit_one_cycle(10, 5e-4)"
      ],
      "execution_count": null,
      "outputs": []
    },
    {
      "cell_type": "code",
      "metadata": {
        "id": "4T1mHkliYmDJ"
      },
      "source": [
        "del learn\n",
        "torch.cuda.empty_cache()"
      ],
      "execution_count": 31,
      "outputs": []
    },
    {
      "cell_type": "code",
      "metadata": {
        "colab": {
          "base_uri": "https://localhost:8080/",
          "height": 398
        },
        "id": "N1b_ZPi0Yo3m",
        "outputId": "11795e9a-f950-4a5f-dae0-cbb70eb032e4"
      },
      "source": [
        "learn = Learner(dls, TransformerLM(vocab_sz, 512, prenorm=True),\n",
        "                loss_func=CrossEntropyLossFlat(),\n",
        "                metrics=[accuracy, Perplexity()]).to_native_fp16()\n",
        "learn.fit_one_cycle(10, 1e-3)"
      ],
      "execution_count": 32,
      "outputs": [
        {
          "output_type": "display_data",
          "data": {
            "text/html": [
              "<table border=\"1\" class=\"dataframe\">\n",
              "  <thead>\n",
              "    <tr style=\"text-align: left;\">\n",
              "      <th>epoch</th>\n",
              "      <th>train_loss</th>\n",
              "      <th>valid_loss</th>\n",
              "      <th>accuracy</th>\n",
              "      <th>perplexity</th>\n",
              "      <th>time</th>\n",
              "    </tr>\n",
              "  </thead>\n",
              "  <tbody>\n",
              "    <tr>\n",
              "      <td>0</td>\n",
              "      <td>2.891958</td>\n",
              "      <td>2.478371</td>\n",
              "      <td>0.277939</td>\n",
              "      <td>11.921827</td>\n",
              "      <td>00:48</td>\n",
              "    </tr>\n",
              "    <tr>\n",
              "      <td>1</td>\n",
              "      <td>2.477611</td>\n",
              "      <td>2.350193</td>\n",
              "      <td>0.316516</td>\n",
              "      <td>10.487594</td>\n",
              "      <td>00:48</td>\n",
              "    </tr>\n",
              "    <tr>\n",
              "      <td>2</td>\n",
              "      <td>2.165815</td>\n",
              "      <td>1.981662</td>\n",
              "      <td>0.410236</td>\n",
              "      <td>7.254793</td>\n",
              "      <td>00:48</td>\n",
              "    </tr>\n",
              "    <tr>\n",
              "      <td>3</td>\n",
              "      <td>1.907013</td>\n",
              "      <td>1.748724</td>\n",
              "      <td>0.476671</td>\n",
              "      <td>5.747267</td>\n",
              "      <td>00:48</td>\n",
              "    </tr>\n",
              "    <tr>\n",
              "      <td>4</td>\n",
              "      <td>1.728892</td>\n",
              "      <td>1.608966</td>\n",
              "      <td>0.510913</td>\n",
              "      <td>4.997641</td>\n",
              "      <td>00:48</td>\n",
              "    </tr>\n",
              "    <tr>\n",
              "      <td>5</td>\n",
              "      <td>1.616187</td>\n",
              "      <td>1.512021</td>\n",
              "      <td>0.535748</td>\n",
              "      <td>4.535888</td>\n",
              "      <td>00:48</td>\n",
              "    </tr>\n",
              "    <tr>\n",
              "      <td>6</td>\n",
              "      <td>1.536448</td>\n",
              "      <td>1.440581</td>\n",
              "      <td>0.555699</td>\n",
              "      <td>4.223147</td>\n",
              "      <td>00:49</td>\n",
              "    </tr>\n",
              "    <tr>\n",
              "      <td>7</td>\n",
              "      <td>1.476998</td>\n",
              "      <td>1.397911</td>\n",
              "      <td>0.566932</td>\n",
              "      <td>4.046736</td>\n",
              "      <td>00:48</td>\n",
              "    </tr>\n",
              "    <tr>\n",
              "      <td>8</td>\n",
              "      <td>1.439846</td>\n",
              "      <td>1.374955</td>\n",
              "      <td>0.571689</td>\n",
              "      <td>3.954898</td>\n",
              "      <td>00:49</td>\n",
              "    </tr>\n",
              "    <tr>\n",
              "      <td>9</td>\n",
              "      <td>1.420235</td>\n",
              "      <td>1.370043</td>\n",
              "      <td>0.573941</td>\n",
              "      <td>3.935521</td>\n",
              "      <td>00:48</td>\n",
              "    </tr>\n",
              "  </tbody>\n",
              "</table>"
            ],
            "text/plain": [
              "<IPython.core.display.HTML object>"
            ]
          },
          "metadata": {
            "tags": []
          }
        }
      ]
    },
    {
      "cell_type": "code",
      "metadata": {
        "colab": {
          "base_uri": "https://localhost:8080/",
          "height": 398
        },
        "id": "9qRuH0VIbzUQ",
        "outputId": "efe3cc31-de08-4029-bc70-bb82101d4bf1"
      },
      "source": [
        "# best 10 epoch run (no dropout between attention and ff)\n",
        "# to be matched with new config\n",
        "# del learn\n",
        "# torch.cuda.empty_cache()\n",
        "# learn = Learner(dls, TransformerLM(vocab_sz, 512, prenorm=True),\n",
        "#                 loss_func=CrossEntropyLossFlat(),\n",
        "#                 metrics=[accuracy, Perplexity()]).to_native_fp16()\n",
        "# learn.fit_one_cycle(10, 3e-3)"
      ],
      "execution_count": 33,
      "outputs": [
        {
          "output_type": "display_data",
          "data": {
            "text/html": [
              "<table border=\"1\" class=\"dataframe\">\n",
              "  <thead>\n",
              "    <tr style=\"text-align: left;\">\n",
              "      <th>epoch</th>\n",
              "      <th>train_loss</th>\n",
              "      <th>valid_loss</th>\n",
              "      <th>accuracy</th>\n",
              "      <th>perplexity</th>\n",
              "      <th>time</th>\n",
              "    </tr>\n",
              "  </thead>\n",
              "  <tbody>\n",
              "    <tr>\n",
              "      <td>0</td>\n",
              "      <td>2.655741</td>\n",
              "      <td>2.431093</td>\n",
              "      <td>0.281693</td>\n",
              "      <td>11.371304</td>\n",
              "      <td>00:48</td>\n",
              "    </tr>\n",
              "    <tr>\n",
              "      <td>1</td>\n",
              "      <td>2.285263</td>\n",
              "      <td>2.124635</td>\n",
              "      <td>0.357686</td>\n",
              "      <td>8.369838</td>\n",
              "      <td>00:48</td>\n",
              "    </tr>\n",
              "    <tr>\n",
              "      <td>2</td>\n",
              "      <td>1.905690</td>\n",
              "      <td>1.724872</td>\n",
              "      <td>0.488441</td>\n",
              "      <td>5.611800</td>\n",
              "      <td>00:48</td>\n",
              "    </tr>\n",
              "    <tr>\n",
              "      <td>3</td>\n",
              "      <td>1.690781</td>\n",
              "      <td>1.556856</td>\n",
              "      <td>0.525716</td>\n",
              "      <td>4.743884</td>\n",
              "      <td>00:48</td>\n",
              "    </tr>\n",
              "    <tr>\n",
              "      <td>4</td>\n",
              "      <td>1.572201</td>\n",
              "      <td>1.452617</td>\n",
              "      <td>0.553523</td>\n",
              "      <td>4.274285</td>\n",
              "      <td>00:48</td>\n",
              "    </tr>\n",
              "    <tr>\n",
              "      <td>5</td>\n",
              "      <td>1.482140</td>\n",
              "      <td>1.373206</td>\n",
              "      <td>0.574506</td>\n",
              "      <td>3.947988</td>\n",
              "      <td>00:48</td>\n",
              "    </tr>\n",
              "    <tr>\n",
              "      <td>6</td>\n",
              "      <td>1.403928</td>\n",
              "      <td>1.302566</td>\n",
              "      <td>0.590271</td>\n",
              "      <td>3.678724</td>\n",
              "      <td>00:48</td>\n",
              "    </tr>\n",
              "    <tr>\n",
              "      <td>7</td>\n",
              "      <td>1.335006</td>\n",
              "      <td>1.243060</td>\n",
              "      <td>0.606078</td>\n",
              "      <td>3.466203</td>\n",
              "      <td>00:48</td>\n",
              "    </tr>\n",
              "    <tr>\n",
              "      <td>8</td>\n",
              "      <td>1.279115</td>\n",
              "      <td>1.204529</td>\n",
              "      <td>0.617094</td>\n",
              "      <td>3.335189</td>\n",
              "      <td>00:48</td>\n",
              "    </tr>\n",
              "    <tr>\n",
              "      <td>9</td>\n",
              "      <td>1.245498</td>\n",
              "      <td>1.197605</td>\n",
              "      <td>0.619160</td>\n",
              "      <td>3.312175</td>\n",
              "      <td>00:48</td>\n",
              "    </tr>\n",
              "  </tbody>\n",
              "</table>"
            ],
            "text/plain": [
              "<IPython.core.display.HTML object>"
            ]
          },
          "metadata": {
            "tags": []
          }
        }
      ]
    },
    {
      "cell_type": "code",
      "metadata": {
        "id": "Xcz3WfxufLxO"
      },
      "source": [
        ""
      ],
      "execution_count": null,
      "outputs": []
    },
    {
      "cell_type": "markdown",
      "metadata": {
        "id": "aRa2c7R8ckAH"
      },
      "source": [
        "TODO: RAdam\n",
        "\n",
        "?? RAdam may be better suited for postnorm (see On Layer Normalization ... paper)\n",
        "\n",
        "may be try to switch from `fit_one_cycle`"
      ]
    },
    {
      "cell_type": "code",
      "metadata": {
        "colab": {
          "base_uri": "https://localhost:8080/",
          "height": 302
        },
        "id": "gM3MDokBcmj1",
        "outputId": "47e75d06-b8bc-45f0-b1d8-ca57f1a76dd2"
      },
      "source": [
        "del learn\n",
        "torch.cuda.empty_cache()\n",
        "learn = Learner(dls, TransformerLM(vocab_sz, 512), \n",
        "                opt_func=RAdam,\n",
        "                loss_func=CrossEntropyLossFlat(),\n",
        "                metrics=[accuracy, Perplexity()]).to_native_fp16()\n",
        "learn.lr_find()"
      ],
      "execution_count": 34,
      "outputs": [
        {
          "output_type": "display_data",
          "data": {
            "text/html": [
              ""
            ],
            "text/plain": [
              "<IPython.core.display.HTML object>"
            ]
          },
          "metadata": {
            "tags": []
          }
        },
        {
          "output_type": "execute_result",
          "data": {
            "text/plain": [
              "SuggestedLRs(lr_min=0.010000000149011612, lr_steep=0.0831763744354248)"
            ]
          },
          "metadata": {
            "tags": []
          },
          "execution_count": 34
        },
        {
          "output_type": "display_data",
          "data": {
            "image/png": "[encoded data removed]",
            "text/plain": [
              "<Figure size 432x288 with 1 Axes>"
            ]
          },
          "metadata": {
            "tags": [],
            "needs_background": "light"
          }
        }
      ]
    },
    {
      "cell_type": "code",
      "metadata": {
        "colab": {
          "base_uri": "https://localhost:8080/",
          "height": 398
        },
        "id": "flkQJGvbgK9n",
        "outputId": "fa1d78ac-2851-47df-f5d2-f2ed1bec8f02"
      },
      "source": [
        "learn.fit_one_cycle(10, 1e-3)"
      ],
      "execution_count": 35,
      "outputs": [
        {
          "output_type": "display_data",
          "data": {
            "text/html": [
              "<table border=\"1\" class=\"dataframe\">\n",
              "  <thead>\n",
              "    <tr style=\"text-align: left;\">\n",
              "      <th>epoch</th>\n",
              "      <th>train_loss</th>\n",
              "      <th>valid_loss</th>\n",
              "      <th>accuracy</th>\n",
              "      <th>perplexity</th>\n",
              "      <th>time</th>\n",
              "    </tr>\n",
              "  </thead>\n",
              "  <tbody>\n",
              "    <tr>\n",
              "      <td>0</td>\n",
              "      <td>3.447624</td>\n",
              "      <td>2.639021</td>\n",
              "      <td>0.259315</td>\n",
              "      <td>13.999497</td>\n",
              "      <td>00:48</td>\n",
              "    </tr>\n",
              "    <tr>\n",
              "      <td>1</td>\n",
              "      <td>2.673485</td>\n",
              "      <td>2.369207</td>\n",
              "      <td>0.309797</td>\n",
              "      <td>10.688909</td>\n",
              "      <td>00:48</td>\n",
              "    </tr>\n",
              "    <tr>\n",
              "      <td>2</td>\n",
              "      <td>2.315126</td>\n",
              "      <td>2.107843</td>\n",
              "      <td>0.383845</td>\n",
              "      <td>8.230467</td>\n",
              "      <td>00:48</td>\n",
              "    </tr>\n",
              "    <tr>\n",
              "      <td>3</td>\n",
              "      <td>2.013153</td>\n",
              "      <td>1.826135</td>\n",
              "      <td>0.452079</td>\n",
              "      <td>6.209836</td>\n",
              "      <td>00:49</td>\n",
              "    </tr>\n",
              "    <tr>\n",
              "      <td>4</td>\n",
              "      <td>1.794469</td>\n",
              "      <td>1.627447</td>\n",
              "      <td>0.506133</td>\n",
              "      <td>5.090860</td>\n",
              "      <td>00:48</td>\n",
              "    </tr>\n",
              "    <tr>\n",
              "      <td>5</td>\n",
              "      <td>1.644663</td>\n",
              "      <td>1.515034</td>\n",
              "      <td>0.537587</td>\n",
              "      <td>4.549577</td>\n",
              "      <td>00:48</td>\n",
              "    </tr>\n",
              "    <tr>\n",
              "      <td>6</td>\n",
              "      <td>1.541715</td>\n",
              "      <td>1.436065</td>\n",
              "      <td>0.557329</td>\n",
              "      <td>4.204118</td>\n",
              "      <td>00:48</td>\n",
              "    </tr>\n",
              "    <tr>\n",
              "      <td>7</td>\n",
              "      <td>1.471609</td>\n",
              "      <td>1.381216</td>\n",
              "      <td>0.569824</td>\n",
              "      <td>3.979738</td>\n",
              "      <td>00:48</td>\n",
              "    </tr>\n",
              "    <tr>\n",
              "      <td>8</td>\n",
              "      <td>1.421853</td>\n",
              "      <td>1.342212</td>\n",
              "      <td>0.581111</td>\n",
              "      <td>3.827501</td>\n",
              "      <td>00:48</td>\n",
              "    </tr>\n",
              "    <tr>\n",
              "      <td>9</td>\n",
              "      <td>1.394570</td>\n",
              "      <td>1.335156</td>\n",
              "      <td>0.582773</td>\n",
              "      <td>3.800589</td>\n",
              "      <td>00:49</td>\n",
              "    </tr>\n",
              "  </tbody>\n",
              "</table>"
            ],
            "text/plain": [
              "<IPython.core.display.HTML object>"
            ]
          },
          "metadata": {
            "tags": []
          }
        }
      ]
    },
    {
      "cell_type": "markdown",
      "metadata": {
        "id": "Ba_7uYMijFdm"
      },
      "source": [
        "!! Instability in the begining - worse than 1e-3"
      ]
    },
    {
      "cell_type": "code",
      "metadata": {
        "colab": {
          "base_uri": "https://localhost:8080/",
          "height": 398
        },
        "id": "sTs1RPa9iVmy",
        "outputId": "de0842f6-880b-440b-db0e-50be1d9d2a21"
      },
      "source": [
        "del learn\n",
        "torch.cuda.empty_cache()\n",
        "learn = Learner(dls, TransformerLM(vocab_sz, 512), \n",
        "                opt_func=RAdam,\n",
        "                loss_func=CrossEntropyLossFlat(),\n",
        "                metrics=[accuracy, Perplexity()]).to_native_fp16()\n",
        "learn.fit_one_cycle(10, 3e-3)"
      ],
      "execution_count": 36,
      "outputs": [
        {
          "output_type": "display_data",
          "data": {
            "text/html": [
              "<table border=\"1\" class=\"dataframe\">\n",
              "  <thead>\n",
              "    <tr style=\"text-align: left;\">\n",
              "      <th>epoch</th>\n",
              "      <th>train_loss</th>\n",
              "      <th>valid_loss</th>\n",
              "      <th>accuracy</th>\n",
              "      <th>perplexity</th>\n",
              "      <th>time</th>\n",
              "    </tr>\n",
              "  </thead>\n",
              "  <tbody>\n",
              "    <tr>\n",
              "      <td>0</td>\n",
              "      <td>3.205074</td>\n",
              "      <td>2.622827</td>\n",
              "      <td>0.265125</td>\n",
              "      <td>13.774607</td>\n",
              "      <td>00:48</td>\n",
              "    </tr>\n",
              "    <tr>\n",
              "      <td>1</td>\n",
              "      <td>4.199325</td>\n",
              "      <td>3.344301</td>\n",
              "      <td>0.173488</td>\n",
              "      <td>28.340765</td>\n",
              "      <td>00:48</td>\n",
              "    </tr>\n",
              "    <tr>\n",
              "      <td>2</td>\n",
              "      <td>2.658805</td>\n",
              "      <td>2.254802</td>\n",
              "      <td>0.348942</td>\n",
              "      <td>9.533405</td>\n",
              "      <td>00:48</td>\n",
              "    </tr>\n",
              "    <tr>\n",
              "      <td>3</td>\n",
              "      <td>2.232302</td>\n",
              "      <td>2.060265</td>\n",
              "      <td>0.393698</td>\n",
              "      <td>7.848048</td>\n",
              "      <td>00:48</td>\n",
              "    </tr>\n",
              "    <tr>\n",
              "      <td>4</td>\n",
              "      <td>2.046109</td>\n",
              "      <td>1.923409</td>\n",
              "      <td>0.425275</td>\n",
              "      <td>6.844251</td>\n",
              "      <td>00:48</td>\n",
              "    </tr>\n",
              "    <tr>\n",
              "      <td>5</td>\n",
              "      <td>1.897570</td>\n",
              "      <td>1.754345</td>\n",
              "      <td>0.468364</td>\n",
              "      <td>5.779660</td>\n",
              "      <td>00:48</td>\n",
              "    </tr>\n",
              "    <tr>\n",
              "      <td>6</td>\n",
              "      <td>1.777555</td>\n",
              "      <td>1.657268</td>\n",
              "      <td>0.496559</td>\n",
              "      <td>5.244963</td>\n",
              "      <td>00:48</td>\n",
              "    </tr>\n",
              "    <tr>\n",
              "      <td>7</td>\n",
              "      <td>1.697490</td>\n",
              "      <td>1.599239</td>\n",
              "      <td>0.509301</td>\n",
              "      <td>4.949267</td>\n",
              "      <td>00:48</td>\n",
              "    </tr>\n",
              "    <tr>\n",
              "      <td>8</td>\n",
              "      <td>1.641900</td>\n",
              "      <td>1.559162</td>\n",
              "      <td>0.520308</td>\n",
              "      <td>4.754836</td>\n",
              "      <td>00:48</td>\n",
              "    </tr>\n",
              "    <tr>\n",
              "      <td>9</td>\n",
              "      <td>1.616546</td>\n",
              "      <td>1.548959</td>\n",
              "      <td>0.522302</td>\n",
              "      <td>4.706567</td>\n",
              "      <td>00:48</td>\n",
              "    </tr>\n",
              "  </tbody>\n",
              "</table>"
            ],
            "text/plain": [
              "<IPython.core.display.HTML object>"
            ]
          },
          "metadata": {
            "tags": []
          }
        }
      ]
    },
    {
      "cell_type": "markdown",
      "metadata": {
        "id": "WH92PqxvdAgN"
      },
      "source": [
        "TODO Adafactor"
      ]
    },
    {
      "cell_type": "code",
      "metadata": {
        "id": "tAnsgMp4dERc"
      },
      "source": [
        ""
      ],
      "execution_count": null,
      "outputs": []
    },
    {
      "cell_type": "markdown",
      "metadata": {
        "id": "TVdS68Xpzzc0"
      },
      "source": [
        "### default + fixed pos encodings"
      ]
    },
    {
      "cell_type": "code",
      "metadata": {
        "id": "pnQivUyj62kQ"
      },
      "source": [
        "del learn\n",
        "torch.cuda.empty_cache()"
      ],
      "execution_count": 38,
      "outputs": []
    },
    {
      "cell_type": "code",
      "metadata": {
        "id": "8NX15C9Ez6XV"
      },
      "source": [
        "learn = Learner(dls, TransformerLM(vocab_sz, 512, pos_enc='fixed'),\n",
        "                loss_func=CrossEntropyLossFlat(),\n",
        "                metrics=[accuracy, Perplexity()]).to_native_fp16()"
      ],
      "execution_count": 39,
      "outputs": []
    },
    {
      "cell_type": "code",
      "metadata": {
        "colab": {
          "base_uri": "https://localhost:8080/",
          "height": 302
        },
        "id": "L3mF35-Mz6Ub",
        "outputId": "5f448f40-747c-4a4b-9a4f-753c9786d8cb"
      },
      "source": [
        "learn.lr_find()"
      ],
      "execution_count": 40,
      "outputs": [
        {
          "output_type": "display_data",
          "data": {
            "text/html": [
              ""
            ],
            "text/plain": [
              "<IPython.core.display.HTML object>"
            ]
          },
          "metadata": {
            "tags": []
          }
        },
        {
          "output_type": "execute_result",
          "data": {
            "text/plain": [
              "SuggestedLRs(lr_min=0.00831763744354248, lr_steep=0.0691830962896347)"
            ]
          },
          "metadata": {
            "tags": []
          },
          "execution_count": 40
        },
        {
          "output_type": "display_data",
          "data": {
            "image/png": "[encoded data removed]",
            "text/plain": [
              "<Figure size 432x288 with 1 Axes>"
            ]
          },
          "metadata": {
            "tags": [],
            "needs_background": "light"
          }
        }
      ]
    },
    {
      "cell_type": "code",
      "metadata": {
        "colab": {
          "base_uri": "https://localhost:8080/",
          "height": 398
        },
        "id": "vj_63G_Qz6SP",
        "outputId": "25802204-dea6-4b54-ff77-3c6b70885c75"
      },
      "source": [
        "learn.fit_one_cycle(10, 5e-4)"
      ],
      "execution_count": 41,
      "outputs": [
        {
          "output_type": "display_data",
          "data": {
            "text/html": [
              "<table border=\"1\" class=\"dataframe\">\n",
              "  <thead>\n",
              "    <tr style=\"text-align: left;\">\n",
              "      <th>epoch</th>\n",
              "      <th>train_loss</th>\n",
              "      <th>valid_loss</th>\n",
              "      <th>accuracy</th>\n",
              "      <th>perplexity</th>\n",
              "      <th>time</th>\n",
              "    </tr>\n",
              "  </thead>\n",
              "  <tbody>\n",
              "    <tr>\n",
              "      <td>0</td>\n",
              "      <td>3.429643</td>\n",
              "      <td>2.707728</td>\n",
              "      <td>0.249525</td>\n",
              "      <td>14.995170</td>\n",
              "      <td>00:52</td>\n",
              "    </tr>\n",
              "    <tr>\n",
              "      <td>1</td>\n",
              "      <td>2.699254</td>\n",
              "      <td>2.476765</td>\n",
              "      <td>0.284308</td>\n",
              "      <td>11.902701</td>\n",
              "      <td>00:52</td>\n",
              "    </tr>\n",
              "    <tr>\n",
              "      <td>2</td>\n",
              "      <td>2.435304</td>\n",
              "      <td>2.261078</td>\n",
              "      <td>0.343424</td>\n",
              "      <td>9.593427</td>\n",
              "      <td>00:53</td>\n",
              "    </tr>\n",
              "    <tr>\n",
              "      <td>3</td>\n",
              "      <td>2.210564</td>\n",
              "      <td>2.065459</td>\n",
              "      <td>0.389746</td>\n",
              "      <td>7.888920</td>\n",
              "      <td>00:52</td>\n",
              "    </tr>\n",
              "    <tr>\n",
              "      <td>4</td>\n",
              "      <td>2.053837</td>\n",
              "      <td>1.922634</td>\n",
              "      <td>0.427202</td>\n",
              "      <td>6.838946</td>\n",
              "      <td>00:52</td>\n",
              "    </tr>\n",
              "    <tr>\n",
              "      <td>5</td>\n",
              "      <td>1.927998</td>\n",
              "      <td>1.808566</td>\n",
              "      <td>0.459501</td>\n",
              "      <td>6.101694</td>\n",
              "      <td>00:53</td>\n",
              "    </tr>\n",
              "    <tr>\n",
              "      <td>6</td>\n",
              "      <td>1.832595</td>\n",
              "      <td>1.720668</td>\n",
              "      <td>0.482306</td>\n",
              "      <td>5.588262</td>\n",
              "      <td>00:52</td>\n",
              "    </tr>\n",
              "    <tr>\n",
              "      <td>7</td>\n",
              "      <td>1.768773</td>\n",
              "      <td>1.674900</td>\n",
              "      <td>0.494437</td>\n",
              "      <td>5.338261</td>\n",
              "      <td>00:53</td>\n",
              "    </tr>\n",
              "    <tr>\n",
              "      <td>8</td>\n",
              "      <td>1.728668</td>\n",
              "      <td>1.651860</td>\n",
              "      <td>0.501291</td>\n",
              "      <td>5.216673</td>\n",
              "      <td>00:53</td>\n",
              "    </tr>\n",
              "    <tr>\n",
              "      <td>9</td>\n",
              "      <td>1.711644</td>\n",
              "      <td>1.647894</td>\n",
              "      <td>0.502114</td>\n",
              "      <td>5.196024</td>\n",
              "      <td>00:53</td>\n",
              "    </tr>\n",
              "  </tbody>\n",
              "</table>"
            ],
            "text/plain": [
              "<IPython.core.display.HTML object>"
            ]
          },
          "metadata": {
            "tags": []
          }
        }
      ]
    },
    {
      "cell_type": "markdown",
      "metadata": {
        "id": "aItLQsDNoOzc"
      },
      "source": [
        "### bert init"
      ]
    },
    {
      "cell_type": "code",
      "metadata": {
        "id": "Xw9p7UQooVyc"
      },
      "source": [
        "learn = Learner(dls, TransformerLM(vocab_sz, 512),\n",
        "                loss_func=CrossEntropyLossFlat(),\n",
        "                metrics=[accuracy, Perplexity()]).to_native_fp16()"
      ],
      "execution_count": null,
      "outputs": []
    },
    {
      "cell_type": "code",
      "metadata": {
        "id": "ts6AnUdeokYP"
      },
      "source": [
        "def print_parameter_stats(model):\n",
        "    for n, m in model.named_modules():\n",
        "        if hasattr(m, 'weight'):\n",
        "            print(n)\n",
        "            print(f'    weights mean {m.weight.mean().item():.6f}, std {m.weight.std().item():.6f}')\n",
        "        # else:\n",
        "        #     print(n, ' has no weight')"
      ],
      "execution_count": null,
      "outputs": []
    },
    {
      "cell_type": "code",
      "metadata": {
        "colab": {
          "base_uri": "https://localhost:8080/"
        },
        "id": "7k3hqjuHrftQ",
        "outputId": "4caddc6f-816a-4f4c-dc91-197b648e4e16"
      },
      "source": [
        "print_parameter_stats(learn.model)"
      ],
      "execution_count": null,
      "outputs": [
        {
          "output_type": "stream",
          "text": [
            "emb.emb\n",
            "weights mean 0.000032, std 0.019960\n",
            "emb.pos_enc.emb\n",
            "weights mean -0.001253, std 1.003188\n",
            "tfmr.layers.0.attn.fn.fn.to_q\n",
            "weights mean 0.000067, std 0.025527\n",
            "tfmr.layers.0.attn.fn.fn.to_kv\n",
            "weights mean 0.000070, std 0.025502\n",
            "tfmr.layers.0.attn.fn.fn.to_out\n",
            "weights mean 0.000022, std 0.025491\n",
            "tfmr.layers.0.attn.fn.norm\n",
            "weights mean 1.000000, std 0.000000\n",
            "tfmr.layers.0.ff.fn.fn.net.0\n",
            "weights mean -0.000014, std 0.025508\n",
            "tfmr.layers.0.ff.fn.fn.net.3\n",
            "weights mean 0.000002, std 0.012760\n",
            "tfmr.layers.0.ff.fn.norm\n",
            "weights mean 1.000000, std 0.000000\n",
            "tfmr.layers.1.attn.fn.fn.to_q\n",
            "weights mean -0.000007, std 0.025495\n",
            "tfmr.layers.1.attn.fn.fn.to_kv\n",
            "weights mean 0.000008, std 0.025507\n",
            "tfmr.layers.1.attn.fn.fn.to_out\n",
            "weights mean 0.000057, std 0.025494\n",
            "tfmr.layers.1.attn.fn.norm\n",
            "weights mean 1.000000, std 0.000000\n",
            "tfmr.layers.1.ff.fn.fn.net.0\n",
            "weights mean 0.000017, std 0.025520\n",
            "tfmr.layers.1.ff.fn.fn.net.3\n",
            "weights mean 0.000024, std 0.012760\n",
            "tfmr.layers.1.ff.fn.norm\n",
            "weights mean 1.000000, std 0.000000\n",
            "tfmr.layers.2.attn.fn.fn.to_q\n",
            "weights mean -0.000078, std 0.025534\n",
            "tfmr.layers.2.attn.fn.fn.to_kv\n",
            "weights mean -0.000005, std 0.025523\n",
            "tfmr.layers.2.attn.fn.fn.to_out\n",
            "weights mean 0.000067, std 0.025530\n",
            "tfmr.layers.2.attn.fn.norm\n",
            "weights mean 1.000000, std 0.000000\n",
            "tfmr.layers.2.ff.fn.fn.net.0\n",
            "weights mean -0.000001, std 0.025528\n",
            "tfmr.layers.2.ff.fn.fn.net.3\n",
            "weights mean -0.000006, std 0.012763\n",
            "tfmr.layers.2.ff.fn.norm\n",
            "weights mean 1.000000, std 0.000000\n",
            "tfmr.layers.3.attn.fn.fn.to_q\n",
            "weights mean 0.000017, std 0.025511\n",
            "tfmr.layers.3.attn.fn.fn.to_kv\n",
            "weights mean 0.000030, std 0.025499\n",
            "tfmr.layers.3.attn.fn.fn.to_out\n",
            "weights mean -0.000105, std 0.025529\n",
            "tfmr.layers.3.attn.fn.norm\n",
            "weights mean 1.000000, std 0.000000\n",
            "tfmr.layers.3.ff.fn.fn.net.0\n",
            "weights mean -0.000010, std 0.025496\n",
            "tfmr.layers.3.ff.fn.fn.net.3\n",
            "weights mean -0.000009, std 0.012755\n",
            "tfmr.layers.3.ff.fn.norm\n",
            "weights mean 1.000000, std 0.000000\n",
            "tfmr.layers.4.attn.fn.fn.to_q\n",
            "weights mean 0.000018, std 0.025543\n",
            "tfmr.layers.4.attn.fn.fn.to_kv\n",
            "weights mean -0.000002, std 0.025527\n",
            "tfmr.layers.4.attn.fn.fn.to_out\n",
            "weights mean 0.000065, std 0.025499\n",
            "tfmr.layers.4.attn.fn.norm\n",
            "weights mean 1.000000, std 0.000000\n",
            "tfmr.layers.4.ff.fn.fn.net.0\n",
            "weights mean -0.000020, std 0.025525\n",
            "tfmr.layers.4.ff.fn.fn.net.3\n",
            "weights mean -0.000015, std 0.012763\n",
            "tfmr.layers.4.ff.fn.norm\n",
            "weights mean 1.000000, std 0.000000\n",
            "tfmr.layers.5.attn.fn.fn.to_q\n",
            "weights mean 0.000023, std 0.025515\n",
            "tfmr.layers.5.attn.fn.fn.to_kv\n",
            "weights mean 0.000005, std 0.025530\n",
            "tfmr.layers.5.attn.fn.fn.to_out\n",
            "weights mean -0.000096, std 0.025517\n",
            "tfmr.layers.5.attn.fn.norm\n",
            "weights mean 1.000000, std 0.000000\n",
            "tfmr.layers.5.ff.fn.fn.net.0\n",
            "weights mean -0.000002, std 0.025525\n",
            "tfmr.layers.5.ff.fn.fn.net.3\n",
            "weights mean -0.000002, std 0.012748\n",
            "tfmr.layers.5.ff.fn.norm\n",
            "weights mean 1.000000, std 0.000000\n",
            "proj\n",
            "weights mean 0.000075, std 0.025466\n"
          ],
          "name": "stdout"
        }
      ]
    },
    {
      "cell_type": "code",
      "metadata": {
        "id": "6-0uxPjtmVeD"
      },
      "source": [
        "def bert_init(model):\n",
        "    \"\"\" Initialize the weights \"\"\"\n",
        "    for module in model.modules():\n",
        "        if isinstance(module, (nn.Linear, nn.Embedding)):\n",
        "            # Slightly different from the TF version which uses truncated_normal for initialization\n",
        "            # cf https://github.com/pytorch/pytorch/pull/5617\n",
        "            module.weight.data.normal_(mean=0.0, std=0.02)\n",
        "        # default to pytorch, to remove\n",
        "        elif isinstance(module, nn.LayerNorm):\n",
        "            module.bias.data.zero_()\n",
        "            module.weight.data.fill_(1.0)\n",
        "        if isinstance(module, nn.Linear) and module.bias is not None:\n",
        "            module.bias.data.zero_()"
      ],
      "execution_count": null,
      "outputs": []
    },
    {
      "cell_type": "code",
      "metadata": {
        "colab": {
          "base_uri": "https://localhost:8080/"
        },
        "id": "ysU4Zr09oNvb",
        "outputId": "2de488c4-3ad4-4e54-f826-21a1d3b07f20"
      },
      "source": [
        "bert_init(learn.model)\n",
        "print_parameter_stats(learn.model)"
      ],
      "execution_count": null,
      "outputs": [
        {
          "output_type": "stream",
          "text": [
            "emb.emb\n",
            "weights mean -0.000016, std 0.020013\n",
            "emb.pos_enc.emb\n",
            "weights mean 0.000007, std 0.019987\n",
            "tfmr.layers.0.attn.fn.fn.to_q\n",
            "weights mean 0.000022, std 0.020013\n",
            "tfmr.layers.0.attn.fn.fn.to_kv\n",
            "weights mean 0.000039, std 0.020014\n",
            "tfmr.layers.0.attn.fn.fn.to_out\n",
            "weights mean -0.000020, std 0.020039\n",
            "tfmr.layers.0.attn.fn.norm\n",
            "weights mean 1.000000, std 0.000000\n",
            "tfmr.layers.0.ff.fn.fn.net.0\n",
            "weights mean 0.000019, std 0.019999\n",
            "tfmr.layers.0.ff.fn.fn.net.3\n",
            "weights mean -0.000015, std 0.019989\n",
            "tfmr.layers.0.ff.fn.norm\n",
            "weights mean 1.000000, std 0.000000\n",
            "tfmr.layers.1.attn.fn.fn.to_q\n",
            "weights mean 0.000069, std 0.020000\n",
            "tfmr.layers.1.attn.fn.fn.to_kv\n",
            "weights mean 0.000057, std 0.019997\n",
            "tfmr.layers.1.attn.fn.fn.to_out\n",
            "weights mean 0.000091, std 0.020047\n",
            "tfmr.layers.1.attn.fn.norm\n",
            "weights mean 1.000000, std 0.000000\n",
            "tfmr.layers.1.ff.fn.fn.net.0\n",
            "weights mean -0.000014, std 0.019979\n",
            "tfmr.layers.1.ff.fn.fn.net.3\n",
            "weights mean -0.000028, std 0.020000\n",
            "tfmr.layers.1.ff.fn.norm\n",
            "weights mean 1.000000, std 0.000000\n",
            "tfmr.layers.2.attn.fn.fn.to_q\n",
            "weights mean 0.000062, std 0.019992\n",
            "tfmr.layers.2.attn.fn.fn.to_kv\n",
            "weights mean 0.000071, std 0.019996\n",
            "tfmr.layers.2.attn.fn.fn.to_out\n",
            "weights mean 0.000016, std 0.020021\n",
            "tfmr.layers.2.attn.fn.norm\n",
            "weights mean 1.000000, std 0.000000\n",
            "tfmr.layers.2.ff.fn.fn.net.0\n",
            "weights mean 0.000013, std 0.019960\n",
            "tfmr.layers.2.ff.fn.fn.net.3\n",
            "weights mean -0.000012, std 0.020026\n",
            "tfmr.layers.2.ff.fn.norm\n",
            "weights mean 1.000000, std 0.000000\n",
            "tfmr.layers.3.attn.fn.fn.to_q\n",
            "weights mean -0.000002, std 0.019998\n",
            "tfmr.layers.3.attn.fn.fn.to_kv\n",
            "weights mean -0.000015, std 0.020012\n",
            "tfmr.layers.3.attn.fn.fn.to_out\n",
            "weights mean 0.000026, std 0.019972\n",
            "tfmr.layers.3.attn.fn.norm\n",
            "weights mean 1.000000, std 0.000000\n",
            "tfmr.layers.3.ff.fn.fn.net.0\n",
            "weights mean 0.000003, std 0.019990\n",
            "tfmr.layers.3.ff.fn.fn.net.3\n",
            "weights mean -0.000005, std 0.019997\n",
            "tfmr.layers.3.ff.fn.norm\n",
            "weights mean 1.000000, std 0.000000\n",
            "tfmr.layers.4.attn.fn.fn.to_q\n",
            "weights mean -0.000066, std 0.019989\n",
            "tfmr.layers.4.attn.fn.fn.to_kv\n",
            "weights mean 0.000026, std 0.019991\n",
            "tfmr.layers.4.attn.fn.fn.to_out\n",
            "weights mean 0.000015, std 0.019995\n",
            "tfmr.layers.4.attn.fn.norm\n",
            "weights mean 1.000000, std 0.000000\n",
            "tfmr.layers.4.ff.fn.fn.net.0\n",
            "weights mean 0.000020, std 0.020013\n",
            "tfmr.layers.4.ff.fn.fn.net.3\n",
            "weights mean -0.000033, std 0.019985\n",
            "tfmr.layers.4.ff.fn.norm\n",
            "weights mean 1.000000, std 0.000000\n",
            "tfmr.layers.5.attn.fn.fn.to_q\n",
            "weights mean -0.000024, std 0.020037\n",
            "tfmr.layers.5.attn.fn.fn.to_kv\n",
            "weights mean 0.000027, std 0.019977\n",
            "tfmr.layers.5.attn.fn.fn.to_out\n",
            "weights mean 0.000030, std 0.020001\n",
            "tfmr.layers.5.attn.fn.norm\n",
            "weights mean 1.000000, std 0.000000\n",
            "tfmr.layers.5.ff.fn.fn.net.0\n",
            "weights mean 0.000031, std 0.019978\n",
            "tfmr.layers.5.ff.fn.fn.net.3\n",
            "weights mean 0.000039, std 0.020010\n",
            "tfmr.layers.5.ff.fn.norm\n",
            "weights mean 1.000000, std 0.000000\n",
            "proj\n",
            "weights mean -0.000004, std 0.019954\n"
          ],
          "name": "stdout"
        }
      ]
    },
    {
      "cell_type": "code",
      "metadata": {
        "colab": {
          "base_uri": "https://localhost:8080/",
          "height": 302
        },
        "id": "vlrjTT8tt66q",
        "outputId": "5636bd48-eae9-4ad7-9fa6-c5c7c641e50d"
      },
      "source": [
        "learn.lr_find()"
      ],
      "execution_count": null,
      "outputs": [
        {
          "output_type": "display_data",
          "data": {
            "text/html": [
              ""
            ],
            "text/plain": [
              "<IPython.core.display.HTML object>"
            ]
          },
          "metadata": {
            "tags": []
          }
        },
        {
          "output_type": "execute_result",
          "data": {
            "text/plain": [
              "SuggestedLRs(lr_min=0.00010000000474974513, lr_steep=7.585775892948732e-05)"
            ]
          },
          "metadata": {
            "tags": []
          },
          "execution_count": 47
        },
        {
          "output_type": "display_data",
          "data": {
            "image/png": "[encoded data removed]",
            "text/plain": [
              "<Figure size 432x288 with 1 Axes>"
            ]
          },
          "metadata": {
            "tags": [],
            "needs_background": "light"
          }
        }
      ]
    },
    {
      "cell_type": "code",
      "metadata": {
        "colab": {
          "base_uri": "https://localhost:8080/",
          "height": 398
        },
        "id": "1HIdR0_4uB3l",
        "outputId": "cdb01f0c-d5c5-40e2-d1cb-5cb9fe2eaf80"
      },
      "source": [
        "learn.fit_one_cycle(10, 1e-4)"
      ],
      "execution_count": null,
      "outputs": [
        {
          "output_type": "display_data",
          "data": {
            "text/html": [
              "<table border=\"1\" class=\"dataframe\">\n",
              "  <thead>\n",
              "    <tr style=\"text-align: left;\">\n",
              "      <th>epoch</th>\n",
              "      <th>train_loss</th>\n",
              "      <th>valid_loss</th>\n",
              "      <th>accuracy</th>\n",
              "      <th>perplexity</th>\n",
              "      <th>time</th>\n",
              "    </tr>\n",
              "  </thead>\n",
              "  <tbody>\n",
              "    <tr>\n",
              "      <td>0</td>\n",
              "      <td>3.001231</td>\n",
              "      <td>2.584840</td>\n",
              "      <td>0.282925</td>\n",
              "      <td>13.261165</td>\n",
              "      <td>00:52</td>\n",
              "    </tr>\n",
              "    <tr>\n",
              "      <td>1</td>\n",
              "      <td>2.434564</td>\n",
              "      <td>2.346462</td>\n",
              "      <td>0.314638</td>\n",
              "      <td>10.448535</td>\n",
              "      <td>00:52</td>\n",
              "    </tr>\n",
              "    <tr>\n",
              "      <td>2</td>\n",
              "      <td>2.338681</td>\n",
              "      <td>2.281197</td>\n",
              "      <td>0.332321</td>\n",
              "      <td>9.788386</td>\n",
              "      <td>00:52</td>\n",
              "    </tr>\n",
              "    <tr>\n",
              "      <td>3</td>\n",
              "      <td>2.261158</td>\n",
              "      <td>2.167946</td>\n",
              "      <td>0.359999</td>\n",
              "      <td>8.740310</td>\n",
              "      <td>00:53</td>\n",
              "    </tr>\n",
              "    <tr>\n",
              "      <td>4</td>\n",
              "      <td>2.157986</td>\n",
              "      <td>2.058212</td>\n",
              "      <td>0.389097</td>\n",
              "      <td>7.831952</td>\n",
              "      <td>00:52</td>\n",
              "    </tr>\n",
              "    <tr>\n",
              "      <td>5</td>\n",
              "      <td>2.065553</td>\n",
              "      <td>1.964524</td>\n",
              "      <td>0.412205</td>\n",
              "      <td>7.131520</td>\n",
              "      <td>00:52</td>\n",
              "    </tr>\n",
              "    <tr>\n",
              "      <td>6</td>\n",
              "      <td>1.997321</td>\n",
              "      <td>1.898286</td>\n",
              "      <td>0.430962</td>\n",
              "      <td>6.674441</td>\n",
              "      <td>00:52</td>\n",
              "    </tr>\n",
              "    <tr>\n",
              "      <td>7</td>\n",
              "      <td>1.952435</td>\n",
              "      <td>1.861121</td>\n",
              "      <td>0.443805</td>\n",
              "      <td>6.430941</td>\n",
              "      <td>00:52</td>\n",
              "    </tr>\n",
              "    <tr>\n",
              "      <td>8</td>\n",
              "      <td>1.932240</td>\n",
              "      <td>1.838866</td>\n",
              "      <td>0.449773</td>\n",
              "      <td>6.289404</td>\n",
              "      <td>00:52</td>\n",
              "    </tr>\n",
              "    <tr>\n",
              "      <td>9</td>\n",
              "      <td>1.923388</td>\n",
              "      <td>1.834828</td>\n",
              "      <td>0.451060</td>\n",
              "      <td>6.264058</td>\n",
              "      <td>00:53</td>\n",
              "    </tr>\n",
              "  </tbody>\n",
              "</table>"
            ],
            "text/plain": [
              "<IPython.core.display.HTML object>"
            ]
          },
          "metadata": {
            "tags": []
          }
        }
      ]
    },
    {
      "cell_type": "code",
      "metadata": {
        "colab": {
          "base_uri": "https://localhost:8080/"
        },
        "id": "TQQAsQWFw4T0",
        "outputId": "b44b6150-8916-4908-c8ba-e461e3bd4e36"
      },
      "source": [
        "learn.save('bert_init_10e')"
      ],
      "execution_count": null,
      "outputs": [
        {
          "output_type": "execute_result",
          "data": {
            "text/plain": [
              "Path('models/bert_init_10e.pth')"
            ]
          },
          "metadata": {
            "tags": []
          },
          "execution_count": 49
        }
      ]
    },
    {
      "cell_type": "markdown",
      "metadata": {
        "id": "xkoiu1NwuQGT"
      },
      "source": [
        "### xavier init everywhere"
      ]
    },
    {
      "cell_type": "code",
      "metadata": {
        "id": "Mxoy0feKHkLz"
      },
      "source": [
        "del learn\n",
        "torch.cuda.empty_cache()"
      ],
      "execution_count": null,
      "outputs": []
    },
    {
      "cell_type": "code",
      "metadata": {
        "id": "QgFcqCo6uVQC"
      },
      "source": [
        "learn = Learner(dls, TransformerLM(vocab_sz, 512),\n",
        "                loss_func=CrossEntropyLossFlat(),\n",
        "                metrics=[accuracy, Perplexity()]).to_native_fp16()"
      ],
      "execution_count": null,
      "outputs": []
    },
    {
      "cell_type": "code",
      "metadata": {
        "id": "MEO44w83uVyB"
      },
      "source": [
        "def xavier_init(model):\n",
        "    \"\"\" Initialize the weights \"\"\"\n",
        "    for name, module in model.named_modules():\n",
        "        if (isinstance(module, (nn.Linear, nn.Embedding)) and not \n",
        "            name.endswith('ff.fn.fn.net.0')): #skip first ff linear layer\n",
        "            print(f'Initializing {name}')\n",
        "            nn.init.xavier_uniform_(module.weight)\n",
        "        elif isinstance(module, nn.LayerNorm):\n",
        "            module.bias.data.zero_()\n",
        "            module.weight.data.fill_(1.0)\n",
        "        if isinstance(module, nn.Linear) and module.bias is not None:\n",
        "            module.bias.data.zero_()"
      ],
      "execution_count": null,
      "outputs": []
    },
    {
      "cell_type": "code",
      "metadata": {
        "colab": {
          "base_uri": "https://localhost:8080/"
        },
        "id": "O6S5LB3FuVvS",
        "outputId": "9feeffb2-dfc6-4065-e739-c78a441ead91"
      },
      "source": [
        "xavier_init(learn.model)\n",
        "# print_parameter_stats(learn.model)"
      ],
      "execution_count": null,
      "outputs": [
        {
          "output_type": "stream",
          "text": [
            "Initializing emb.emb\n",
            "Initializing emb.pos_enc.emb\n",
            "Initializing tfmr.layers.0.attn.fn.fn.to_q\n",
            "Initializing tfmr.layers.0.attn.fn.fn.to_kv\n",
            "Initializing tfmr.layers.0.attn.fn.fn.to_out\n",
            "Initializing tfmr.layers.0.ff.fn.fn.net.3\n",
            "Initializing tfmr.layers.1.attn.fn.fn.to_q\n",
            "Initializing tfmr.layers.1.attn.fn.fn.to_kv\n",
            "Initializing tfmr.layers.1.attn.fn.fn.to_out\n",
            "Initializing tfmr.layers.1.ff.fn.fn.net.3\n",
            "Initializing tfmr.layers.2.attn.fn.fn.to_q\n",
            "Initializing tfmr.layers.2.attn.fn.fn.to_kv\n",
            "Initializing tfmr.layers.2.attn.fn.fn.to_out\n",
            "Initializing tfmr.layers.2.ff.fn.fn.net.3\n",
            "Initializing tfmr.layers.3.attn.fn.fn.to_q\n",
            "Initializing tfmr.layers.3.attn.fn.fn.to_kv\n",
            "Initializing tfmr.layers.3.attn.fn.fn.to_out\n",
            "Initializing tfmr.layers.3.ff.fn.fn.net.3\n",
            "Initializing tfmr.layers.4.attn.fn.fn.to_q\n",
            "Initializing tfmr.layers.4.attn.fn.fn.to_kv\n",
            "Initializing tfmr.layers.4.attn.fn.fn.to_out\n",
            "Initializing tfmr.layers.4.ff.fn.fn.net.3\n",
            "Initializing tfmr.layers.5.attn.fn.fn.to_q\n",
            "Initializing tfmr.layers.5.attn.fn.fn.to_kv\n",
            "Initializing tfmr.layers.5.attn.fn.fn.to_out\n",
            "Initializing tfmr.layers.5.ff.fn.fn.net.3\n",
            "Initializing proj\n"
          ],
          "name": "stdout"
        }
      ]
    },
    {
      "cell_type": "code",
      "metadata": {
        "colab": {
          "base_uri": "https://localhost:8080/",
          "height": 302
        },
        "id": "CTtZjbc-uVsp",
        "outputId": "4d105a19-2f52-48f6-d0bf-09b50659b929"
      },
      "source": [
        "learn.lr_find()"
      ],
      "execution_count": null,
      "outputs": [
        {
          "output_type": "display_data",
          "data": {
            "text/html": [
              ""
            ],
            "text/plain": [
              "<IPython.core.display.HTML object>"
            ]
          },
          "metadata": {
            "tags": []
          }
        },
        {
          "output_type": "execute_result",
          "data": {
            "text/plain": [
              "SuggestedLRs(lr_min=0.00831763744354248, lr_steep=0.0691830962896347)"
            ]
          },
          "metadata": {
            "tags": []
          },
          "execution_count": 27
        },
        {
          "output_type": "display_data",
          "data": {
            "image/png": "[encoded data removed]",
            "text/plain": [
              "<Figure size 432x288 with 1 Axes>"
            ]
          },
          "metadata": {
            "tags": [],
            "needs_background": "light"
          }
        }
      ]
    },
    {
      "cell_type": "code",
      "metadata": {
        "colab": {
          "base_uri": "https://localhost:8080/",
          "height": 398
        },
        "id": "YNW5hbDEx6tL",
        "outputId": "4911d8fb-f7e1-47de-ddd4-2c49043aff3e"
      },
      "source": [
        "learn.fit_one_cycle(10, 3e-4)"
      ],
      "execution_count": null,
      "outputs": [
        {
          "output_type": "display_data",
          "data": {
            "text/html": [
              "<table border=\"1\" class=\"dataframe\">\n",
              "  <thead>\n",
              "    <tr style=\"text-align: left;\">\n",
              "      <th>epoch</th>\n",
              "      <th>train_loss</th>\n",
              "      <th>valid_loss</th>\n",
              "      <th>accuracy</th>\n",
              "      <th>perplexity</th>\n",
              "      <th>time</th>\n",
              "    </tr>\n",
              "  </thead>\n",
              "  <tbody>\n",
              "    <tr>\n",
              "      <td>0</td>\n",
              "      <td>6.160641</td>\n",
              "      <td>2.714973</td>\n",
              "      <td>0.252509</td>\n",
              "      <td>15.104198</td>\n",
              "      <td>00:52</td>\n",
              "    </tr>\n",
              "    <tr>\n",
              "      <td>1</td>\n",
              "      <td>3.291717</td>\n",
              "      <td>2.438443</td>\n",
              "      <td>0.297912</td>\n",
              "      <td>11.455194</td>\n",
              "      <td>00:52</td>\n",
              "    </tr>\n",
              "    <tr>\n",
              "      <td>2</td>\n",
              "      <td>2.687493</td>\n",
              "      <td>2.388665</td>\n",
              "      <td>0.306014</td>\n",
              "      <td>10.898932</td>\n",
              "      <td>00:52</td>\n",
              "    </tr>\n",
              "    <tr>\n",
              "      <td>3</td>\n",
              "      <td>2.509730</td>\n",
              "      <td>2.337611</td>\n",
              "      <td>0.305135</td>\n",
              "      <td>10.356467</td>\n",
              "      <td>00:52</td>\n",
              "    </tr>\n",
              "    <tr>\n",
              "      <td>4</td>\n",
              "      <td>2.408470</td>\n",
              "      <td>2.247009</td>\n",
              "      <td>0.330939</td>\n",
              "      <td>9.459401</td>\n",
              "      <td>00:52</td>\n",
              "    </tr>\n",
              "    <tr>\n",
              "      <td>5</td>\n",
              "      <td>2.306112</td>\n",
              "      <td>2.131926</td>\n",
              "      <td>0.374891</td>\n",
              "      <td>8.431092</td>\n",
              "      <td>00:52</td>\n",
              "    </tr>\n",
              "    <tr>\n",
              "      <td>6</td>\n",
              "      <td>2.191145</td>\n",
              "      <td>2.004643</td>\n",
              "      <td>0.407045</td>\n",
              "      <td>7.423447</td>\n",
              "      <td>00:52</td>\n",
              "    </tr>\n",
              "    <tr>\n",
              "      <td>7</td>\n",
              "      <td>2.094439</td>\n",
              "      <td>1.935884</td>\n",
              "      <td>0.426789</td>\n",
              "      <td>6.930164</td>\n",
              "      <td>00:52</td>\n",
              "    </tr>\n",
              "    <tr>\n",
              "      <td>8</td>\n",
              "      <td>2.037987</td>\n",
              "      <td>1.894476</td>\n",
              "      <td>0.437511</td>\n",
              "      <td>6.649063</td>\n",
              "      <td>00:52</td>\n",
              "    </tr>\n",
              "    <tr>\n",
              "      <td>9</td>\n",
              "      <td>2.015136</td>\n",
              "      <td>1.886768</td>\n",
              "      <td>0.439071</td>\n",
              "      <td>6.598008</td>\n",
              "      <td>00:52</td>\n",
              "    </tr>\n",
              "  </tbody>\n",
              "</table>"
            ],
            "text/plain": [
              "<IPython.core.display.HTML object>"
            ]
          },
          "metadata": {
            "tags": []
          }
        }
      ]
    },
    {
      "cell_type": "code",
      "metadata": {
        "id": "ogqSPyw4GfGQ"
      },
      "source": [
        ""
      ],
      "execution_count": null,
      "outputs": []
    },
    {
      "cell_type": "markdown",
      "metadata": {
        "id": "61li2t-kLVqi"
      },
      "source": [
        "### xavier_init attention only"
      ]
    },
    {
      "cell_type": "code",
      "metadata": {
        "id": "Dti82uHzLbPN"
      },
      "source": [
        "from basic_transformer import Attention"
      ],
      "execution_count": null,
      "outputs": []
    },
    {
      "cell_type": "code",
      "metadata": {
        "id": "tkW_64QfLb3d"
      },
      "source": [
        "del learn\n",
        "torch.cuda.empty_cache()"
      ],
      "execution_count": null,
      "outputs": []
    },
    {
      "cell_type": "code",
      "metadata": {
        "id": "cvzbEHQ_Lb3e"
      },
      "source": [
        "learn = Learner(dls, TransformerLM(vocab_sz, 512),\n",
        "                loss_func=CrossEntropyLossFlat(),\n",
        "                metrics=[accuracy, Perplexity()]).to_native_fp16()"
      ],
      "execution_count": null,
      "outputs": []
    },
    {
      "cell_type": "code",
      "metadata": {
        "id": "CqLAuCj1Lb3e"
      },
      "source": [
        "def xavier_init(model):\n",
        "    \"\"\" Initialize the weights \"\"\"\n",
        "    for name, module in model.named_modules():\n",
        "        if (isinstance(module, (nn.Linear)) and not \n",
        "            'ff.' in name): #skip ff linear layers\n",
        "            print(f'Initializing {name}')\n",
        "            nn.init.xavier_normal_(module.weight)\n",
        "        elif isinstance(module, nn.LayerNorm):\n",
        "            module.bias.data.zero_()\n",
        "            module.weight.data.fill_(1.0)\n",
        "        if isinstance(module, nn.Linear) and module.bias is not None:\n",
        "            module.bias.data.zero_()"
      ],
      "execution_count": null,
      "outputs": []
    },
    {
      "cell_type": "code",
      "metadata": {
        "colab": {
          "base_uri": "https://localhost:8080/"
        },
        "id": "FmNMCjKzLb3f",
        "outputId": "2dd8f450-c634-4027-c335-634040002fcc"
      },
      "source": [
        "xavier_init(learn.model)\n",
        "# print_parameter_stats(learn.model)"
      ],
      "execution_count": null,
      "outputs": [
        {
          "output_type": "stream",
          "text": [
            "Initializing emb.emb\n",
            "Initializing emb.pos_enc.emb\n",
            "Initializing tfmr.layers.0.attn.fn.fn.to_q\n",
            "Initializing tfmr.layers.0.attn.fn.fn.to_kv\n",
            "Initializing tfmr.layers.0.attn.fn.fn.to_out\n",
            "Initializing tfmr.layers.1.attn.fn.fn.to_q\n",
            "Initializing tfmr.layers.1.attn.fn.fn.to_kv\n",
            "Initializing tfmr.layers.1.attn.fn.fn.to_out\n",
            "Initializing tfmr.layers.2.attn.fn.fn.to_q\n",
            "Initializing tfmr.layers.2.attn.fn.fn.to_kv\n",
            "Initializing tfmr.layers.2.attn.fn.fn.to_out\n",
            "Initializing tfmr.layers.3.attn.fn.fn.to_q\n",
            "Initializing tfmr.layers.3.attn.fn.fn.to_kv\n",
            "Initializing tfmr.layers.3.attn.fn.fn.to_out\n",
            "Initializing tfmr.layers.4.attn.fn.fn.to_q\n",
            "Initializing tfmr.layers.4.attn.fn.fn.to_kv\n",
            "Initializing tfmr.layers.4.attn.fn.fn.to_out\n",
            "Initializing tfmr.layers.5.attn.fn.fn.to_q\n",
            "Initializing tfmr.layers.5.attn.fn.fn.to_kv\n",
            "Initializing tfmr.layers.5.attn.fn.fn.to_out\n",
            "Initializing proj\n"
          ],
          "name": "stdout"
        }
      ]
    },
    {
      "cell_type": "code",
      "metadata": {
        "colab": {
          "base_uri": "https://localhost:8080/",
          "height": 302
        },
        "id": "MIbZJVpsLb3g",
        "outputId": "e39c71b0-daf7-43dd-8d10-9d1bbc0e767e"
      },
      "source": [
        "learn.lr_find()"
      ],
      "execution_count": null,
      "outputs": [
        {
          "output_type": "display_data",
          "data": {
            "text/html": [
              ""
            ],
            "text/plain": [
              "<IPython.core.display.HTML object>"
            ]
          },
          "metadata": {
            "tags": []
          }
        },
        {
          "output_type": "execute_result",
          "data": {
            "text/plain": [
              "SuggestedLRs(lr_min=0.010000000149011612, lr_steep=0.0831763744354248)"
            ]
          },
          "metadata": {
            "tags": []
          },
          "execution_count": 37
        },
        {
          "output_type": "display_data",
          "data": {
            "image/png": "[encoded data removed]",
            "text/plain": [
              "<Figure size 432x288 with 1 Axes>"
            ]
          },
          "metadata": {
            "tags": [],
            "needs_background": "light"
          }
        }
      ]
    },
    {
      "cell_type": "code",
      "metadata": {
        "colab": {
          "base_uri": "https://localhost:8080/",
          "height": 398
        },
        "id": "cLqQZ29CLb3i",
        "outputId": "6b4114f2-52bc-4ee4-8d91-1e7e6e9d2279"
      },
      "source": [
        "learn.fit_one_cycle(10, 3e-4)"
      ],
      "execution_count": null,
      "outputs": [
        {
          "output_type": "display_data",
          "data": {
            "text/html": [
              "<table border=\"1\" class=\"dataframe\">\n",
              "  <thead>\n",
              "    <tr style=\"text-align: left;\">\n",
              "      <th>epoch</th>\n",
              "      <th>train_loss</th>\n",
              "      <th>valid_loss</th>\n",
              "      <th>accuracy</th>\n",
              "      <th>perplexity</th>\n",
              "      <th>time</th>\n",
              "    </tr>\n",
              "  </thead>\n",
              "  <tbody>\n",
              "    <tr>\n",
              "      <td>0</td>\n",
              "      <td>5.404907</td>\n",
              "      <td>2.615386</td>\n",
              "      <td>0.273311</td>\n",
              "      <td>13.672497</td>\n",
              "      <td>00:51</td>\n",
              "    </tr>\n",
              "    <tr>\n",
              "      <td>1</td>\n",
              "      <td>3.415970</td>\n",
              "      <td>2.425563</td>\n",
              "      <td>0.294748</td>\n",
              "      <td>11.308590</td>\n",
              "      <td>00:51</td>\n",
              "    </tr>\n",
              "    <tr>\n",
              "      <td>2</td>\n",
              "      <td>2.656610</td>\n",
              "      <td>2.385715</td>\n",
              "      <td>0.300739</td>\n",
              "      <td>10.866827</td>\n",
              "      <td>00:51</td>\n",
              "    </tr>\n",
              "    <tr>\n",
              "      <td>3</td>\n",
              "      <td>2.490022</td>\n",
              "      <td>2.322018</td>\n",
              "      <td>0.318148</td>\n",
              "      <td>10.196229</td>\n",
              "      <td>00:51</td>\n",
              "    </tr>\n",
              "    <tr>\n",
              "      <td>4</td>\n",
              "      <td>2.400759</td>\n",
              "      <td>2.252531</td>\n",
              "      <td>0.338253</td>\n",
              "      <td>9.511780</td>\n",
              "      <td>00:52</td>\n",
              "    </tr>\n",
              "    <tr>\n",
              "      <td>5</td>\n",
              "      <td>2.312801</td>\n",
              "      <td>2.151194</td>\n",
              "      <td>0.364019</td>\n",
              "      <td>8.595114</td>\n",
              "      <td>00:52</td>\n",
              "    </tr>\n",
              "    <tr>\n",
              "      <td>6</td>\n",
              "      <td>2.204844</td>\n",
              "      <td>2.027935</td>\n",
              "      <td>0.397380</td>\n",
              "      <td>7.598376</td>\n",
              "      <td>00:51</td>\n",
              "    </tr>\n",
              "    <tr>\n",
              "      <td>7</td>\n",
              "      <td>2.107135</td>\n",
              "      <td>1.937648</td>\n",
              "      <td>0.422732</td>\n",
              "      <td>6.942401</td>\n",
              "      <td>00:52</td>\n",
              "    </tr>\n",
              "    <tr>\n",
              "      <td>8</td>\n",
              "      <td>2.042227</td>\n",
              "      <td>1.899956</td>\n",
              "      <td>0.434424</td>\n",
              "      <td>6.685601</td>\n",
              "      <td>00:52</td>\n",
              "    </tr>\n",
              "    <tr>\n",
              "      <td>9</td>\n",
              "      <td>2.016414</td>\n",
              "      <td>1.890221</td>\n",
              "      <td>0.435807</td>\n",
              "      <td>6.620832</td>\n",
              "      <td>00:52</td>\n",
              "    </tr>\n",
              "  </tbody>\n",
              "</table>"
            ],
            "text/plain": [
              "<IPython.core.display.HTML object>"
            ]
          },
          "metadata": {
            "tags": []
          }
        }
      ]
    },
    {
      "cell_type": "code",
      "metadata": {
        "id": "pHMS2DtPNHi1"
      },
      "source": [
        ""
      ],
      "execution_count": null,
      "outputs": []
    }
  ]
}