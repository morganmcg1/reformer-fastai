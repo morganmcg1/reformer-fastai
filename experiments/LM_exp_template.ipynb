{
 "cells": [
  {
   "cell_type": "markdown",
   "metadata": {},
   "source": [
    "<a href=\"https://colab.research.google.com/github/morganmcg1/reformer-fastai/blob/main/experiments/LM_exp_template.ipynb\" target=\"_parent\"><img src=\"https://colab.research.google.com/assets/colab-badge.svg\" alt=\"Open In Colab\"/></a>"
   ]
  },
  {
   "cell_type": "code",
   "execution_count": 1,
   "metadata": {},
   "outputs": [
    {
     "name": "stdout",
     "output_type": "stream",
     "text": [
      "Collecting git+https://github.com/butchland/my_timesaver_utils/\n",
      "  Cloning https://github.com/butchland/my_timesaver_utils/ to /tmp/pip-req-build-a4e0dvcm\n",
      "Requirement already satisfied (use --upgrade to upgrade): my-timesaver-utils==0.0.2 from git+https://github.com/butchland/my_timesaver_utils/ in /home/tyoc213/miniconda3/envs/fastai/lib/python3.8/site-packages\n",
      "Building wheels for collected packages: my-timesaver-utils\n",
      "  Building wheel for my-timesaver-utils (setup.py) ... \u001b[?25ldone\n",
      "\u001b[?25h  Created wheel for my-timesaver-utils: filename=my_timesaver_utils-0.0.2-py3-none-any.whl size=21461 sha256=a985e98730b6884b4d1566996319e714a2e2589e9a01ceb99ca32806c0d6bfaa\n",
      "  Stored in directory: /tmp/pip-ephem-wheel-cache-ar43m79z/wheels/9e/67/8f/783856e273ff940f438565389bfd500a016ba8748448ab7225\n",
      "Successfully built my-timesaver-utils\n"
     ]
    }
   ],
   "source": [
    "# import sys\n",
    "# if 'google.colab' in sys.modules:\n",
    "#     !pip install -Uqq fastai einops datasets\n",
    "!pip install git+https://github.com/butchland/my_timesaver_utils/"
   ]
  },
  {
   "cell_type": "code",
   "execution_count": 2,
   "metadata": {},
   "outputs": [
    {
     "name": "stderr",
     "output_type": "stream",
     "text": [
      "/home/tyoc213/Documents/github/fastai/fastai/callback/hook.py:190: SyntaxWarning: \"is not\" with a literal. Did you mean \"!=\"?\n",
      "  if np is not '':\n"
     ]
    }
   ],
   "source": [
    "import sys\n",
    "import six\n",
    "from fastai.text.all import *"
   ]
  },
  {
   "cell_type": "code",
   "execution_count": 3,
   "metadata": {},
   "outputs": [
    {
     "name": "stdout",
     "output_type": "stream",
     "text": [
      "No module named 'axial_positional_embedding'\n"
     ]
    }
   ],
   "source": [
    "sys.path.append(\"..\")\n",
    "from basic_tokenizers import ByteTextTokenizer\n",
    "from basic_transformer import TransformerLM\n",
    "from make_dataset import read_and_prepare_data\n",
    "from my_timesaver_utils.all import MyProfileCallback"
   ]
  },
  {
   "cell_type": "markdown",
   "metadata": {},
   "source": [
    "## Experiment Tracking"
   ]
  },
  {
   "cell_type": "markdown",
   "metadata": {},
   "source": [
    "Make sure you have wandb and are logged in:"
   ]
  },
  {
   "cell_type": "code",
   "execution_count": 4,
   "metadata": {},
   "outputs": [],
   "source": [
    "# !pip install -Uqq wandb\n",
    "# !wandb login"
   ]
  },
  {
   "cell_type": "markdown",
   "metadata": {},
   "source": [
    "Load Experiment Tracking with Weights & Biases:"
   ]
  },
  {
   "cell_type": "markdown",
   "metadata": {},
   "source": [
    "## Wandb experiment logging\n",
    "Suggeted [wandb.init logging](https://docs.wandb.com/library/init) to help keep track of experiments:\n",
    "\n",
    "**WANDB_NAME**\n",
    "\n",
    "A specific name for a particular experiment, e.g. \"lsh_2_hash_enwik8\"\n",
    "\n",
    "**GROUP**\n",
    "\n",
    "Group identifiers will help organise and **group experiments together** in the wandb interface. Suggested identifier to use are:\n",
    "\n",
    "- \"TEST\" : for general testing\n",
    "- \"SHARED-QK\" : for Shared Query-Key experiments\n",
    "- \"LSH\" : LSH-related experiemnts\n",
    "- \"REVERSIBLE\" : reversible layers experiments\n",
    "- \"WMT\" : for the WMT task\n",
    "\n",
    "**NOTES**\n",
    "\n",
    "A longer description of the run, like a -m commit message in git. This helps you remember what you were doing when you ran this run.\n",
    "\n",
    "**CONFIG**\n",
    "\n",
    "A dictionary-like object for saving inputs to your job, like hyperparameters for a model or settings for a data preprocessing job. The config will show up in a table in the UI that you can use to group, filter, and sort runs. Keys should not have . in the names, and values should be under 10 MB.\n",
    "\n",
    "**TAGS**\n",
    "\n",
    "A list of strings, which will populate the list of tags on this run in the UI. Tags are useful for organizing runs together, or applying temporary labels like \"baseline\" or \"production\". It's easy to add and remove tags in the UI, or filter down to just runs with a specific tag."
   ]
  },
  {
   "cell_type": "code",
   "execution_count": 5,
   "metadata": {},
   "outputs": [],
   "source": [
    "import wandb\n",
    "from fastai.callback.wandb import *\n",
    "\n",
    "WANDB_NAME = 'enc_lm_enwik8'\n",
    "GROUP = 'TEST'     # Group to add a run to, e.g. \"LSH\" for LSH experiments, \"REVERSIBLE\" for reversible layers\n",
    "NOTES = 'Testing the encoder LM model works'\n",
    "CONFIG = {}\n",
    "TAGS =['enc_lm','test']"
   ]
  },
  {
   "cell_type": "markdown",
   "metadata": {},
   "source": [
    "Initialise wandb logging, pleaes **do not change** `project` or `entity` (that that everything gets logged to the same place)"
   ]
  },
  {
   "cell_type": "code",
   "execution_count": 6,
   "metadata": {},
   "outputs": [],
   "source": [
    "# wandb.init(reinit=True, project=\"reformer-fastai\", entity=\"fastai_community\", \n",
    "#            name=WANDB_NAME, group=GROUP, notes=NOTES,  tags=TAGS) # config=CONFIG,"
   ]
  },
  {
   "cell_type": "markdown",
   "metadata": {},
   "source": [
    "## Download and Unpack enwik8 Data\n",
    "\n",
    "Download and unzip enwik8 data"
   ]
  },
  {
   "cell_type": "code",
   "execution_count": 7,
   "metadata": {},
   "outputs": [],
   "source": [
    "#!wget -P data/ http://mattmahoney.net/dc/enwik8.zip\n",
    "#!unzip data/enwik8.zip -d data/\n",
    "#!ls data\n",
    "#!head -n 132 data/enwik8"
   ]
  },
  {
   "cell_type": "markdown",
   "metadata": {},
   "source": [
    "# Prepare Data"
   ]
  },
  {
   "cell_type": "code",
   "execution_count": 8,
   "metadata": {
    "pycharm": {
     "name": "#%%\n"
    }
   },
   "outputs": [
    {
     "name": "stdout",
     "output_type": "stream",
     "text": [
      "Reading data from path...\n",
      "Done!\n"
     ]
    }
   ],
   "source": [
    "# df has columns [text, lens, lens_cum_sum], add a numerical seq_length argument\n",
    "# to the function below if you'd like to split the data into samples with that seq length\n",
    "df = read_and_prepare_data('data/enwik8')"
   ]
  },
  {
   "cell_type": "markdown",
   "metadata": {},
   "source": [
    "Load tokenizer"
   ]
  },
  {
   "cell_type": "code",
   "execution_count": 9,
   "metadata": {},
   "outputs": [],
   "source": [
    "bte = ByteTextTokenizer(is_lm=True, add_bos=True, add_eos=True)"
   ]
  },
  {
   "cell_type": "code",
   "execution_count": 10,
   "metadata": {},
   "outputs": [],
   "source": [
    "## TINY DF FOR TESTING\n",
    "df = df.iloc[:400].copy()\n",
    "train_cutoff = int(df.lens.sum()*0.5)"
   ]
  },
  {
   "cell_type": "markdown",
   "metadata": {},
   "source": [
    "Get train cutoff, split enwik8 by character count"
   ]
  },
  {
   "cell_type": "code",
   "execution_count": 11,
   "metadata": {},
   "outputs": [],
   "source": [
    "# df['lens'] = df['text'].str.len()\n",
    "# df['lens_cum_sum'] = df.lens.cumsum()\n",
    "# train_cutoff = df.lens.sum() - 10000000  # keep all but 10M characters for val and test"
   ]
  },
  {
   "cell_type": "markdown",
   "metadata": {},
   "source": [
    "Calc splits"
   ]
  },
  {
   "cell_type": "code",
   "execution_count": 12,
   "metadata": {},
   "outputs": [],
   "source": [
    "train_idxs = df.loc[df['lens_cum_sum'] < train_cutoff].index.values\n",
    "train_idxs = list(range(0, max(train_idxs)))\n",
    "\n",
    "remaining_idxs = len(df) - max(train_idxs)\n",
    "validation_idxs = list(range(max(train_idxs), max(train_idxs) + int(remaining_idxs/2)))\n",
    "test_idxs = list(range(max(validation_idxs), len(df)))\n",
    "\n",
    "splits = [train_idxs, validation_idxs]"
   ]
  },
  {
   "cell_type": "markdown",
   "metadata": {},
   "source": [
    "Get dls"
   ]
  },
  {
   "cell_type": "code",
   "execution_count": 13,
   "metadata": {},
   "outputs": [
    {
     "data": {
      "text/html": [
       "<table border=\"1\" class=\"dataframe\">\n",
       "  <thead>\n",
       "    <tr style=\"text-align: right;\">\n",
       "      <th></th>\n",
       "      <th>text</th>\n",
       "      <th>text_</th>\n",
       "    </tr>\n",
       "  </thead>\n",
       "  <tbody>\n",
       "    <tr>\n",
       "      <th>0</th>\n",
       "      <td>&lt;bos&gt;    &lt;revision&gt;\\n&lt;eos&gt;&lt;bos&gt;    &lt;case&gt;first-letter&lt;/case&gt;\\n&lt;eos&gt;&lt;bos&gt;The word '''anarchism''' is [[etymology|derived from]] the [[Greek language|Gr</td>\n",
       "      <td>&lt;revision&gt;\\n&lt;eos&gt;&lt;bos&gt;    &lt;case&gt;first-letter&lt;/case&gt;\\n&lt;eos&gt;&lt;bos&gt;The word '''anarchism''' is [[etymology|derived from]] the [[Greek language|Gre</td>\n",
       "    </tr>\n",
       "    <tr>\n",
       "      <th>1</th>\n",
       "      <td>thoritarian]] society. In place of what are regarded as authoritarian political structures and coercive economic institutions, a</td>\n",
       "      <td>horitarian]] society. In place of what are regarded as authoritarian political structures and coercive economic institutions, an</td>\n",
       "    </tr>\n",
       "  </tbody>\n",
       "</table>"
      ],
      "text/plain": [
       "<IPython.core.display.HTML object>"
      ]
     },
     "metadata": {},
     "output_type": "display_data"
    }
   ],
   "source": [
    "# Quick naive split alternative\n",
    "# cut = int(len(df)*0.8)\n",
    "# splits = range_of(df)[:cut], range_of(df[cut:])\n",
    "\n",
    "tfms = [attrgetter(\"text\"), bte]\n",
    "dsets = Datasets(df, [tfms, tfms], splits=splits, dl_type=LMDataLoader)\n",
    "\n",
    "vocab_sz = bte.vocab_size\n",
    "bs,sl = 32,128\n",
    "pad_seq2seq = partial(pad_input, pad_idx=bte.pad_token_id, pad_fields=[0,1])\n",
    "\n",
    "dls = dsets.dataloaders(bs=bs, seq_len=sl, before_batch=pad_seq2seq)\n",
    "dls.show_batch(max_n=2)"
   ]
  },
  {
   "cell_type": "code",
   "execution_count": 14,
   "metadata": {},
   "outputs": [
    {
     "data": {
      "text/plain": [
       "((32, 128), (32, 128))"
      ]
     },
     "execution_count": 14,
     "metadata": {},
     "output_type": "execute_result"
    }
   ],
   "source": [
    "xb, yb = dls.one_batch()\n",
    "xb.shape, yb.shape"
   ]
  },
  {
   "cell_type": "code",
   "execution_count": 15,
   "metadata": {},
   "outputs": [],
   "source": [
    "vocab_sz = bte.vocab_size"
   ]
  },
  {
   "cell_type": "markdown",
   "metadata": {},
   "source": [
    "# Begin Experiment Training"
   ]
  },
  {
   "cell_type": "code",
   "execution_count": 16,
   "metadata": {},
   "outputs": [
    {
     "name": "stderr",
     "output_type": "stream",
     "text": [
      "\u001b[34m\u001b[1mwandb\u001b[0m: Currently logged in as: \u001b[33mfastai_community\u001b[0m (use `wandb login --relogin` to force relogin)\n"
     ]
    },
    {
     "data": {
      "text/html": [
       "\n",
       "                Tracking run with wandb version 0.10.12<br/>\n",
       "                Syncing run <strong style=\"color:#cdcd00\">enc_lm_enwik8</strong> to <a href=\"https://wandb.ai\" target=\"_blank\">Weights & Biases</a> <a href=\"https://docs.wandb.com/integrations/jupyter.html\" target=\"_blank\">(Documentation)</a>.<br/>\n",
       "                Project page: <a href=\"https://wandb.ai/fastai_community/reformer-fastai\" target=\"_blank\">https://wandb.ai/fastai_community/reformer-fastai</a><br/>\n",
       "                Run page: <a href=\"https://wandb.ai/fastai_community/reformer-fastai/runs/278jfi4i\" target=\"_blank\">https://wandb.ai/fastai_community/reformer-fastai/runs/278jfi4i</a><br/>\n",
       "                Run data is saved locally in <code>/home/tyoc213/Documents/github/reformer-fastai-old/experiments/wandb/run-20201212_122235-278jfi4i</code><br/><br/>\n",
       "            "
      ],
      "text/plain": [
       "<IPython.core.display.HTML object>"
      ]
     },
     "metadata": {},
     "output_type": "display_data"
    },
    {
     "data": {
      "text/html": [
       "<h1>Run(278jfi4i)</h1><p></p><iframe src=\"https://wandb.ai/fastai_community/reformer-fastai/runs/278jfi4i\" style=\"border:none;width:100%;height:400px\"></iframe>"
      ],
      "text/plain": [
       "<wandb.sdk.wandb_run.Run at 0x7f81c6711b50>"
      ]
     },
     "execution_count": 16,
     "metadata": {},
     "output_type": "execute_result"
    }
   ],
   "source": [
    "wandb.init(reinit=True, project=\"reformer-fastai\", entity=\"fastai_community\", \n",
    "           name=WANDB_NAME, group=GROUP, notes=NOTES,  tags=TAGS) # config=CONFIG,"
   ]
  },
  {
   "cell_type": "code",
   "execution_count": 17,
   "metadata": {},
   "outputs": [],
   "source": [
    "learn = Learner(dls, TransformerLM(vocab_sz, 512),\n",
    "                loss_func=CrossEntropyLossFlat(), cbs=[WandbCallback(log_model=False, log_preds=False)],\n",
    "                metrics=[accuracy, Perplexity()]).to_native_fp16()"
   ]
  },
  {
   "cell_type": "code",
   "execution_count": 18,
   "metadata": {},
   "outputs": [
    {
     "data": {
      "text/html": [],
      "text/plain": [
       "<IPython.core.display.HTML object>"
      ]
     },
     "metadata": {},
     "output_type": "display_data"
    },
    {
     "data": {
      "text/plain": [
       "SuggestedLRs(lr_min=0.03630780577659607, lr_steep=0.3019951581954956)"
      ]
     },
     "execution_count": 18,
     "metadata": {},
     "output_type": "execute_result"
    },
    {
     "data": {
      "image/png": "[encoded data removed]",
      "text/plain": [
       "<Figure size 432x288 with 1 Axes>"
      ]
     },
     "metadata": {
      "needs_background": "light"
     },
     "output_type": "display_data"
    }
   ],
   "source": [
    "learn.lr_find()"
   ]
  },
  {
   "cell_type": "code",
   "execution_count": 19,
   "metadata": {},
   "outputs": [
    {
     "data": {
      "text/html": [
       "<table border=\"1\" class=\"dataframe\">\n",
       "  <thead>\n",
       "    <tr style=\"text-align: left;\">\n",
       "      <th>epoch</th>\n",
       "      <th>train_loss</th>\n",
       "      <th>valid_loss</th>\n",
       "      <th>accuracy</th>\n",
       "      <th>perplexity</th>\n",
       "      <th>time</th>\n",
       "    </tr>\n",
       "  </thead>\n",
       "  <tbody>\n",
       "    <tr>\n",
       "      <td>0</td>\n",
       "      <td>4.498449</td>\n",
       "      <td>3.559684</td>\n",
       "      <td>0.127125</td>\n",
       "      <td>35.152088</td>\n",
       "      <td>00:01</td>\n",
       "    </tr>\n",
       "    <tr>\n",
       "      <td>1</td>\n",
       "      <td>4.030394</td>\n",
       "      <td>3.425309</td>\n",
       "      <td>0.127125</td>\n",
       "      <td>30.732138</td>\n",
       "      <td>00:01</td>\n",
       "    </tr>\n",
       "  </tbody>\n",
       "</table>"
      ],
      "text/plain": [
       "<IPython.core.display.HTML object>"
      ]
     },
     "metadata": {},
     "output_type": "display_data"
    }
   ],
   "source": [
    "learn.to_my_profile()\n",
    "learn.fit_one_cycle(2, 5e-4, wd=0.05)  # cbs=WandbCallback(log_model=False)"
   ]
  },
  {
   "cell_type": "code",
   "execution_count": 20,
   "metadata": {},
   "outputs": [
    {
     "name": "stdout",
     "output_type": "stream",
     "text": [
      "fit  called 1 times. max: 3.115 avg: 3.115\n",
      "   epoch  called 2 times. max: 1.522 avg: 1.512\n",
      "      train  called 2 times. max: 1.148 avg: 1.145\n",
      "         train_batch  called 16 times. max: 0.082 avg: 0.074\n",
      "            train_pred  called 16 times. max: 0.016 avg: 0.013\n",
      "            train_loss  called 16 times. max: 0.001 avg: 0.001\n",
      "            train_backward  called 16 times. max: 0.040 avg: 0.035\n",
      "            train_step  called 16 times. max: 0.026 avg: 0.020\n",
      "            train_zero_grad  called 16 times. max: 0.005 avg: 0.004\n",
      "      valid  called 2 times. max: 0.372 avg: 0.358\n",
      "         valid_batch  called 10 times. max: 0.024 avg: 0.019\n",
      "            valid_pred  called 10 times. max: 0.014 avg: 0.011\n",
      "            valid_loss  called 10 times. max: 0.001 avg: 0.001\n"
     ]
    }
   ],
   "source": [
    "learn.my_profile.print_stats()"
   ]
  },
  {
   "cell_type": "code",
   "execution_count": 21,
   "metadata": {},
   "outputs": [],
   "source": [
    "learn.my_profile.clear_stats()"
   ]
  }
 ],
 "metadata": {
  "kernelspec": {
   "display_name": "Python 3",
   "language": "python",
   "name": "python3"
  },
  "language_info": {
   "codemirror_mode": {
    "name": "ipython",
    "version": 3
   },
   "file_extension": ".py",
   "mimetype": "text/x-python",
   "name": "python",
   "nbconvert_exporter": "python",
   "pygments_lexer": "ipython3",
   "version": "3.8.5"
  },
  "toc": {
   "base_numbering": 1,
   "nav_menu": {},
   "number_sections": true,
   "sideBar": true,
   "skip_h1_title": false,
   "title_cell": "Table of Contents",
   "title_sidebar": "Contents",
   "toc_cell": false,
   "toc_position": {},
   "toc_section_display": true,
   "toc_window_display": false
  }
 },
 "nbformat": 4,
 "nbformat_minor": 4
}
