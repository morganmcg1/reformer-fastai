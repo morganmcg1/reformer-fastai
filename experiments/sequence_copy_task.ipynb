{
 "cells": [
  {
   "cell_type": "code",
   "execution_count": 1,
   "metadata": {
    "id": "6A3OSLlbzkeC"
   },
   "outputs": [],
   "source": [
    "from fastai.text.all import *"
   ]
  },
  {
   "cell_type": "code",
   "execution_count": 2,
   "metadata": {
    "id": "EWqWgd0ZzuMj"
   },
   "outputs": [],
   "source": [
    "from torch.utils.data import Dataset"
   ]
  },
  {
   "cell_type": "code",
   "execution_count": 3,
   "metadata": {
    "colab": {
     "background_save": true
    },
    "id": "IWpRg6MK0Bew"
   },
   "outputs": [],
   "source": [
    "class TwinSequence(Dataset):\n",
    "    def __init__(self, sl=1024, len=100):\n",
    "        assert sl%2 == 0\n",
    "        self.sl = sl\n",
    "        self.len = len\n",
    "    def __getitem__(self, idx):\n",
    "        seq = torch.randint(1,127,(self.sl//2,))\n",
    "        seq[0] = 0\n",
    "        return (torch.cat((seq,seq), -1),)\n",
    "    def __len__(self):\n",
    "        return self.len"
   ]
  },
  {
   "cell_type": "markdown",
   "metadata": {},
   "source": [
    "Training with sl = 1024 didn't work. Need to find a way to trigger \"phase transition\" (see below)\n",
    "\n",
    "Things to try:\n",
    "- Large batch size\n",
    "- Use another learning rate schedule instead of `fit_one_cycle`. Mb warmup followed with plain lr...\n",
    "\n",
    "See training on shorter sequence. It has no progress for some time and the jumps to low loss fast, but it then takes more time to reach 100% accuracy (or mb not, try increasing validation set size) and doesn't reach 0 loss."
   ]
  },
  {
   "cell_type": "code",
   "execution_count": 4,
   "metadata": {
    "colab": {
     "background_save": true
    },
    "id": "AF8UrdwS3sCW"
   },
   "outputs": [],
   "source": [
    "sl = 1024\n",
    "train_sz = 50000\n",
    "valid_sz = 1000\n",
    "dls = DataLoaders.from_dsets(TwinSequence(sl, train_sz), TwinSequence(sl, valid_sz), bs=16, shuffle=False, device='cuda')"
   ]
  },
  {
   "cell_type": "code",
   "execution_count": 5,
   "metadata": {
    "id": "kKgtC7Cs8jWA"
   },
   "outputs": [],
   "source": [
    "from basic_transformer import TransformerLM"
   ]
  },
  {
   "cell_type": "code",
   "execution_count": 6,
   "metadata": {
    "id": "W2cAZrC4AL4B"
   },
   "outputs": [],
   "source": [
    "class MakeTargCallback(Callback):\n",
    "    def before_batch(self):\n",
    "        y = self.x.clone()\n",
    "        y[:, :self.dls.train_ds.sl//2 + 1] = -100\n",
    "        self.learn.xb = (self.x[:, :-1], )\n",
    "        self.learn.yb = (y[:, 1:],)"
   ]
  },
  {
   "cell_type": "code",
   "execution_count": 7,
   "metadata": {
    "id": "Z8pHJqEnBDMA"
   },
   "outputs": [],
   "source": [
    "def masked_accuracy(inp, targ, ignore=-100):\n",
    "    pred = inp.argmax(dim=-1)\n",
    "    mask = targ[0] != ignore\n",
    "    return (pred[:,mask] == targ[:,mask]).float().mean()"
   ]
  },
  {
   "cell_type": "code",
   "execution_count": 8,
   "metadata": {
    "id": "NrSxeupM_PIg"
   },
   "outputs": [],
   "source": [
    "model = TransformerLM(128, 256, d_ff=256, depth=1, heads=4, max_seq_len=sl, pos_enc='fixed',\n",
    "                      attn_dropout=0, ff_dropout=0, emb_dropout=0)"
   ]
  },
  {
   "cell_type": "code",
   "execution_count": 9,
   "metadata": {
    "id": "XsPPgsE7ABFM"
   },
   "outputs": [],
   "source": [
    "learn = Learner(dls, model, loss_func=CrossEntropyLossFlat(), metrics=masked_accuracy, cbs=[MakeTargCallback()])"
   ]
  },
  {
   "cell_type": "code",
   "execution_count": 10,
   "metadata": {
    "colab": {
     "base_uri": "https://localhost:8080/",
     "height": 302
    },
    "id": "Z7cz0cgNE_Yx",
    "outputId": "6a301b93-834b-49da-ee42-a3da910626bf"
   },
   "outputs": [
    {
     "data": {
      "text/html": [],
      "text/plain": [
       "<IPython.core.display.HTML object>"
      ]
     },
     "metadata": {},
     "output_type": "display_data"
    },
    {
     "data": {
      "text/plain": [
       "SuggestedLRs(lr_min=0.02089296132326126, lr_steep=0.0008317637839354575)"
      ]
     },
     "execution_count": 10,
     "metadata": {},
     "output_type": "execute_result"
    },
    {
     "data": {
      "image/png": "[encoded data removed]",
      "text/plain": [
       "<Figure size 432x288 with 1 Axes>"
      ]
     },
     "metadata": {
      "needs_background": "light"
     },
     "output_type": "display_data"
    }
   ],
   "source": [
    "learn.lr_find()"
   ]
  },
  {
   "cell_type": "code",
   "execution_count": 11,
   "metadata": {
    "colab": {
     "background_save": true,
     "base_uri": "https://localhost:8080/",
     "height": 225
    },
    "id": "XC3RCnPgFN-9",
    "outputId": "ff3fba9b-25a2-4087-ba08-e8070ea33570"
   },
   "outputs": [
    {
     "data": {
      "text/html": [
       "<table border=\"1\" class=\"dataframe\">\n",
       "  <thead>\n",
       "    <tr style=\"text-align: left;\">\n",
       "      <th>epoch</th>\n",
       "      <th>train_loss</th>\n",
       "      <th>valid_loss</th>\n",
       "      <th>masked_accuracy</th>\n",
       "      <th>time</th>\n",
       "    </tr>\n",
       "  </thead>\n",
       "  <tbody>\n",
       "    <tr>\n",
       "      <td>0</td>\n",
       "      <td>4.836637</td>\n",
       "      <td>4.836576</td>\n",
       "      <td>0.008139</td>\n",
       "      <td>03:22</td>\n",
       "    </tr>\n",
       "    <tr>\n",
       "      <td>1</td>\n",
       "      <td>4.836359</td>\n",
       "      <td>4.836336</td>\n",
       "      <td>0.007986</td>\n",
       "      <td>03:22</td>\n",
       "    </tr>\n",
       "    <tr>\n",
       "      <td>2</td>\n",
       "      <td>4.836286</td>\n",
       "      <td>4.836298</td>\n",
       "      <td>0.007824</td>\n",
       "      <td>03:23</td>\n",
       "    </tr>\n",
       "  </tbody>\n",
       "</table>"
      ],
      "text/plain": [
       "<IPython.core.display.HTML object>"
      ]
     },
     "metadata": {},
     "output_type": "display_data"
    }
   ],
   "source": [
    "learn.fit_one_cycle(3, 1e-3)"
   ]
  },
  {
   "cell_type": "code",
   "execution_count": 12,
   "metadata": {
    "colab": {
     "base_uri": "https://localhost:8080/",
     "height": 265
    },
    "id": "dNTiaF7TItRE",
    "outputId": "90808612-ecd9-410c-b971-5bf1e6c93b9c"
   },
   "outputs": [
    {
     "data": {
      "image/png": "[encoded data removed]",
      "text/plain": [
       "<Figure size 432x288 with 1 Axes>"
      ]
     },
     "metadata": {
      "needs_background": "light"
     },
     "output_type": "display_data"
    }
   ],
   "source": [
    "learn.recorder.plot_loss()"
   ]
  },
  {
   "cell_type": "markdown",
   "metadata": {
    "id": "LiEC-BSGgPxy"
   },
   "source": [
    "## Shorter sequence + Attention visualization"
   ]
  },
  {
   "cell_type": "code",
   "execution_count": 33,
   "metadata": {
    "id": "x67sPp9dgdaC"
   },
   "outputs": [],
   "source": [
    "sl = 64#1024\n",
    "train_sz = 50000\n",
    "valid_sz = 1000\n",
    "dls = DataLoaders.from_dsets(TwinSequence(sl, train_sz), TwinSequence(sl, valid_sz), bs=100, shuffle=False, device='cuda')"
   ]
  },
  {
   "cell_type": "code",
   "execution_count": 34,
   "metadata": {
    "id": "0QwumsNigVH9"
   },
   "outputs": [],
   "source": [
    "learn = Learner(dls, TransformerLM(128, 256, d_ff=256, depth=1, heads=4, max_seq_len=sl, pos_enc='fixed',\n",
    "                                   attn_dropout=0, ff_dropout=0, emb_dropout=0), \n",
    "                loss_func=CrossEntropyLossFlat(), metrics=masked_accuracy, cbs=[MakeTargCallback()])"
   ]
  },
  {
   "cell_type": "code",
   "execution_count": 35,
   "metadata": {
    "colab": {
     "base_uri": "https://localhost:8080/",
     "height": 225
    },
    "id": "GxnjyWEYhHO3",
    "outputId": "2fc3926b-0a2f-4a6c-b595-6e2613c2a93e"
   },
   "outputs": [
    {
     "data": {
      "text/html": [
       "<table border=\"1\" class=\"dataframe\">\n",
       "  <thead>\n",
       "    <tr style=\"text-align: left;\">\n",
       "      <th>epoch</th>\n",
       "      <th>train_loss</th>\n",
       "      <th>valid_loss</th>\n",
       "      <th>masked_accuracy</th>\n",
       "      <th>time</th>\n",
       "    </tr>\n",
       "  </thead>\n",
       "  <tbody>\n",
       "    <tr>\n",
       "      <td>0</td>\n",
       "      <td>0.026967</td>\n",
       "      <td>0.008249</td>\n",
       "      <td>0.998807</td>\n",
       "      <td>00:10</td>\n",
       "    </tr>\n",
       "    <tr>\n",
       "      <td>1</td>\n",
       "      <td>0.001406</td>\n",
       "      <td>0.001276</td>\n",
       "      <td>0.999774</td>\n",
       "      <td>00:10</td>\n",
       "    </tr>\n",
       "    <tr>\n",
       "      <td>2</td>\n",
       "      <td>0.000265</td>\n",
       "      <td>0.000239</td>\n",
       "      <td>1.000000</td>\n",
       "      <td>00:10</td>\n",
       "    </tr>\n",
       "  </tbody>\n",
       "</table>"
      ],
      "text/plain": [
       "<IPython.core.display.HTML object>"
      ]
     },
     "metadata": {},
     "output_type": "display_data"
    }
   ],
   "source": [
    "learn.fit_one_cycle(3, 1e-3)"
   ]
  },
  {
   "cell_type": "code",
   "execution_count": 36,
   "metadata": {},
   "outputs": [
    {
     "data": {
      "image/png": "[encoded data removed]",
      "text/plain": [
       "<Figure size 432x288 with 1 Axes>"
      ]
     },
     "metadata": {
      "needs_background": "light"
     },
     "output_type": "display_data"
    }
   ],
   "source": [
    "learn.recorder.plot_loss()"
   ]
  },
  {
   "cell_type": "code",
   "execution_count": 43,
   "metadata": {
    "colab": {
     "base_uri": "https://localhost:8080/"
    },
    "id": "N3ZfeHwJK6PQ",
    "outputId": "5705cf3b-a447-4f79-af93-5cb398c31f61"
   },
   "outputs": [
    {
     "data": {
      "text/plain": [
       "tensor([[  8,  93,  29,   7,  37,  39,  21,  83,  94,  34, 119, 118,  77,  51,\n",
       "         122,  96,  75,  55,  69,  13,   6, 123,  16,  11,  18,  80,  25,  14,\n",
       "         123,   1,  27]], device='cuda:0')"
      ]
     },
     "execution_count": 43,
     "metadata": {},
     "output_type": "execute_result"
    }
   ],
   "source": [
    "x = dls.train_ds[0][0].cuda()\n",
    "x = x[None]\n",
    "x[:,x.size(1)//2+1:]"
   ]
  },
  {
   "cell_type": "code",
   "execution_count": 44,
   "metadata": {
    "id": "hHDWVZOQexbw"
   },
   "outputs": [],
   "source": [
    "learn.model.store_attention()"
   ]
  },
  {
   "cell_type": "code",
   "execution_count": 45,
   "metadata": {
    "id": "FqUYDWCSQ5fk"
   },
   "outputs": [],
   "source": [
    "with torch.no_grad():\n",
    "    out = learn.model(x[:,:-1])"
   ]
  },
  {
   "cell_type": "code",
   "execution_count": 46,
   "metadata": {
    "colab": {
     "base_uri": "https://localhost:8080/"
    },
    "id": "n4kXlPklUPRc",
    "outputId": "b54ab98d-43f7-4c18-9043-46836e3624c6"
   },
   "outputs": [
    {
     "data": {
      "text/plain": [
       "tensor([[  8,  93,  29,   7,  37,  39,  21,  83,  94,  34, 119, 118,  77,  51,\n",
       "         122,  96,  75,  55,  69,  13,   6, 123,  16,  11,  18,  80,  25,  14,\n",
       "         123,   1,  27]], device='cuda:0')"
      ]
     },
     "execution_count": 46,
     "metadata": {},
     "output_type": "execute_result"
    }
   ],
   "source": [
    "out.argmax(-1)[:,x.size(1)//2:]"
   ]
  },
  {
   "cell_type": "code",
   "execution_count": 47,
   "metadata": {
    "colab": {
     "base_uri": "https://localhost:8080/"
    },
    "id": "OUFhdtVYUTrt",
    "outputId": "28399082-c300-481b-d7de-e372fc112361"
   },
   "outputs": [],
   "source": [
    "attn = learn.model.get_attention_matrix()"
   ]
  },
  {
   "cell_type": "code",
   "execution_count": 48,
   "metadata": {
    "colab": {
     "base_uri": "https://localhost:8080/"
    },
    "id": "wzkGLfHkfzcS",
    "outputId": "48779edb-43c7-4201-8511-7a577e50c91b"
   },
   "outputs": [
    {
     "data": {
      "text/plain": [
       "torch.Size([1, 4, 63, 63])"
      ]
     },
     "execution_count": 48,
     "metadata": {},
     "output_type": "execute_result"
    }
   ],
   "source": [
    "attn[0].shape"
   ]
  },
  {
   "cell_type": "markdown",
   "metadata": {},
   "source": [
    "Q: Why is attention in the first part grouped towards the begining but not distributed evenly?"
   ]
  },
  {
   "cell_type": "code",
   "execution_count": 49,
   "metadata": {
    "colab": {
     "base_uri": "https://localhost:8080/",
     "height": 245
    },
    "id": "uN_Qvns4h0mU",
    "outputId": "6c8b6e60-ef7b-4e74-97e2-151c389ad6f3"
   },
   "outputs": [
    {
     "data": {
      "image/png": "[encoded data removed]",
      "text/plain": [
       "<Figure size 1152x1152 with 4 Axes>"
      ]
     },
     "metadata": {
      "needs_background": "light"
     },
     "output_type": "display_data"
    }
   ],
   "source": [
    "fig, axs = plt.subplots(1, 4, sharey=True, figsize=(16, 16))\n",
    "for ax, mat in zip(axs, attn[0][0]):\n",
    "    ax.matshow(mat)"
   ]
  },
  {
   "cell_type": "markdown",
   "metadata": {
    "id": "F_Bf77HcmxtE"
   },
   "source": [
    "### Single head"
   ]
  },
  {
   "cell_type": "code",
   "execution_count": 50,
   "metadata": {
    "colab": {
     "background_save": true
    },
    "id": "ma9F49pEW85j"
   },
   "outputs": [],
   "source": [
    "model = TransformerLM(128, 256, d_ff=256, depth=1, heads=1, max_seq_len=1024, pos_enc='fixed',\n",
    "                      attn_dropout=0, ff_dropout=0, emb_dropout=0)\n",
    "learn = Learner(dls, model, loss_func=CrossEntropyLossFlat(), metrics=masked_accuracy, cbs=[MakeTargCallback()])"
   ]
  },
  {
   "cell_type": "code",
   "execution_count": 51,
   "metadata": {
    "colab": {
     "background_save": true
    },
    "id": "93u2N2J9m3yU",
    "outputId": "828fd568-5a6f-47c0-a6a5-8774c296e530"
   },
   "outputs": [
    {
     "data": {
      "text/html": [
       "<table border=\"1\" class=\"dataframe\">\n",
       "  <thead>\n",
       "    <tr style=\"text-align: left;\">\n",
       "      <th>epoch</th>\n",
       "      <th>train_loss</th>\n",
       "      <th>valid_loss</th>\n",
       "      <th>masked_accuracy</th>\n",
       "      <th>time</th>\n",
       "    </tr>\n",
       "  </thead>\n",
       "  <tbody>\n",
       "    <tr>\n",
       "      <td>0</td>\n",
       "      <td>0.024288</td>\n",
       "      <td>0.010525</td>\n",
       "      <td>0.998129</td>\n",
       "      <td>00:10</td>\n",
       "    </tr>\n",
       "    <tr>\n",
       "      <td>1</td>\n",
       "      <td>0.001803</td>\n",
       "      <td>0.000899</td>\n",
       "      <td>0.999903</td>\n",
       "      <td>00:09</td>\n",
       "    </tr>\n",
       "    <tr>\n",
       "      <td>2</td>\n",
       "      <td>0.000365</td>\n",
       "      <td>0.000337</td>\n",
       "      <td>1.000000</td>\n",
       "      <td>00:09</td>\n",
       "    </tr>\n",
       "  </tbody>\n",
       "</table>"
      ],
      "text/plain": [
       "<IPython.core.display.HTML object>"
      ]
     },
     "metadata": {},
     "output_type": "display_data"
    }
   ],
   "source": [
    "learn.fit_one_cycle(3, 1e-3)"
   ]
  },
  {
   "cell_type": "code",
   "execution_count": 52,
   "metadata": {},
   "outputs": [
    {
     "data": {
      "image/png": "[encoded data removed]",
      "text/plain": [
       "<Figure size 432x288 with 1 Axes>"
      ]
     },
     "metadata": {
      "needs_background": "light"
     },
     "output_type": "display_data"
    }
   ],
   "source": [
    "learn.recorder.plot_loss()"
   ]
  },
  {
   "cell_type": "code",
   "execution_count": 53,
   "metadata": {},
   "outputs": [],
   "source": [
    "learn.model.store_attention()"
   ]
  },
  {
   "cell_type": "code",
   "execution_count": 54,
   "metadata": {},
   "outputs": [],
   "source": [
    "x = dls.train_ds[0][0].cuda()\n",
    "x = x[None]\n",
    "with torch.no_grad():\n",
    "    out = learn.model(x)"
   ]
  },
  {
   "cell_type": "code",
   "execution_count": 55,
   "metadata": {
    "colab": {
     "base_uri": "https://localhost:8080/"
    },
    "id": "OUFhdtVYUTrt",
    "outputId": "28399082-c300-481b-d7de-e372fc112361"
   },
   "outputs": [],
   "source": [
    "attn = learn.model.get_attention_matrix()"
   ]
  },
  {
   "cell_type": "code",
   "execution_count": 56,
   "metadata": {
    "colab": {
     "base_uri": "https://localhost:8080/"
    },
    "id": "wzkGLfHkfzcS",
    "outputId": "48779edb-43c7-4201-8511-7a577e50c91b"
   },
   "outputs": [
    {
     "data": {
      "text/plain": [
       "torch.Size([1, 1, 64, 64])"
      ]
     },
     "execution_count": 56,
     "metadata": {},
     "output_type": "execute_result"
    }
   ],
   "source": [
    "attn[0].shape"
   ]
  },
  {
   "cell_type": "code",
   "execution_count": 57,
   "metadata": {},
   "outputs": [
    {
     "data": {
      "text/plain": [
       "torch.Size([64, 64])"
      ]
     },
     "execution_count": 57,
     "metadata": {},
     "output_type": "execute_result"
    }
   ],
   "source": [
    "attn[0][0,0].shape"
   ]
  },
  {
   "cell_type": "code",
   "execution_count": 58,
   "metadata": {
    "colab": {
     "base_uri": "https://localhost:8080/",
     "height": 245
    },
    "id": "uN_Qvns4h0mU",
    "outputId": "6c8b6e60-ef7b-4e74-97e2-151c389ad6f3"
   },
   "outputs": [
    {
     "data": {
      "text/plain": [
       "<matplotlib.image.AxesImage at 0x7f9db12b6e10>"
      ]
     },
     "execution_count": 58,
     "metadata": {},
     "output_type": "execute_result"
    },
    {
     "data": {
      "image/png": "[encoded data removed]",
      "text/plain": [
       "<Figure size 288x288 with 1 Axes>"
      ]
     },
     "metadata": {
      "needs_background": "light"
     },
     "output_type": "display_data"
    }
   ],
   "source": [
    "plt.matshow(attn[0][0,0])"
   ]
  },
  {
   "cell_type": "code",
   "execution_count": null,
   "metadata": {},
   "outputs": [],
   "source": []
  }
 ],
 "metadata": {
  "accelerator": "GPU",
  "colab": {
   "collapsed_sections": [],
   "name": "sequence_copy_task.ipynb",
   "provenance": [],
   "toc_visible": true
  },
  "kernelspec": {
   "display_name": "Python 3",
   "language": "python",
   "name": "python3"
  },
  "language_info": {
   "codemirror_mode": {
    "name": "ipython",
    "version": 3
   },
   "file_extension": ".py",
   "mimetype": "text/x-python",
   "name": "python",
   "nbconvert_exporter": "python",
   "pygments_lexer": "ipython3",
   "version": "3.8.5"
  },
  "toc": {
   "base_numbering": 1,
   "nav_menu": {},
   "number_sections": true,
   "sideBar": true,
   "skip_h1_title": false,
   "title_cell": "Table of Contents",
   "title_sidebar": "Contents",
   "toc_cell": false,
   "toc_position": {},
   "toc_section_display": true,
   "toc_window_display": false
  }
 },
 "nbformat": 4,
 "nbformat_minor": 4
}
