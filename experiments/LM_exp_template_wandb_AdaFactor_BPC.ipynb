{
 "nbformat": 4,
 "nbformat_minor": 0,
 "metadata": {
  "kernelspec": {
   "display_name": "Python 3",
   "language": "python",
   "name": "python3"
  },
  "language_info": {
   "codemirror_mode": {
    "name": "ipython",
    "version": 3
   },
   "file_extension": ".py",
   "mimetype": "text/x-python",
   "name": "python",
   "nbconvert_exporter": "python",
   "pygments_lexer": "ipython3",
   "version": "3.7.8"
  },
  "colab": {
   "name": "Copy of LM_exp_template.ipynb",
   "provenance": [],
   "include_colab_link": true
  },
  "accelerator": "GPU"
 },
 "cells": [
  {
   "cell_type": "markdown",
   "metadata": {
    "id": "view-in-github",
    "colab_type": "text"
   },
   "source": [
    "<a href=\"https://colab.research.google.com/github/morganmcg1/reformer-fastai/blob/main/experiments/LM_exp_template_wandb_AdaFactor_BPC.ipynb\" target=\"_parent\"><img src=\"https://colab.research.google.com/assets/colab-badge.svg\" alt=\"Open In Colab\"/></a>"
   ]
  },
  {
   "cell_type": "code",
   "metadata": {
    "id": "kCQkEFpsrHkX",
    "colab": {
     "base_uri": "https://localhost:8080/"
    },
    "outputId": "6c7b6396-b5e4-4181-d2d0-917fa812a30e"
   },
   "source": [
    "import sys\n",
    "if 'google.colab' in sys.modules:\n",
    "  !pip install -Uqq fastai einops datasets wandb yappi gprof2dot pyinstrument"
   ],
   "execution_count": 1,
   "outputs": [
    {
     "output_type": "stream",
     "text": [
      "\u001B[K     |████████████████████████████████| 194kB 13.8MB/s \n",
      "\u001B[K     |████████████████████████████████| 163kB 26.2MB/s \n",
      "\u001B[K     |████████████████████████████████| 1.8MB 27.8MB/s \n",
      "\u001B[K     |████████████████████████████████| 61kB 9.5MB/s \n",
      "\u001B[K     |████████████████████████████████| 92kB 11.0MB/s \n",
      "\u001B[K     |████████████████████████████████| 61kB 9.1MB/s \n",
      "\u001B[K     |████████████████████████████████| 17.7MB 268kB/s \n",
      "\u001B[K     |████████████████████████████████| 245kB 50.8MB/s \n",
      "\u001B[K     |████████████████████████████████| 163kB 51.2MB/s \n",
      "\u001B[K     |████████████████████████████████| 133kB 58.7MB/s \n",
      "\u001B[K     |████████████████████████████████| 102kB 12.8MB/s \n",
      "\u001B[K     |████████████████████████████████| 102kB 12.6MB/s \n",
      "\u001B[K     |████████████████████████████████| 71kB 10.4MB/s \n",
      "\u001B[?25h  Building wheel for yappi (setup.py) ... \u001B[?25l\u001B[?25hdone\n",
      "  Building wheel for gprof2dot (setup.py) ... \u001B[?25l\u001B[?25hdone\n",
      "  Building wheel for subprocess32 (setup.py) ... \u001B[?25l\u001B[?25hdone\n",
      "  Building wheel for watchdog (setup.py) ... \u001B[?25l\u001B[?25hdone\n",
      "  Building wheel for pathtools (setup.py) ... \u001B[?25l\u001B[?25hdone\n"
     ],
     "name": "stdout"
    }
   ]
  },
  {
   "cell_type": "markdown",
   "metadata": {
    "id": "-nZDOaDK8_m3"
   },
   "source": [
    "Note: Restart the runtime after installing fastai"
   ]
  },
  {
   "cell_type": "markdown",
   "metadata": {
    "id": "09ylWnbN8zlN"
   },
   "source": [
    "## Download the tranformer and tokenizer code"
   ]
  },
  {
   "cell_type": "code",
   "metadata": {
    "id": "9Gy8rSRxvYg4"
   },
   "source": [
    "!git clone https://github.com/morganmcg1/reformer-fastai.git\n",
    "%cd reformer-fastai"
   ],
   "execution_count": 1,
   "outputs": []
  },
  {
   "cell_type": "markdown",
   "metadata": {
    "id": "5Wpug9knrHkY"
   },
   "source": [
    "## Download and Unpack enwik8 Data\n",
    "\n",
    "Download and unzip enwik8 data\n"
   ]
  },
  {
   "cell_type": "code",
   "metadata": {
    "id": "JePpPJyMrHkY",
    "colab": {
     "base_uri": "https://localhost:8080/"
    },
    "outputId": "02c77b7a-0b20-440c-9dfe-34c114809109"
   },
   "source": [
    "!wget -P data/ http://mattmahoney.net/dc/enwik8.zip\n",
    "!unzip data/enwik8.zip -d data/\n",
    "!ls data\n",
    "!head -n 132 data/enwik8"
   ],
   "execution_count": 2,
   "outputs": [
    {
     "output_type": "stream",
     "text": [
      "--2020-12-04 18:42:10--  http://mattmahoney.net/dc/enwik8.zip\n",
      "Resolving mattmahoney.net (mattmahoney.net)... 67.195.197.24\n",
      "Connecting to mattmahoney.net (mattmahoney.net)|67.195.197.24|:80... connected.\n",
      "HTTP request sent, awaiting response... 200 OK\n",
      "Length: 36445475 (35M) [application/zip]\n",
      "Saving to: ‘data/enwik8.zip’\n",
      "\n",
      "enwik8.zip          100%[===================>]  34.76M   721KB/s    in 51s     \n",
      "\n",
      "2020-12-04 18:43:01 (705 KB/s) - ‘data/enwik8.zip’ saved [36445475/36445475]\n",
      "\n",
      "Archive:  data/enwik8.zip\n",
      "  inflating: data/enwik8             \n",
      "enwik8\tenwik8.zip\n",
      "<mediawiki xmlns=\"http://www.mediawiki.org/xml/export-0.3/\" xmlns:xsi=\"http://www.w3.org/2001/XMLSchema-instance\" xsi:schemaLocation=\"http://www.mediawiki.org/xml/export-0.3/ http://www.mediawiki.org/xml/export-0.3.xsd\" version=\"0.3\" xml:lang=\"en\">\n",
      "  <siteinfo>\n",
      "    <sitename>Wikipedia</sitename>\n",
      "    <base>http://en.wikipedia.org/wiki/Main_Page</base>\n",
      "    <generator>MediaWiki 1.6alpha</generator>\n",
      "    <case>first-letter</case>\n",
      "      <namespaces>\n",
      "      <namespace key=\"-2\">Media</namespace>\n",
      "      <namespace key=\"-1\">Special</namespace>\n",
      "      <namespace key=\"0\" />\n",
      "      <namespace key=\"1\">Talk</namespace>\n",
      "      <namespace key=\"2\">User</namespace>\n",
      "      <namespace key=\"3\">User talk</namespace>\n",
      "      <namespace key=\"4\">Wikipedia</namespace>\n",
      "      <namespace key=\"5\">Wikipedia talk</namespace>\n",
      "      <namespace key=\"6\">Image</namespace>\n",
      "      <namespace key=\"7\">Image talk</namespace>\n",
      "      <namespace key=\"8\">MediaWiki</namespace>\n",
      "      <namespace key=\"9\">MediaWiki talk</namespace>\n",
      "      <namespace key=\"10\">Template</namespace>\n",
      "      <namespace key=\"11\">Template talk</namespace>\n",
      "      <namespace key=\"12\">Help</namespace>\n",
      "      <namespace key=\"13\">Help talk</namespace>\n",
      "      <namespace key=\"14\">Category</namespace>\n",
      "      <namespace key=\"15\">Category talk</namespace>\n",
      "      <namespace key=\"100\">Portal</namespace>\n",
      "      <namespace key=\"101\">Portal talk</namespace>\n",
      "    </namespaces>\n",
      "  </siteinfo>\n",
      "  <page>\n",
      "    <title>AaA</title>\n",
      "    <id>1</id>\n",
      "    <revision>\n",
      "      <id>32899315</id>\n",
      "      <timestamp>2005-12-27T18:46:47Z</timestamp>\n",
      "      <contributor>\n",
      "        <username>Jsmethers</username>\n",
      "        <id>614213</id>\n",
      "      </contributor>\n",
      "      <text xml:space=\"preserve\">#REDIRECT [[AAA]]</text>\n",
      "    </revision>\n",
      "  </page>\n",
      "  <page>\n",
      "    <title>AlgeriA</title>\n",
      "    <id>5</id>\n",
      "    <revision>\n",
      "      <id>18063769</id>\n",
      "      <timestamp>2005-07-03T11:13:13Z</timestamp>\n",
      "      <contributor>\n",
      "        <username>Docu</username>\n",
      "        <id>8029</id>\n",
      "      </contributor>\n",
      "      <minor />\n",
      "      <comment>adding cur_id=5: {{R from CamelCase}}</comment>\n",
      "      <text xml:space=\"preserve\">#REDIRECT [[Algeria]]{{R from CamelCase}}</text>\n",
      "    </revision>\n",
      "  </page>\n",
      "  <page>\n",
      "    <title>AmericanSamoa</title>\n",
      "    <id>6</id>\n",
      "    <revision>\n",
      "      <id>18063795</id>\n",
      "      <timestamp>2005-07-03T11:14:17Z</timestamp>\n",
      "      <contributor>\n",
      "        <username>Docu</username>\n",
      "        <id>8029</id>\n",
      "      </contributor>\n",
      "      <minor />\n",
      "      <comment>adding to cur_id=6  {{R from CamelCase}}</comment>\n",
      "      <text xml:space=\"preserve\">#REDIRECT [[American Samoa]]{{R from CamelCase}}</text>\n",
      "    </revision>\n",
      "  </page>\n",
      "  <page>\n",
      "    <title>AppliedEthics</title>\n",
      "    <id>8</id>\n",
      "    <revision>\n",
      "      <id>15898943</id>\n",
      "      <timestamp>2002-02-25T15:43:11Z</timestamp>\n",
      "      <contributor>\n",
      "        <ip>Conversion script</ip>\n",
      "      </contributor>\n",
      "      <minor />\n",
      "      <comment>Automated conversion</comment>\n",
      "      <text xml:space=\"preserve\">#REDIRECT [[Applied ethics]]\n",
      "</text>\n",
      "    </revision>\n",
      "  </page>\n",
      "  <page>\n",
      "    <title>AccessibleComputing</title>\n",
      "    <id>10</id>\n",
      "    <revision>\n",
      "      <id>15898945</id>\n",
      "      <timestamp>2003-04-25T22:18:38Z</timestamp>\n",
      "      <contributor>\n",
      "        <username>Ams80</username>\n",
      "        <id>7543</id>\n",
      "      </contributor>\n",
      "      <minor />\n",
      "      <comment>Fixing redirect</comment>\n",
      "      <text xml:space=\"preserve\">#REDIRECT [[Accessible_computing]]</text>\n",
      "    </revision>\n",
      "  </page>\n",
      "  <page>\n",
      "    <title>AdA</title>\n",
      "    <id>11</id>\n",
      "    <revision>\n",
      "      <id>15898946</id>\n",
      "      <timestamp>2002-09-22T16:02:58Z</timestamp>\n",
      "      <contributor>\n",
      "        <username>Andre Engels</username>\n",
      "        <id>300</id>\n",
      "      </contributor>\n",
      "      <minor />\n",
      "      <text xml:space=\"preserve\">#REDIRECT [[Ada programming language]]</text>\n",
      "    </revision>\n",
      "  </page>\n",
      "  <page>\n",
      "    <title>Anarchism</title>\n",
      "    <id>12</id>\n",
      "    <revision>\n",
      "      <id>42136831</id>\n",
      "      <timestamp>2006-03-04T01:41:25Z</timestamp>\n",
      "      <contributor>\n",
      "        <username>CJames745</username>\n",
      "        <id>832382</id>\n",
      "      </contributor>\n",
      "      <minor />\n",
      "      <comment>/* Anarchist Communism */  too many brackets</comment>\n",
      "      <text xml:space=\"preserve\">{{Anarchism}}\n",
      "'''Anarchism''' originated as a term of abuse first used against early [[working class]] [[radical]]s including the [[Diggers]] of the [[English Revolution]] and the [[sans-culotte|''sans-culottes'']] of the [[French Revolution]].[http://uk.encarta.msn.com/encyclopedia_761568770/Anarchism.html] Whilst the term is still used in a pejorative way to describe ''&quot;any act that used violent means to destroy the organization of society&quot;''&lt;ref&gt;[http://www.cas.sc.edu/socy/faculty/deflem/zhistorintpolency.html History of International Police Cooperation], from the final protocols of the &quot;International Conference of Rome for the Social Defense Against Anarchists&quot;, 1898&lt;/ref&gt;, it has also been taken up as a positive label by self-defined anarchists.\n",
      "\n",
      "The word '''anarchism''' is [[etymology|derived from]] the [[Greek language|Greek]] ''[[Wiktionary:&amp;#945;&amp;#957;&amp;#945;&amp;#961;&amp;#967;&amp;#943;&amp;#945;|&amp;#945;&amp;#957;&amp;#945;&amp;#961;&amp;#967;&amp;#943;&amp;#945;]]'' (&quot;without [[archon]]s (ruler, chief, king)&quot;). Anarchism as a [[political philosophy]], is the belief that ''rulers'' are unnecessary and should be abolished, although there are differing interpretations of what this means. Anarchism also refers to related [[social movement]]s) that advocate the elimination of authoritarian institutions, particularly the [[state]].&lt;ref&gt;[http://en.wikiquote.org/wiki/Definitions_of_anarchism Definitions of anarchism] on Wikiquote, accessed 2006&lt;/ref&gt; The word &quot;[[anarchy]],&quot; as most anarchists use it, does not imply [[chaos]], [[nihilism]], or [[anomie]], but rather a harmonious [[anti-authoritarian]] society. In place of what are regarded as authoritarian political structures and coercive economic institutions, anarchists advocate social relations based upon [[voluntary association]] of autonomous individuals, [[mutual aid]], and [[self-governance]]. \n"
     ],
     "name": "stdout"
    }
   ]
  },
  {
   "cell_type": "markdown",
   "metadata": {
    "id": "r8sEJ06U85Gv"
   },
   "source": [
    "## Actual start of the experiment"
   ]
  },
  {
   "cell_type": "code",
   "metadata": {
    "id": "wmc4iYY0rHkX"
   },
   "source": [
    "import sys\n",
    "import six\n",
    "from fastai.text.all import *"
   ],
   "execution_count": 3,
   "outputs": []
  },
  {
   "cell_type": "code",
   "metadata": {
    "id": "RCTZR7olrHkX",
    "colab": {
     "base_uri": "https://localhost:8080/"
    },
    "outputId": "1c844f41-da41-4f1f-9d28-9d1fd8e4a698"
   },
   "source": [
    "from basic_tokenizers import ByteTextTokenizer\n",
    "from basic_transformer import TransformerLM\n",
    "from make_dataset import read_and_prepare_data"
   ],
   "execution_count": 4,
   "outputs": [
    {
     "output_type": "stream",
     "text": [
      "No module named 'axial_positional_embedding'\n"
     ],
     "name": "stdout"
    }
   ]
  },
  {
   "cell_type": "markdown",
   "metadata": {
    "id": "k3mbmHvErHkX"
   },
   "source": [
    "## Experiment Tracking"
   ]
  },
  {
   "cell_type": "markdown",
   "metadata": {
    "id": "dExn4xYHrHkX"
   },
   "source": [
    "Make sure you have wandb and are logged in:"
   ]
  },
  {
   "cell_type": "code",
   "metadata": {
    "id": "o_dhEnW8xE33",
    "colab": {
     "base_uri": "https://localhost:8080/"
    },
    "outputId": "37c3efbc-1a15-4890-e813-1f4ac15cbb44"
   },
   "source": [
    "!wandb login <your_identifier>"
   ],
   "execution_count": 5,
   "outputs": [
    {
     "output_type": "stream",
     "text": [
      "\u001B[34m\u001B[1mwandb\u001B[0m: Appending key for api.wandb.ai to your netrc file: /root/.netrc\n"
     ],
     "name": "stdout"
    }
   ]
  },
  {
   "cell_type": "markdown",
   "metadata": {
    "id": "dsjmw1onrHkY"
   },
   "source": [
    "Load Experiment Tracking with Weights & Biases:"
   ]
  },
  {
   "cell_type": "markdown",
   "metadata": {
    "id": "NQW9rKmwrHkY"
   },
   "source": [
    "## Wandb experiment logging\n",
    "Suggeted [wandb.init logging](https://docs.wandb.com/library/init) to help keep track of experiments:\n",
    "\n",
    "**WANDB_NAME**\n",
    "\n",
    "A specific name for a particular experiment, e.g. \"lsh_2_hash_enwik8\"\n",
    "\n",
    "**GROUP**\n",
    "\n",
    "Group identifiers will help organise and **group experiments together** in the wandb interface. Suggested identifier to use are:\n",
    "\n",
    "- \"TEST\" : for general testing\n",
    "- \"SHARED-QK\" : for Shared Query-Key experiments\n",
    "- \"LSH\" : LSH-related experiemnts\n",
    "- \"REVERSIBLE\" : reversible layers experiments\n",
    "- \"WMT\" : for the WMT task\n",
    "\n",
    "**NOTES**\n",
    "\n",
    "A longer description of the run, like a -m commit message in git. This helps you remember what you were doing when you ran this run.\n",
    "\n",
    "**CONFIG**\n",
    "\n",
    "A dictionary-like object for saving inputs to your job, like hyperparameters for a model or settings for a data preprocessing job. The config will show up in a table in the UI that you can use to group, filter, and sort runs. Keys should not have . in the names, and values should be under 10 MB.\n",
    "\n",
    "**TAGS**\n",
    "\n",
    "A list of strings, which will populate the list of tags on this run in the UI. Tags are useful for organizing runs together, or applying temporary labels like \"baseline\" or \"production\". It's easy to add and remove tags in the UI, or filter down to just runs with a specific tag."
   ]
  },
  {
   "cell_type": "code",
   "metadata": {
    "id": "fAf9o5W9rHkY"
   },
   "source": [
    "import wandb\n",
    "from fastai.callback.wandb import *\n",
    "\n",
    "WANDB_NAME = 'enc_lm_enwik8'\n",
    "GROUP = 'TEST'     # Group to add a run to, e.g. \"LSH\" for LSH experiments, \"REVERSIBLE\" for reversible layers\n",
    "NOTES = 'Testing the encoder LM model works'\n",
    "CONFIG = {}\n",
    "TAGS =['enc_lm','test']"
   ],
   "execution_count": 6,
   "outputs": []
  },
  {
   "cell_type": "markdown",
   "metadata": {
    "id": "5BSh2BpKrHkY"
   },
   "source": [
    "Initialise wandb logging, pleaes **do not change** `project` or `entity` (that that everything gets logged to the same place)"
   ]
  },
  {
   "cell_type": "markdown",
   "metadata": {
    "id": "6lIWg-9LrHkb"
   },
   "source": [
    "# Read & Prepare Data"
   ]
  },
  {
   "cell_type": "code",
   "execution_count": null,
   "outputs": [],
   "source": [
    "# df has columns [text, lens, lens_cum_sum], add a numerical seq_length argument\n",
    "# to the function below if you'd like to split the data into samples with that seq length\n",
    "df = read_and_prepare_data('data/enwik8')"
   ],
   "metadata": {
    "collapsed": false,
    "pycharm": {
     "name": "#%%\n"
    }
   }
  },
  {
   "cell_type": "markdown",
   "metadata": {
    "id": "JSHZhouKrHkb"
   },
   "source": [
    "Load tokenizer"
   ]
  },
  {
   "cell_type": "code",
   "metadata": {
    "id": "dgNCOyHdrHkb"
   },
   "source": [
    "bte = ByteTextTokenizer(is_lm=True, add_bos=True, add_eos=True)"
   ],
   "execution_count": 9,
   "outputs": []
  },
  {
   "cell_type": "code",
   "metadata": {
    "id": "fgAo72a-rHkb"
   },
   "source": [
    "# # Patch the LMDataloader\n",
    "# @patch\n",
    "# def create_item(self:LMDataLoader, seq):\n",
    "#     if seq>=self.n: raise IndexError\n",
    "#     sl = self.last_len if seq//self.bs==self.n_batches-1 else self.seq_len\n",
    "#     st = (seq%self.bs)*self.bl + (seq//self.bs)*self.seq_len\n",
    "#     txt = self.chunks[st : st+sl+1]    \n",
    "#     return LMTensorText(txt[:-1]),txt[1:]\n",
    "#     # return LMTensorText(txt[:-1].tolist()+[1]), LMTensorText(txt[1:].tolist()+[1])   ## ADD EOS TOKEN"
   ],
   "execution_count": 10,
   "outputs": []
  },
  {
   "cell_type": "markdown",
   "metadata": {
    "id": "dgWyWSwsrHkb"
   },
   "source": [
    "Calc splits"
   ]
  },
  {
   "cell_type": "code",
   "metadata": {
    "id": "pf8B9dre4Jop"
   },
   "source": [
    "# Back up the original dataframe\n",
    "df_bckp=df"
   ],
   "execution_count": 11,
   "outputs": []
  },
  {
   "cell_type": "code",
   "metadata": {
    "id": "tlURQqzk4Lvb",
    "colab": {
     "base_uri": "https://localhost:8080/"
    },
    "outputId": "38760ccd-9da1-409a-82a6-c2fddb84308b"
   },
   "source": [
    "# Take 4000 records for sake of performance\n",
    "df=df_bckp[:4000]\n",
    "df.info()"
   ],
   "execution_count": 12,
   "outputs": [
    {
     "output_type": "stream",
     "text": [
      "<class 'pandas.core.frame.DataFrame'>\n",
      "RangeIndex: 4000 entries, 0 to 3999\n",
      "Data columns (total 1 columns):\n",
      " #   Column  Non-Null Count  Dtype \n",
      "---  ------  --------------  ----- \n",
      " 0   text    4000 non-null   object\n",
      "dtypes: object(1)\n",
      "memory usage: 31.4+ KB\n"
     ],
     "name": "stdout"
    }
   ]
  },
  {
   "cell_type": "code",
   "metadata": {
    "id": "rpqfuPk4rHkb"
   },
   "source": [
    "train_cutoff = int(df.lens.sum()*0.5) #- 10000000  # keep all but 10M characters for val and test\n",
    "    \n",
    "train_idxs = df.loc[df['lens_cum_sum'] < train_cutoff].index.values\n",
    "train_idxs = list(range(0, max(train_idxs)))\n",
    "\n",
    "remaining_idxs = len(df) - max(train_idxs)\n",
    "validation_idxs = list(range(max(train_idxs), max(train_idxs) + int(remaining_idxs/2)))\n",
    "test_idxs = list(range(max(validation_idxs), len(df)))\n",
    "\n",
    "splits = [train_idxs, validation_idxs]"
   ],
   "execution_count": 15,
   "outputs": []
  },
  {
   "cell_type": "code",
   "metadata": {
    "id": "0skA7C-v8Z0g",
    "colab": {
     "base_uri": "https://localhost:8080/"
    },
    "outputId": "aa352833-81bb-4998-d45d-bb82577db02b"
   },
   "source": [
    "len(train_idxs),len(validation_idxs)"
   ],
   "execution_count": 16,
   "outputs": [
    {
     "output_type": "execute_result",
     "data": {
      "text/plain": [
       "(2253, 874)"
      ]
     },
     "metadata": {
      "tags": []
     },
     "execution_count": 16
    }
   ]
  },
  {
   "cell_type": "markdown",
   "metadata": {
    "id": "OzsM7S4hrHkb"
   },
   "source": [
    "Get dls"
   ]
  },
  {
   "cell_type": "code",
   "metadata": {
    "id": "dN9CBITSrHkb"
   },
   "source": [
    "# Quick naive split alternative\n",
    "# cut = int(len(df)*0.8)\n",
    "# splits = range_of(df)[:cut], range_of(df[cut:])\n",
    "\n",
    "tfms = [attrgetter(\"text\"), bte]\n",
    "dsets = Datasets(df, [tfms, tfms], splits=splits, dl_type=LMDataLoader)\n",
    "\n",
    "vocab_sz = bte.vocab_size\n",
    "bs,sl = 32,128\n",
    "pad_seq2seq = partial(pad_input, pad_idx=bte.pad_token_id, pad_fields=[0,1])"
   ],
   "execution_count": 17,
   "outputs": []
  },
  {
   "cell_type": "code",
   "metadata": {
    "id": "AjnVuZWQjzpR"
   },
   "source": [
    "## Yappi - Profiler 1\n",
    "#import yappi\n",
    "#yappi.start()"
   ],
   "execution_count": 18,
   "outputs": []
  },
  {
   "cell_type": "code",
   "metadata": {
    "id": "AtcpiwrUsbW2"
   },
   "source": [
    "# Profiler 2\n",
    "#from pyinstrument import Profiler\n",
    "\n",
    "#profiler = Profiler()\n",
    "#profiler.start()"
   ],
   "execution_count": 19,
   "outputs": []
  },
  {
   "cell_type": "code",
   "metadata": {
    "id": "_bIn3NLq2XMU"
   },
   "source": [
    "dls = dsets.dataloaders(bs=bs, seq_len=sl, before_batch=pad_seq2seq)"
   ],
   "execution_count": 20,
   "outputs": []
  },
  {
   "cell_type": "code",
   "metadata": {
    "id": "CYGCDf3Usegt"
   },
   "source": [
    "# Profiler 2\n",
    "#profiler.stop()"
   ],
   "execution_count": 21,
   "outputs": []
  },
  {
   "cell_type": "code",
   "metadata": {
    "id": "3TpGDtHUvCnQ"
   },
   "source": [
    "# Profiler 2\n",
    "#print(profiler.output_text(unicode=True, color=True))"
   ],
   "execution_count": 22,
   "outputs": []
  },
  {
   "cell_type": "code",
   "metadata": {
    "id": "UpPsjVm3j2Qb"
   },
   "source": [
    "## Yappi - Profiler 1\n",
    "#func_stats = yappi.get_func_stats()\n",
    "#func_stats.save('callgrind.out', 'CALLGRIND')\n",
    "#yappi.stop()\n",
    "#yappi.clear_stats()"
   ],
   "execution_count": 23,
   "outputs": []
  },
  {
   "cell_type": "code",
   "metadata": {
    "id": "4s1VRcNLlwc_"
   },
   "source": [
    "## Yappi - Profiler 1\n",
    "#!gprof2dot -f callgrind -n10 -s callgrind.out > valgrind.dot\n",
    "#!dot -Tpng valgrind.dot -o valgrind.png"
   ],
   "execution_count": 24,
   "outputs": []
  },
  {
   "cell_type": "code",
   "metadata": {
    "id": "DQnHRk4cDjw9",
    "colab": {
     "base_uri": "https://localhost:8080/",
     "height": 140
    },
    "outputId": "a20a4525-2f23-4e70-ebe8-4dc7771aefc6"
   },
   "source": [
    "dls.show_batch(max_n=2)"
   ],
   "execution_count": 25,
   "outputs": [
    {
     "output_type": "display_data",
     "data": {
      "text/html": [
       "<table border=\"1\" class=\"dataframe\">\n",
       "  <thead>\n",
       "    <tr style=\"text-align: right;\">\n",
       "      <th></th>\n",
       "      <th>text</th>\n",
       "      <th>text_</th>\n",
       "    </tr>\n",
       "  </thead>\n",
       "  <tbody>\n",
       "    <tr>\n",
       "      <th>0</th>\n",
       "      <td>&lt;bos&gt;      &lt;namespace key=\"11\"&gt;Template talk&lt;/namespace&gt;\\n&lt;eos&gt;&lt;bos&gt;* [http://www.spe.org/society/abudhabi/AbuDhabi-info.htm SPE history, wit</td>\n",
       "      <td>&lt;namespace key=\"11\"&gt;Template talk&lt;/namespace&gt;\\n&lt;eos&gt;&lt;bos&gt;* [http://www.spe.org/society/abudhabi/AbuDhabi-info.htm SPE history, with</td>\n",
       "    </tr>\n",
       "    <tr>\n",
       "      <th>1</th>\n",
       "      <td>or abnormal functioning in at least one of the following areas, with onset prior to age 3 years: (1) social interaction, (2) la</td>\n",
       "      <td>or abnormal functioning in at least one of the following areas, with onset prior to age 3 years: (1) social interaction, (2) lan</td>\n",
       "    </tr>\n",
       "  </tbody>\n",
       "</table>"
      ],
      "text/plain": [
       "<IPython.core.display.HTML object>"
      ]
     },
     "metadata": {
      "tags": []
     }
    }
   ]
  },
  {
   "cell_type": "code",
   "metadata": {
    "id": "0yfhrOFtrHkc",
    "colab": {
     "base_uri": "https://localhost:8080/"
    },
    "outputId": "32ffb9af-3fcb-4c92-93c7-e84e4b1ba289"
   },
   "source": [
    "xb, yb = dls.one_batch()\n",
    "xb.shape, yb.shape"
   ],
   "execution_count": 26,
   "outputs": [
    {
     "output_type": "execute_result",
     "data": {
      "text/plain": [
       "((32, 128), (32, 128))"
      ]
     },
     "metadata": {
      "tags": []
     },
     "execution_count": 26
    }
   ]
  },
  {
   "cell_type": "code",
   "metadata": {
    "id": "mmiyNrZCrHkd"
   },
   "source": [
    "vocab_sz = bte.vocab_size"
   ],
   "execution_count": 27,
   "outputs": []
  },
  {
   "cell_type": "markdown",
   "metadata": {
    "id": "iAHrj8xsrHkd"
   },
   "source": [
    "# Begin Experiment Training"
   ]
  },
  {
   "cell_type": "code",
   "metadata": {
    "id": "UCfc4LIbycYK"
   },
   "source": [
    "from fastai.callback.wandb import *"
   ],
   "execution_count": 28,
   "outputs": []
  },
  {
   "cell_type": "code",
   "metadata": {
    "id": "ZRGplPrYzJob",
    "colab": {
     "base_uri": "https://localhost:8080/"
    },
    "outputId": "56de52d3-2b25-41c2-8f98-23eb1b483af2"
   },
   "source": [
    "wandb.login()"
   ],
   "execution_count": 29,
   "outputs": [
    {
     "output_type": "stream",
     "text": [
      "\u001B[34m\u001B[1mwandb\u001B[0m: Currently logged in as: \u001B[33mfastai_community\u001B[0m (use `wandb login --relogin` to force relogin)\n"
     ],
     "name": "stderr"
    },
    {
     "output_type": "execute_result",
     "data": {
      "text/plain": [
       "True"
      ]
     },
     "metadata": {
      "tags": []
     },
     "execution_count": 29
    }
   ]
  },
  {
   "cell_type": "code",
   "metadata": {
    "id": "tigjgHsVzJmT",
    "colab": {
     "base_uri": "https://localhost:8080/",
     "height": 581
    },
    "outputId": "621c168a-136e-43e6-b378-c7491fcb8d5e"
   },
   "source": [
    "wandb.init(reinit=True, project=\"reformer-fastai\", name=WANDB_NAME, group=GROUP, notes=NOTES,  tags=TAGS)"
   ],
   "execution_count": 41,
   "outputs": [
    {
     "output_type": "display_data",
     "data": {
      "text/html": [
       "\n",
       "                Tracking run with wandb version 0.10.12<br/>\n",
       "                Syncing run <strong style=\"color:#cdcd00\">enc_lm_enwik8</strong> to <a href=\"https://wandb.ai\" target=\"_blank\">Weights & Biases</a> <a href=\"https://docs.wandb.com/integrations/jupyter.html\" target=\"_blank\">(Documentation)</a>.<br/>\n",
       "                Project page: <a href=\"https://wandb.ai/fastai_community/reformer-fastai\" target=\"_blank\">https://wandb.ai/fastai_community/reformer-fastai</a><br/>\n",
       "                Run page: <a href=\"https://wandb.ai/fastai_community/reformer-fastai/runs/8yw09jmb\" target=\"_blank\">https://wandb.ai/fastai_community/reformer-fastai/runs/8yw09jmb</a><br/>\n",
       "                Run data is saved locally in <code>/content/wandb/run-20201204_184931-8yw09jmb</code><br/><br/>\n",
       "            "
      ],
      "text/plain": [
       "<IPython.core.display.HTML object>"
      ]
     },
     "metadata": {
      "tags": []
     }
    },
    {
     "output_type": "execute_result",
     "data": {
      "text/plain": [
       "<wandb.sdk.wandb_run.Run at 0x7fc98d31cac8>"
      ],
      "text/html": [
       "<h1>Run(8yw09jmb)</h1><p></p><iframe src=\"https://wandb.ai/fastai_community/reformer-fastai/runs/8yw09jmb\" style=\"border:none;width:100%;height:400px\"></iframe>"
      ]
     },
     "metadata": {
      "tags": []
     },
     "execution_count": 41
    }
   ]
  },
  {
   "cell_type": "code",
   "metadata": {
    "id": "X_acMmiTEo60"
   },
   "source": [
    "import math\n",
    "\n",
    "class BPC(AvgLoss):\n",
    "    \"Bit per character for Language Models\"\n",
    "    @property\n",
    "    def value(self): return (self.total/self.count*math.log(2)) if self.count != 0 else None\n",
    "    @property\n",
    "    def name(self):  return \"bpc\""
   ],
   "execution_count": 45,
   "outputs": []
  },
  {
   "cell_type": "code",
   "metadata": {
    "id": "HzaKSXYXrHkd"
   },
   "source": [
    "learn = Learner(dls, TransformerLM(vocab_sz, 512),\n",
    "                loss_func=CrossEntropyLossFlat(),\n",
    "                metrics=[accuracy, BPC()])#.to_native_fp16()"
   ],
   "execution_count": 46,
   "outputs": []
  },
  {
   "cell_type": "code",
   "metadata": {
    "id": "rg8IMkTVrHkd",
    "colab": {
     "base_uri": "https://localhost:8080/",
     "height": 300
    },
    "outputId": "2569fc5c-6274-428e-d1a5-5aca2970af73"
   },
   "source": [
    "learn.lr_find()"
   ],
   "execution_count": 39,
   "outputs": [
    {
     "output_type": "display_data",
     "data": {
      "text/html": [
       ""
      ],
      "text/plain": [
       "<IPython.core.display.HTML object>"
      ]
     },
     "metadata": {
      "tags": []
     }
    },
    {
     "output_type": "execute_result",
     "data": {
      "text/plain": [
       "SuggestedLRs(lr_min=0.0033113110810518267, lr_steep=0.00013182566908653826)"
      ]
     },
     "metadata": {
      "tags": []
     },
     "execution_count": 39
    },
    {
     "output_type": "display_data",
     "data": {
      "image/png": "[encoded data removed]",
      "text/plain": [
       "<Figure size 432x288 with 1 Axes>"
      ]
     },
     "metadata": {
      "tags": [],
      "needs_background": "light"
     }
    }
   ]
  },
  {
   "cell_type": "code",
   "metadata": {
    "id": "MLVZVGflrHkd",
    "colab": {
     "base_uri": "https://localhost:8080/",
     "height": 123
    },
    "outputId": "46cac38f-756f-4aee-c568-6f28bf248225"
   },
   "source": [
    "learn.fit_one_cycle(2, 5e-4, wd=0.05,cbs=WandbCallback(log_model=False))"
   ],
   "execution_count": 47,
   "outputs": [
    {
     "output_type": "display_data",
     "data": {
      "text/html": [
       "<table border=\"1\" class=\"dataframe\">\n",
       "  <thead>\n",
       "    <tr style=\"text-align: left;\">\n",
       "      <th>epoch</th>\n",
       "      <th>train_loss</th>\n",
       "      <th>valid_loss</th>\n",
       "      <th>accuracy</th>\n",
       "      <th>bpc</th>\n",
       "      <th>time</th>\n",
       "    </tr>\n",
       "  </thead>\n",
       "  <tbody>\n",
       "    <tr>\n",
       "      <td>0</td>\n",
       "      <td>3.791747</td>\n",
       "      <td>3.692107</td>\n",
       "      <td>0.132286</td>\n",
       "      <td>2.559174</td>\n",
       "      <td>00:10</td>\n",
       "    </tr>\n",
       "    <tr>\n",
       "      <td>1</td>\n",
       "      <td>3.605927</td>\n",
       "      <td>3.687805</td>\n",
       "      <td>0.132286</td>\n",
       "      <td>2.556192</td>\n",
       "      <td>00:11</td>\n",
       "    </tr>\n",
       "  </tbody>\n",
       "</table>"
      ],
      "text/plain": [
       "<IPython.core.display.HTML object>"
      ]
     },
     "metadata": {
      "tags": []
     }
    },
    {
     "output_type": "stream",
     "text": [
      "WandbCallback was not able to get prediction samples -> wandb.log must be passed a dictionary\n"
     ],
     "name": "stdout"
    }
   ]
  },
  {
   "cell_type": "code",
   "metadata": {
    "id": "R2XCNjZvYclQ"
   },
   "source": [
    "class Adafactor(torch.optim.Optimizer):\n",
    "    \"\"\"Implements Adafactor algorithm.\n",
    "\n",
    "    This implementation is based on:\n",
    "    `Adafactor: Adaptive Learning Rates with Sublinear Memory Cost`\n",
    "    (see https://arxiv.org/abs/1804.04235)\n",
    "\n",
    "    Note that this optimizer internally adjusts the learning rate\n",
    "    depending on the *scale_parameter*, *relative_step* and\n",
    "    *warmup_init* options. To use a manual (external) learning rate\n",
    "    schedule you should set `scale_parameter=False` and\n",
    "    `relative_step=False`.\n",
    "\n",
    "    Arguments:\n",
    "        params (iterable): iterable of parameters to optimize or dicts defining\n",
    "            parameter groups\n",
    "        lr (float, optional): external learning rate (default: None)\n",
    "        eps (tuple[float, float]): regularization constans for square gradient\n",
    "            and parameter scale respectively (default: (1e-30, 1e-3))\n",
    "        clip_threshold (float): threshold of root mean square of\n",
    "            final gradient update (default: 1.0)\n",
    "        decay_rate (float): coefficient used to compute running averages of square\n",
    "            gradient (default: -0.8)\n",
    "        mom (float): coefficient used for computing running averages of gradient\n",
    "            (default: None)\n",
    "        weight_decay (float, optional): weight decay (L2 penalty) (default: 0)\n",
    "        scale_parameter (bool): if True, learning rate is scaled by root mean square of\n",
    "            parameter (default: True)\n",
    "        relative_step (bool): if True, time-dependent learning rate is computed\n",
    "            instead of external learning rate (default: True)\n",
    "        warmup_init (bool): time-dependent learning rate computation depends on\n",
    "            whether warm-up initialization is being used (default: False)\n",
    "    \"\"\"\n",
    "\n",
    "    def __init__(\n",
    "        self,\n",
    "        params,\n",
    "        lr=None,\n",
    "        eps=(1e-30, 1e-3),\n",
    "        clip_threshold=1.0,\n",
    "        decay_rate=-0.8,\n",
    "        mom=None,\n",
    "        weight_decay=0.0,\n",
    "        scale_parameter=True,\n",
    "        relative_step=True,\n",
    "        warmup_init=False,\n",
    "    ):\n",
    "        if lr is not None and relative_step:\n",
    "            raise ValueError(\"Cannot combine manual lr and relative_step options\")\n",
    "        if warmup_init and not relative_step:\n",
    "            raise ValueError(\"warmup_init requires relative_step=True\")\n",
    "\n",
    "        defaults = dict(\n",
    "            lr=lr,\n",
    "            eps=eps,\n",
    "            clip_threshold=clip_threshold,\n",
    "            decay_rate=decay_rate,\n",
    "            mom=mom,\n",
    "            weight_decay=weight_decay,\n",
    "            scale_parameter=scale_parameter,\n",
    "            relative_step=relative_step,\n",
    "            warmup_init=warmup_init,\n",
    "        )\n",
    "        super(Adafactor, self).__init__(params, defaults)\n",
    "\n",
    "    @property\n",
    "    def supports_memory_efficient_fp16(self):\n",
    "        return True\n",
    "\n",
    "    @property\n",
    "    def supports_flat_params(self):\n",
    "        return False\n",
    "\n",
    "    def _get_lr(self, param_group, param_state):\n",
    "        rel_step_sz = param_group[\"lr\"]\n",
    "        if param_group[\"relative_step\"]:\n",
    "            min_step = (\n",
    "                1e-6 * param_state[\"step\"] if param_group[\"warmup_init\"] else 1e-2\n",
    "            )\n",
    "            rel_step_sz = min(min_step, 1.0 / math.sqrt(param_state[\"step\"]))\n",
    "        param_scale = 1.0\n",
    "        if param_group[\"scale_parameter\"]:\n",
    "            param_scale = max(param_group[\"eps\"][1], param_state[\"RMS\"])\n",
    "        return param_scale * rel_step_sz\n",
    "\n",
    "    def _get_options(self, param_group, param_shape):\n",
    "        factored = len(param_shape) >= 2\n",
    "        use_first_moment = param_group[\"mom\"] is not None\n",
    "        return factored, use_first_moment\n",
    "\n",
    "    def _rms(self, tensor):\n",
    "        return tensor.norm(2) / (tensor.numel() ** 0.5)\n",
    "\n",
    "    def _approx_sq_grad(self, exp_avg_sq_row, exp_avg_sq_col):\n",
    "        r_factor = (\n",
    "            (exp_avg_sq_row / exp_avg_sq_row.mean(dim=-1, keepdim=True))\n",
    "            .rsqrt_()\n",
    "            .unsqueeze(-1)\n",
    "        )\n",
    "        c_factor = exp_avg_sq_col.unsqueeze(-2).rsqrt()\n",
    "        return torch.mul(r_factor, c_factor)\n",
    "\n",
    "    def step(self, closure=None):\n",
    "        \"\"\"Performs a single optimization step.\n",
    "\n",
    "        Arguments:\n",
    "            closure (callable, optional): A closure that reevaluates the model\n",
    "                and returns the loss.\n",
    "        \"\"\"\n",
    "        loss = None\n",
    "        if closure is not None:\n",
    "            loss = closure()\n",
    "\n",
    "        for group in self.param_groups:\n",
    "            for p in group[\"params\"]:\n",
    "                if p.grad is None:\n",
    "                    continue\n",
    "                grad = p.grad.data\n",
    "                if grad.dtype in {torch.float16, torch.bfloat16}:\n",
    "                    grad = grad.float()\n",
    "                if grad.is_sparse:\n",
    "                    raise RuntimeError(\"Adafactor does not support sparse gradients.\")\n",
    "\n",
    "                state = self.state[p]\n",
    "                grad_shape = grad.shape\n",
    "\n",
    "                factored, use_first_moment = self._get_options(group, grad_shape)\n",
    "                # State Initialization\n",
    "                if len(state) == 0:\n",
    "                    state[\"step\"] = 0\n",
    "\n",
    "                    if use_first_moment:\n",
    "                        # Exponential moving average of gradient values\n",
    "                        state[\"exp_avg\"] = torch.zeros_like(grad)\n",
    "                    if factored:\n",
    "                        state[\"exp_avg_sq_row\"] = torch.zeros(grad_shape[:-1]).to(grad)\n",
    "                        state[\"exp_avg_sq_col\"] = torch.zeros(\n",
    "                            grad_shape[:-2] + grad_shape[-1:]\n",
    "                        ).to(grad)\n",
    "                    else:\n",
    "                        state[\"exp_avg_sq\"] = torch.zeros_like(grad)\n",
    "\n",
    "                    state[\"RMS\"] = 0\n",
    "                else:\n",
    "                    if use_first_moment:\n",
    "                        state[\"exp_avg\"] = state[\"exp_avg\"].to(grad)\n",
    "                    if factored:\n",
    "                        state[\"exp_avg_sq_row\"] = state[\"exp_avg_sq_row\"].to(grad)\n",
    "                        state[\"exp_avg_sq_col\"] = state[\"exp_avg_sq_col\"].to(grad)\n",
    "                    else:\n",
    "                        state[\"exp_avg_sq\"] = state[\"exp_avg_sq\"].to(grad)\n",
    "\n",
    "                p_data_fp32 = p.data\n",
    "                if p.data.dtype in {torch.float16, torch.bfloat16}:\n",
    "                    p_data_fp32 = p_data_fp32.float()\n",
    "\n",
    "                state[\"step\"] += 1\n",
    "                state[\"RMS\"] = self._rms(p_data_fp32)\n",
    "                group[\"lr\"] = self._get_lr(group, state)\n",
    "\n",
    "                beta2t = 1.0 - math.pow(state[\"step\"], group[\"decay_rate\"])\n",
    "                update = (grad ** 2) + group[\"eps\"][0]\n",
    "                if factored:\n",
    "                    exp_avg_sq_row = state[\"exp_avg_sq_row\"]\n",
    "                    exp_avg_sq_col = state[\"exp_avg_sq_col\"]\n",
    "\n",
    "                    exp_avg_sq_row.mul_(beta2t).add_(\n",
    "                        update.mean(dim=-1), alpha=1.0 - beta2t\n",
    "                    )\n",
    "                    exp_avg_sq_col.mul_(beta2t).add_(\n",
    "                        update.mean(dim=-2), alpha=1.0 - beta2t\n",
    "                    )\n",
    "\n",
    "                    # Approximation of exponential moving average of square of gradient\n",
    "                    update = self._approx_sq_grad(exp_avg_sq_row, exp_avg_sq_col)\n",
    "                    update.mul_(grad)\n",
    "                else:\n",
    "                    exp_avg_sq = state[\"exp_avg_sq\"]\n",
    "\n",
    "                    exp_avg_sq.mul_(beta2t).add_(update, alpha=1.0 - beta2t)\n",
    "                    update = exp_avg_sq.rsqrt().mul_(grad)\n",
    "\n",
    "                update.div_(\n",
    "                    (self._rms(update) / group[\"clip_threshold\"]).clamp_(min=1.0)\n",
    "                )\n",
    "                update.mul_(group[\"lr\"])\n",
    "\n",
    "                if use_first_moment:\n",
    "                    exp_avg = state[\"exp_avg\"]\n",
    "                    exp_avg.mul_(group[\"mom\"]).add_(update, alpha=1 - group[\"mom\"])\n",
    "                    update = exp_avg\n",
    "\n",
    "                if group[\"weight_decay\"] != 0:\n",
    "                    p_data_fp32.add_(\n",
    "                        p_data_fp32, alpha=-group[\"weight_decay\"] * group[\"lr\"]\n",
    "                    )\n",
    "\n",
    "                p_data_fp32.add_(-update)\n",
    "\n",
    "                if p.data.dtype in {torch.float16, torch.bfloat16}:\n",
    "                    p.data.copy_(p_data_fp32)\n",
    "\n",
    "        return loss"
   ],
   "execution_count": null,
   "outputs": []
  },
  {
   "cell_type": "code",
   "metadata": {
    "id": "7hciLYzYYf0k"
   },
   "source": [
    "@delegates(Adafactor.__init__)\n",
    "def pytorch_Adafactor(param_groups, **kwargs):\n",
    "    return OptimWrapper(Adafactor([{'params': ps, **kwargs} for ps in param_groups]))\n"
   ],
   "execution_count": null,
   "outputs": []
  },
  {
   "cell_type": "code",
   "metadata": {
    "id": "Y8WwoGmbYg2K",
    "colab": {
     "base_uri": "https://localhost:8080/"
    },
    "outputId": "ced30e13-ea22-4e6e-d186-cfd4c8e03eef"
   },
   "source": [
    "learn = Learner(dls, TransformerLM(vocab_sz, 512),\n",
    "                loss_func=CrossEntropyLossFlat(),\n",
    "                metrics=[accuracy, Perplexity()])#.to_native_fp16()\n",
    "learn.opt_func=partial(pytorch_Adafactor, weight_decay=0.0)\n",
    "learn.opt_func"
   ],
   "execution_count": null,
   "outputs": [
    {
     "output_type": "execute_result",
     "data": {
      "text/plain": [
       "functools.partial(<function pytorch_Adafactor at 0x7f55847c2048>, weight_decay=0.0)"
      ]
     },
     "metadata": {
      "tags": []
     },
     "execution_count": 58
    }
   ]
  },
  {
   "cell_type": "code",
   "metadata": {
    "id": "4B_FB3spYiVS",
    "colab": {
     "base_uri": "https://localhost:8080/",
     "height": 130
    },
    "outputId": "6f351d6a-09d2-4413-a42b-7a5eb98d25ca"
   },
   "source": [
    "learn.fit_one_cycle(2, 5e-4,cbs=WandbCallback(log_model=False))"
   ],
   "execution_count": null,
   "outputs": [
    {
     "output_type": "display_data",
     "data": {
      "text/html": [
       "<table border=\"1\" class=\"dataframe\">\n",
       "  <thead>\n",
       "    <tr style=\"text-align: left;\">\n",
       "      <th>epoch</th>\n",
       "      <th>train_loss</th>\n",
       "      <th>valid_loss</th>\n",
       "      <th>accuracy</th>\n",
       "      <th>perplexity</th>\n",
       "      <th>time</th>\n",
       "    </tr>\n",
       "  </thead>\n",
       "  <tbody>\n",
       "    <tr>\n",
       "      <td>0</td>\n",
       "      <td>4.051103</td>\n",
       "      <td>3.363344</td>\n",
       "      <td>0.209741</td>\n",
       "      <td>28.885628</td>\n",
       "      <td>00:13</td>\n",
       "    </tr>\n",
       "    <tr>\n",
       "      <td>1</td>\n",
       "      <td>3.300203</td>\n",
       "      <td>3.008500</td>\n",
       "      <td>0.234016</td>\n",
       "      <td>20.256989</td>\n",
       "      <td>00:13</td>\n",
       "    </tr>\n",
       "  </tbody>\n",
       "</table>"
      ],
      "text/plain": [
       "<IPython.core.display.HTML object>"
      ]
     },
     "metadata": {
      "tags": []
     }
    },
    {
     "output_type": "stream",
     "text": [
      "WandbCallback was not able to get prediction samples -> wandb.log must be passed a dictionary\n"
     ],
     "name": "stdout"
    }
   ]
  },
  {
   "cell_type": "code",
   "metadata": {
    "id": "5B-hR_XpYm8w"
   },
   "source": [
    ""
   ],
   "execution_count": null,
   "outputs": []
  }
 ]
}